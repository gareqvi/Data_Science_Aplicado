{
 "cells": [
  {
   "cell_type": "markdown",
   "metadata": {},
   "source": [
    "# 'DATOS ALERCE'"
   ]
  },
  {
   "cell_type": "code",
   "execution_count": 182,
   "metadata": {},
   "outputs": [],
   "source": [
    "%matplotlib notebook"
   ]
  },
  {
   "cell_type": "code",
   "execution_count": 89,
   "metadata": {},
   "outputs": [],
   "source": [
    "import warnings\n",
    "warnings.filterwarnings('ignore')\n",
    "import pandas as pd\n",
    "import numpy as np\n",
    "import matplotlib.pyplot as plt\n",
    "import seaborn as sns\n",
    "from skmultiflow.data import WaveformGenerator\n",
    "from skmultiflow.trees import HoeffdingTree\n",
    "from skmultiflow.evaluation import EvaluatePrequential\n",
    "import matplotlib.pyplot as plt\n",
    "from sklearn.naive_bayes import GaussianNB\n",
    "from skmultiflow.meta import OzaBagging\n",
    "from joblib import Parallel, delayed"
   ]
  },
  {
   "cell_type": "markdown",
   "metadata": {},
   "source": [
    "# Vector objetivo:"
   ]
  },
  {
   "cell_type": "code",
   "execution_count": 5,
   "metadata": {
    "scrolled": false
   },
   "outputs": [
    {
     "name": "stdout",
     "output_type": "stream",
     "text": [
      "<class 'pandas.core.frame.DataFrame'>\n",
      "Int64Index: 38702 entries, 396567 to 537156\n",
      "Data columns (total 1 columns):\n",
      " #   Column       Non-Null Count  Dtype \n",
      "---  ------       --------------  ----- \n",
      " 0   classALeRCE  38702 non-null  object\n",
      "dtypes: object(1)\n",
      "memory usage: 604.7+ KB\n"
     ]
    }
   ],
   "source": [
    "train_labels = pd.read_csv('train_labels.csv', sep=',', na_values=['infinity'])\n",
    "train_labels.set_index('challenge_oid', inplace=True)\n",
    "train_labels.index.name = 'oid'\n",
    "train_labels.info()"
   ]
  },
  {
   "cell_type": "code",
   "execution_count": 6,
   "metadata": {},
   "outputs": [],
   "source": [
    "df_stream = pd.read_csv('train_labels.csv')"
   ]
  },
  {
   "cell_type": "code",
   "execution_count": 7,
   "metadata": {},
   "outputs": [
    {
     "data": {
      "text/html": [
       "<div>\n",
       "<style scoped>\n",
       "    .dataframe tbody tr th:only-of-type {\n",
       "        vertical-align: middle;\n",
       "    }\n",
       "\n",
       "    .dataframe tbody tr th {\n",
       "        vertical-align: top;\n",
       "    }\n",
       "\n",
       "    .dataframe thead th {\n",
       "        text-align: right;\n",
       "    }\n",
       "</style>\n",
       "<table border=\"1\" class=\"dataframe\">\n",
       "  <thead>\n",
       "    <tr style=\"text-align: right;\">\n",
       "      <th></th>\n",
       "      <th>challenge_oid</th>\n",
       "      <th>classALeRCE</th>\n",
       "    </tr>\n",
       "  </thead>\n",
       "  <tbody>\n",
       "    <tr>\n",
       "      <th>0</th>\n",
       "      <td>396567</td>\n",
       "      <td>LPV</td>\n",
       "    </tr>\n",
       "    <tr>\n",
       "      <th>1</th>\n",
       "      <td>259922</td>\n",
       "      <td>RRL</td>\n",
       "    </tr>\n",
       "    <tr>\n",
       "      <th>2</th>\n",
       "      <td>277015</td>\n",
       "      <td>RRL</td>\n",
       "    </tr>\n",
       "    <tr>\n",
       "      <th>3</th>\n",
       "      <td>94493</td>\n",
       "      <td>LPV</td>\n",
       "    </tr>\n",
       "    <tr>\n",
       "      <th>4</th>\n",
       "      <td>647304</td>\n",
       "      <td>EB</td>\n",
       "    </tr>\n",
       "  </tbody>\n",
       "</table>\n",
       "</div>"
      ],
      "text/plain": [
       "   challenge_oid classALeRCE\n",
       "0         396567         LPV\n",
       "1         259922         RRL\n",
       "2         277015         RRL\n",
       "3          94493         LPV\n",
       "4         647304          EB"
      ]
     },
     "execution_count": 7,
     "metadata": {},
     "output_type": "execute_result"
    }
   ],
   "source": [
    "df_stream.head()\n"
   ]
  },
  {
   "cell_type": "code",
   "execution_count": 12,
   "metadata": {
    "scrolled": true
   },
   "outputs": [],
   "source": [
    "#df_stream.to_excel('output21.xlsx')"
   ]
  },
  {
   "cell_type": "code",
   "execution_count": 8,
   "metadata": {
    "scrolled": true
   },
   "outputs": [
    {
     "name": "stdout",
     "output_type": "stream",
     "text": [
      "<class 'pandas.core.frame.DataFrame'>\n",
      "Int64Index: 38702 entries, 396567 to 537156\n",
      "Data columns (total 1 columns):\n",
      " #   Column       Non-Null Count  Dtype \n",
      "---  ------       --------------  ----- \n",
      " 0   classALeRCE  38702 non-null  object\n",
      "dtypes: object(1)\n",
      "memory usage: 604.7+ KB\n"
     ]
    }
   ],
   "source": [
    "train_labels = pd.DataFrame(train_labels)\n",
    "train_labels.info()"
   ]
  },
  {
   "cell_type": "code",
   "execution_count": 9,
   "metadata": {
    "scrolled": true
   },
   "outputs": [
    {
     "data": {
      "text/html": [
       "<div>\n",
       "<style scoped>\n",
       "    .dataframe tbody tr th:only-of-type {\n",
       "        vertical-align: middle;\n",
       "    }\n",
       "\n",
       "    .dataframe tbody tr th {\n",
       "        vertical-align: top;\n",
       "    }\n",
       "\n",
       "    .dataframe thead th {\n",
       "        text-align: right;\n",
       "    }\n",
       "</style>\n",
       "<table border=\"1\" class=\"dataframe\">\n",
       "  <thead>\n",
       "    <tr style=\"text-align: right;\">\n",
       "      <th></th>\n",
       "      <th>classALeRCE</th>\n",
       "    </tr>\n",
       "    <tr>\n",
       "      <th>oid</th>\n",
       "      <th></th>\n",
       "    </tr>\n",
       "  </thead>\n",
       "  <tbody>\n",
       "    <tr>\n",
       "      <th>396567</th>\n",
       "      <td>LPV</td>\n",
       "    </tr>\n",
       "    <tr>\n",
       "      <th>259922</th>\n",
       "      <td>RRL</td>\n",
       "    </tr>\n",
       "    <tr>\n",
       "      <th>277015</th>\n",
       "      <td>RRL</td>\n",
       "    </tr>\n",
       "    <tr>\n",
       "      <th>94493</th>\n",
       "      <td>LPV</td>\n",
       "    </tr>\n",
       "    <tr>\n",
       "      <th>647304</th>\n",
       "      <td>EB</td>\n",
       "    </tr>\n",
       "  </tbody>\n",
       "</table>\n",
       "</div>"
      ],
      "text/plain": [
       "       classALeRCE\n",
       "oid               \n",
       "396567         LPV\n",
       "259922         RRL\n",
       "277015         RRL\n",
       "94493          LPV\n",
       "647304          EB"
      ]
     },
     "execution_count": 9,
     "metadata": {},
     "output_type": "execute_result"
    }
   ],
   "source": [
    "train_labels.head()"
   ]
  },
  {
   "cell_type": "code",
   "execution_count": 10,
   "metadata": {
    "scrolled": false
   },
   "outputs": [
    {
     "data": {
      "text/plain": [
       "array(['LPV', 'RRL', 'EB', 'QSO', 'YSO', 'CV/Nova', 'Blazar', 'DSCT',\n",
       "       'Ceph', 'AGN', 'SNIa', 'Periodic-Other', 'SNII', 'SNIbc'],\n",
       "      dtype=object)"
      ]
     },
     "execution_count": 10,
     "metadata": {},
     "output_type": "execute_result"
    }
   ],
   "source": [
    "train_labels.classALeRCE.unique()"
   ]
  },
  {
   "cell_type": "code",
   "execution_count": 11,
   "metadata": {},
   "outputs": [
    {
     "data": {
      "text/plain": [
       "array(['LPV', 'RRL', 'EB', 'QSO', 'YSO', 'CV/Nova', 'Blazar', 'DSCT',\n",
       "       'Ceph', 'AGN', 'SNIa', 'Periodic-Other', 'SNII', 'SNIbc'],\n",
       "      dtype=object)"
      ]
     },
     "execution_count": 11,
     "metadata": {},
     "output_type": "execute_result"
    }
   ],
   "source": [
    "train_labels.classALeRCE.unique()"
   ]
  },
  {
   "cell_type": "code",
   "execution_count": 12,
   "metadata": {},
   "outputs": [
    {
     "data": {
      "text/plain": [
       "EB                11383\n",
       "LPV               10297\n",
       "RRL               10159\n",
       "QSO                3814\n",
       "AGN                 805\n",
       "YSO                 514\n",
       "Periodic-Other      340\n",
       "Blazar              335\n",
       "SNIa                272\n",
       "CV/Nova             270\n",
       "DSCT                225\n",
       "Ceph                193\n",
       "SNII                 78\n",
       "SNIbc                17\n",
       "Name: classALeRCE, dtype: int64"
      ]
     },
     "execution_count": 12,
     "metadata": {},
     "output_type": "execute_result"
    }
   ],
   "source": [
    "train_labels['classALeRCE'].value_counts()"
   ]
  },
  {
   "cell_type": "code",
   "execution_count": 13,
   "metadata": {
    "scrolled": false
   },
   "outputs": [
    {
     "name": "stdout",
     "output_type": "stream",
     "text": [
      "['LPV' 'RRL' 'EB' 'QSO' 'YSO' 'CV/Nova' 'Blazar' 'DSCT' 'Ceph' 'AGN'\n",
      " 'SNIa' 'Periodic-Other' 'SNII' 'SNIbc']\n"
     ]
    }
   ],
   "source": [
    "first_labels=train_labels.copy()\n",
    "print(train_labels.classALeRCE.unique())\n"
   ]
  },
  {
   "cell_type": "code",
   "execution_count": 16,
   "metadata": {},
   "outputs": [],
   "source": [
    "#pos=np.where(np.logical_or(first_labels==\"LPV\",np.logical_or(first_labels==\"AGN\",np.logical_or(first_labels==\"YSO\",np.logical_or(first_labels==\"QSO\",np.logical_or(first_labels==\"CV/Nova\",first_labels==\"Blazar\"))))))\n",
    "#first_labels.classALeRCE[first_labels.index[pos[0]]]=\"Stochastic\"\n",
    "#pos=np.where(np.logical_or(first_labels==\"RRL\",np.logical_or(first_labels==\"EB\",np.logical_or(first_labels==\"DSCT\",np.logical_or(first_labels==\"Periodic-Other\",first_labels==\"Ceph\")))))\n",
    "#first_labels.classALeRCE[first_labels.index[pos[0]]]=\"Periodic\"\n",
    "#pos=np.where(np.logical_or(first_labels==\"SNIa\",np.logical_or(first_labels==\"SNII\",first_labels==\"SNIbc\")))\n",
    "#first_labels.classALeRCE[first_labels.index[pos[0]]]=\"Transient\"\n",
    "#print(first_labels.classALeRCE.unique())\n",
    "#print(train_labels.classALeRCE.unique())"
   ]
  },
  {
   "cell_type": "code",
   "execution_count": 14,
   "metadata": {},
   "outputs": [
    {
     "name": "stdout",
     "output_type": "stream",
     "text": [
      "[1 2 3]\n",
      "['LPV' 'RRL' 'EB' 'QSO' 'YSO' 'CV/Nova' 'Blazar' 'DSCT' 'Ceph' 'AGN'\n",
      " 'SNIa' 'Periodic-Other' 'SNII' 'SNIbc']\n"
     ]
    }
   ],
   "source": [
    "pos=np.where(np.logical_or(first_labels==\"LPV\",np.logical_or(first_labels==\"AGN\",np.logical_or(first_labels==\"YSO\",np.logical_or(first_labels==\"QSO\",np.logical_or(first_labels==\"CV/Nova\",first_labels==\"Blazar\"))))))\n",
    "first_labels.classALeRCE[first_labels.index[pos[0]]]=1\n",
    "pos=np.where(np.logical_or(first_labels==\"RRL\",np.logical_or(first_labels==\"EB\",np.logical_or(first_labels==\"DSCT\",np.logical_or(first_labels==\"Periodic-Other\",first_labels==\"Ceph\")))))\n",
    "first_labels.classALeRCE[first_labels.index[pos[0]]]=2\n",
    "pos=np.where(np.logical_or(first_labels==\"SNIa\",np.logical_or(first_labels==\"SNII\",first_labels==\"SNIbc\")))\n",
    "first_labels.classALeRCE[first_labels.index[pos[0]]]=3\n",
    "print(first_labels.classALeRCE.unique())\n",
    "print(train_labels.classALeRCE.unique())"
   ]
  },
  {
   "cell_type": "code",
   "execution_count": 15,
   "metadata": {},
   "outputs": [
    {
     "data": {
      "text/plain": [
       "3"
      ]
     },
     "execution_count": 15,
     "metadata": {},
     "output_type": "execute_result"
    }
   ],
   "source": [
    "\n",
    "2#periodic = [\"RRL\", \"EB\", \"DSCT\", \"Ceph\", \"Periodic-Other\"]\n",
    "1#stochastic = [\"AGN\", \"QSO\", \"YSO\", \"CV/Nova\", \"LPV\", \"Blazar\"]\n",
    "3#transient = [\"SNIa\", \"SNII\", \"SNIbc\"]"
   ]
  },
  {
   "cell_type": "code",
   "execution_count": 16,
   "metadata": {},
   "outputs": [
    {
     "name": "stdout",
     "output_type": "stream",
     "text": [
      "['LPV' 'RRL' 'EB' 'QSO' 'YSO' 'CV/Nova' 'Blazar' 'DSCT' 'Ceph' 'AGN'\n",
      " 'SNIa' 'Periodic-Other' 'SNII' 'SNIbc']\n"
     ]
    }
   ],
   "source": [
    "print(train_labels.classALeRCE.unique())"
   ]
  },
  {
   "cell_type": "code",
   "execution_count": 17,
   "metadata": {
    "scrolled": false
   },
   "outputs": [
    {
     "name": "stdout",
     "output_type": "stream",
     "text": [
      "[1 2 3]\n"
     ]
    }
   ],
   "source": [
    "print(first_labels.classALeRCE.unique())"
   ]
  },
  {
   "cell_type": "code",
   "execution_count": 18,
   "metadata": {
    "scrolled": false
   },
   "outputs": [
    {
     "data": {
      "text/html": [
       "<div>\n",
       "<style scoped>\n",
       "    .dataframe tbody tr th:only-of-type {\n",
       "        vertical-align: middle;\n",
       "    }\n",
       "\n",
       "    .dataframe tbody tr th {\n",
       "        vertical-align: top;\n",
       "    }\n",
       "\n",
       "    .dataframe thead th {\n",
       "        text-align: right;\n",
       "    }\n",
       "</style>\n",
       "<table border=\"1\" class=\"dataframe\">\n",
       "  <thead>\n",
       "    <tr style=\"text-align: right;\">\n",
       "      <th></th>\n",
       "      <th>classALeRCE</th>\n",
       "    </tr>\n",
       "    <tr>\n",
       "      <th>oid</th>\n",
       "      <th></th>\n",
       "    </tr>\n",
       "  </thead>\n",
       "  <tbody>\n",
       "    <tr>\n",
       "      <th>396567</th>\n",
       "      <td>1</td>\n",
       "    </tr>\n",
       "    <tr>\n",
       "      <th>259922</th>\n",
       "      <td>2</td>\n",
       "    </tr>\n",
       "    <tr>\n",
       "      <th>277015</th>\n",
       "      <td>2</td>\n",
       "    </tr>\n",
       "    <tr>\n",
       "      <th>94493</th>\n",
       "      <td>1</td>\n",
       "    </tr>\n",
       "    <tr>\n",
       "      <th>647304</th>\n",
       "      <td>2</td>\n",
       "    </tr>\n",
       "  </tbody>\n",
       "</table>\n",
       "</div>"
      ],
      "text/plain": [
       "       classALeRCE\n",
       "oid               \n",
       "396567           1\n",
       "259922           2\n",
       "277015           2\n",
       "94493            1\n",
       "647304           2"
      ]
     },
     "execution_count": 18,
     "metadata": {},
     "output_type": "execute_result"
    }
   ],
   "source": [
    "first_labels.head()"
   ]
  },
  {
   "cell_type": "code",
   "execution_count": 19,
   "metadata": {
    "scrolled": true
   },
   "outputs": [
    {
     "data": {
      "text/plain": [
       "2    22300\n",
       "1    16035\n",
       "3      367\n",
       "Name: classALeRCE, dtype: int64"
      ]
     },
     "execution_count": 19,
     "metadata": {},
     "output_type": "execute_result"
    }
   ],
   "source": [
    "first_labels['classALeRCE'].value_counts()"
   ]
  },
  {
   "cell_type": "code",
   "execution_count": null,
   "metadata": {},
   "outputs": [],
   "source": []
  },
  {
   "cell_type": "code",
   "execution_count": 20,
   "metadata": {
    "scrolled": true
   },
   "outputs": [
    {
     "data": {
      "text/html": [
       "<div>\n",
       "<style scoped>\n",
       "    .dataframe tbody tr th:only-of-type {\n",
       "        vertical-align: middle;\n",
       "    }\n",
       "\n",
       "    .dataframe tbody tr th {\n",
       "        vertical-align: top;\n",
       "    }\n",
       "\n",
       "    .dataframe thead th {\n",
       "        text-align: right;\n",
       "    }\n",
       "</style>\n",
       "<table border=\"1\" class=\"dataframe\">\n",
       "  <thead>\n",
       "    <tr style=\"text-align: right;\">\n",
       "      <th></th>\n",
       "      <th>classALeRCE</th>\n",
       "    </tr>\n",
       "    <tr>\n",
       "      <th>oid</th>\n",
       "      <th></th>\n",
       "    </tr>\n",
       "  </thead>\n",
       "  <tbody>\n",
       "    <tr>\n",
       "      <th>396567</th>\n",
       "      <td>LPV</td>\n",
       "    </tr>\n",
       "    <tr>\n",
       "      <th>259922</th>\n",
       "      <td>RRL</td>\n",
       "    </tr>\n",
       "    <tr>\n",
       "      <th>277015</th>\n",
       "      <td>RRL</td>\n",
       "    </tr>\n",
       "    <tr>\n",
       "      <th>94493</th>\n",
       "      <td>LPV</td>\n",
       "    </tr>\n",
       "    <tr>\n",
       "      <th>647304</th>\n",
       "      <td>EB</td>\n",
       "    </tr>\n",
       "    <tr>\n",
       "      <th>...</th>\n",
       "      <td>...</td>\n",
       "    </tr>\n",
       "    <tr>\n",
       "      <th>335791</th>\n",
       "      <td>LPV</td>\n",
       "    </tr>\n",
       "    <tr>\n",
       "      <th>383125</th>\n",
       "      <td>RRL</td>\n",
       "    </tr>\n",
       "    <tr>\n",
       "      <th>539873</th>\n",
       "      <td>RRL</td>\n",
       "    </tr>\n",
       "    <tr>\n",
       "      <th>90350</th>\n",
       "      <td>EB</td>\n",
       "    </tr>\n",
       "    <tr>\n",
       "      <th>537156</th>\n",
       "      <td>RRL</td>\n",
       "    </tr>\n",
       "  </tbody>\n",
       "</table>\n",
       "<p>38702 rows × 1 columns</p>\n",
       "</div>"
      ],
      "text/plain": [
       "       classALeRCE\n",
       "oid               \n",
       "396567         LPV\n",
       "259922         RRL\n",
       "277015         RRL\n",
       "94493          LPV\n",
       "647304          EB\n",
       "...            ...\n",
       "335791         LPV\n",
       "383125         RRL\n",
       "539873         RRL\n",
       "90350           EB\n",
       "537156         RRL\n",
       "\n",
       "[38702 rows x 1 columns]"
      ]
     },
     "execution_count": 20,
     "metadata": {},
     "output_type": "execute_result"
    }
   ],
   "source": [
    "train_labels.dropna()"
   ]
  },
  {
   "cell_type": "markdown",
   "metadata": {},
   "source": [
    "# Variables:"
   ]
  },
  {
   "cell_type": "code",
   "execution_count": 21,
   "metadata": {
    "scrolled": true
   },
   "outputs": [],
   "source": [
    "features = pd.read_pickle('train_features.pkl')"
   ]
  },
  {
   "cell_type": "code",
   "execution_count": 22,
   "metadata": {
    "scrolled": true
   },
   "outputs": [
    {
     "data": {
      "text/html": [
       "<div>\n",
       "<style scoped>\n",
       "    .dataframe tbody tr th:only-of-type {\n",
       "        vertical-align: middle;\n",
       "    }\n",
       "\n",
       "    .dataframe tbody tr th {\n",
       "        vertical-align: top;\n",
       "    }\n",
       "\n",
       "    .dataframe thead th {\n",
       "        text-align: right;\n",
       "    }\n",
       "</style>\n",
       "<table border=\"1\" class=\"dataframe\">\n",
       "  <thead>\n",
       "    <tr style=\"text-align: right;\">\n",
       "      <th></th>\n",
       "      <th>Amplitude_1</th>\n",
       "      <th>Amplitude_2</th>\n",
       "      <th>AndersonDarling_1</th>\n",
       "      <th>AndersonDarling_2</th>\n",
       "      <th>Autocor_length_1</th>\n",
       "      <th>Autocor_length_2</th>\n",
       "      <th>Beyond1Std_1</th>\n",
       "      <th>Beyond1Std_2</th>\n",
       "      <th>Con_1</th>\n",
       "      <th>Con_2</th>\n",
       "      <th>...</th>\n",
       "      <th>paps_low_1</th>\n",
       "      <th>paps_low_2</th>\n",
       "      <th>paps_non_zero_1</th>\n",
       "      <th>paps_non_zero_2</th>\n",
       "      <th>paps_ratio_1</th>\n",
       "      <th>paps_ratio_2</th>\n",
       "      <th>positive_fraction_1</th>\n",
       "      <th>positive_fraction_2</th>\n",
       "      <th>rb</th>\n",
       "      <th>sgscore1</th>\n",
       "    </tr>\n",
       "    <tr>\n",
       "      <th>oid</th>\n",
       "      <th></th>\n",
       "      <th></th>\n",
       "      <th></th>\n",
       "      <th></th>\n",
       "      <th></th>\n",
       "      <th></th>\n",
       "      <th></th>\n",
       "      <th></th>\n",
       "      <th></th>\n",
       "      <th></th>\n",
       "      <th></th>\n",
       "      <th></th>\n",
       "      <th></th>\n",
       "      <th></th>\n",
       "      <th></th>\n",
       "      <th></th>\n",
       "      <th></th>\n",
       "      <th></th>\n",
       "      <th></th>\n",
       "      <th></th>\n",
       "      <th></th>\n",
       "    </tr>\n",
       "  </thead>\n",
       "  <tbody>\n",
       "    <tr>\n",
       "      <th>641</th>\n",
       "      <td>0.196426</td>\n",
       "      <td>0.396822</td>\n",
       "      <td>0.683473</td>\n",
       "      <td>0.998053</td>\n",
       "      <td>3.0</td>\n",
       "      <td>1.0</td>\n",
       "      <td>0.333333</td>\n",
       "      <td>0.272727</td>\n",
       "      <td>0.0</td>\n",
       "      <td>0.0</td>\n",
       "      <td>...</td>\n",
       "      <td>0.364697</td>\n",
       "      <td>0.130434</td>\n",
       "      <td>7.0</td>\n",
       "      <td>5.0</td>\n",
       "      <td>3.345246</td>\n",
       "      <td>1323.936083</td>\n",
       "      <td>0.000000</td>\n",
       "      <td>0.727273</td>\n",
       "      <td>0.750000</td>\n",
       "      <td>1.000000</td>\n",
       "    </tr>\n",
       "    <tr>\n",
       "      <th>812</th>\n",
       "      <td>0.045131</td>\n",
       "      <td>NaN</td>\n",
       "      <td>0.442281</td>\n",
       "      <td>NaN</td>\n",
       "      <td>1.0</td>\n",
       "      <td>NaN</td>\n",
       "      <td>0.375000</td>\n",
       "      <td>NaN</td>\n",
       "      <td>0.0</td>\n",
       "      <td>NaN</td>\n",
       "      <td>...</td>\n",
       "      <td>2.237339</td>\n",
       "      <td>NaN</td>\n",
       "      <td>5.0</td>\n",
       "      <td>NaN</td>\n",
       "      <td>4.533474</td>\n",
       "      <td>NaN</td>\n",
       "      <td>0.000000</td>\n",
       "      <td>NaN</td>\n",
       "      <td>0.918571</td>\n",
       "      <td>0.984583</td>\n",
       "    </tr>\n",
       "    <tr>\n",
       "      <th>839</th>\n",
       "      <td>0.558078</td>\n",
       "      <td>0.537601</td>\n",
       "      <td>0.814828</td>\n",
       "      <td>0.943326</td>\n",
       "      <td>1.0</td>\n",
       "      <td>1.0</td>\n",
       "      <td>0.347826</td>\n",
       "      <td>0.153846</td>\n",
       "      <td>0.0</td>\n",
       "      <td>0.0</td>\n",
       "      <td>...</td>\n",
       "      <td>1.316261</td>\n",
       "      <td>1.004523</td>\n",
       "      <td>9.0</td>\n",
       "      <td>0.0</td>\n",
       "      <td>12.483542</td>\n",
       "      <td>NaN</td>\n",
       "      <td>0.956522</td>\n",
       "      <td>0.923077</td>\n",
       "      <td>0.881667</td>\n",
       "      <td>0.997500</td>\n",
       "    </tr>\n",
       "    <tr>\n",
       "      <th>1416</th>\n",
       "      <td>0.186727</td>\n",
       "      <td>0.153131</td>\n",
       "      <td>0.852811</td>\n",
       "      <td>0.999383</td>\n",
       "      <td>1.0</td>\n",
       "      <td>1.0</td>\n",
       "      <td>0.363636</td>\n",
       "      <td>0.428571</td>\n",
       "      <td>0.0</td>\n",
       "      <td>0.0</td>\n",
       "      <td>...</td>\n",
       "      <td>0.193425</td>\n",
       "      <td>0.003095</td>\n",
       "      <td>4.0</td>\n",
       "      <td>10.0</td>\n",
       "      <td>6.540455</td>\n",
       "      <td>8.999825</td>\n",
       "      <td>0.181818</td>\n",
       "      <td>0.214286</td>\n",
       "      <td>0.720000</td>\n",
       "      <td>1.000000</td>\n",
       "    </tr>\n",
       "    <tr>\n",
       "      <th>1651</th>\n",
       "      <td>0.681486</td>\n",
       "      <td>0.450269</td>\n",
       "      <td>0.348828</td>\n",
       "      <td>0.563064</td>\n",
       "      <td>1.0</td>\n",
       "      <td>1.0</td>\n",
       "      <td>0.384615</td>\n",
       "      <td>0.285714</td>\n",
       "      <td>0.0</td>\n",
       "      <td>0.0</td>\n",
       "      <td>...</td>\n",
       "      <td>0.005796</td>\n",
       "      <td>0.001990</td>\n",
       "      <td>9.0</td>\n",
       "      <td>1.0</td>\n",
       "      <td>70.934587</td>\n",
       "      <td>0.967639</td>\n",
       "      <td>0.615385</td>\n",
       "      <td>0.714286</td>\n",
       "      <td>0.760714</td>\n",
       "      <td>0.993333</td>\n",
       "    </tr>\n",
       "  </tbody>\n",
       "</table>\n",
       "<p>5 rows × 150 columns</p>\n",
       "</div>"
      ],
      "text/plain": [
       "      Amplitude_1  Amplitude_2  AndersonDarling_1  AndersonDarling_2  \\\n",
       "oid                                                                    \n",
       "641      0.196426     0.396822           0.683473           0.998053   \n",
       "812      0.045131          NaN           0.442281                NaN   \n",
       "839      0.558078     0.537601           0.814828           0.943326   \n",
       "1416     0.186727     0.153131           0.852811           0.999383   \n",
       "1651     0.681486     0.450269           0.348828           0.563064   \n",
       "\n",
       "      Autocor_length_1  Autocor_length_2  Beyond1Std_1  Beyond1Std_2  Con_1  \\\n",
       "oid                                                                           \n",
       "641                3.0               1.0      0.333333      0.272727    0.0   \n",
       "812                1.0               NaN      0.375000           NaN    0.0   \n",
       "839                1.0               1.0      0.347826      0.153846    0.0   \n",
       "1416               1.0               1.0      0.363636      0.428571    0.0   \n",
       "1651               1.0               1.0      0.384615      0.285714    0.0   \n",
       "\n",
       "      Con_2  ...  paps_low_1  paps_low_2  paps_non_zero_1  paps_non_zero_2  \\\n",
       "oid          ...                                                             \n",
       "641     0.0  ...    0.364697    0.130434              7.0              5.0   \n",
       "812     NaN  ...    2.237339         NaN              5.0              NaN   \n",
       "839     0.0  ...    1.316261    1.004523              9.0              0.0   \n",
       "1416    0.0  ...    0.193425    0.003095              4.0             10.0   \n",
       "1651    0.0  ...    0.005796    0.001990              9.0              1.0   \n",
       "\n",
       "      paps_ratio_1  paps_ratio_2  positive_fraction_1  positive_fraction_2  \\\n",
       "oid                                                                          \n",
       "641       3.345246   1323.936083             0.000000             0.727273   \n",
       "812       4.533474           NaN             0.000000                  NaN   \n",
       "839      12.483542           NaN             0.956522             0.923077   \n",
       "1416      6.540455      8.999825             0.181818             0.214286   \n",
       "1651     70.934587      0.967639             0.615385             0.714286   \n",
       "\n",
       "            rb  sgscore1  \n",
       "oid                       \n",
       "641   0.750000  1.000000  \n",
       "812   0.918571  0.984583  \n",
       "839   0.881667  0.997500  \n",
       "1416  0.720000  1.000000  \n",
       "1651  0.760714  0.993333  \n",
       "\n",
       "[5 rows x 150 columns]"
      ]
     },
     "execution_count": 22,
     "metadata": {},
     "output_type": "execute_result"
    }
   ],
   "source": [
    "features.head()"
   ]
  },
  {
   "cell_type": "code",
   "execution_count": 23,
   "metadata": {
    "scrolled": true
   },
   "outputs": [
    {
     "name": "stdout",
     "output_type": "stream",
     "text": [
      "<class 'pandas.core.frame.DataFrame'>\n",
      "Int64Index: 38685 entries, 641 to 690629\n",
      "Columns: 150 entries, Amplitude_1 to sgscore1\n",
      "dtypes: float64(150)\n",
      "memory usage: 44.6 MB\n"
     ]
    }
   ],
   "source": [
    "features.info()"
   ]
  },
  {
   "cell_type": "code",
   "execution_count": 24,
   "metadata": {
    "scrolled": true
   },
   "outputs": [
    {
     "data": {
      "text/html": [
       "<div>\n",
       "<style scoped>\n",
       "    .dataframe tbody tr th:only-of-type {\n",
       "        vertical-align: middle;\n",
       "    }\n",
       "\n",
       "    .dataframe tbody tr th {\n",
       "        vertical-align: top;\n",
       "    }\n",
       "\n",
       "    .dataframe thead th {\n",
       "        text-align: right;\n",
       "    }\n",
       "</style>\n",
       "<table border=\"1\" class=\"dataframe\">\n",
       "  <thead>\n",
       "    <tr style=\"text-align: right;\">\n",
       "      <th></th>\n",
       "      <th>Amplitude_1</th>\n",
       "      <th>Amplitude_2</th>\n",
       "      <th>AndersonDarling_1</th>\n",
       "      <th>AndersonDarling_2</th>\n",
       "      <th>Autocor_length_1</th>\n",
       "      <th>Autocor_length_2</th>\n",
       "      <th>Beyond1Std_1</th>\n",
       "      <th>Beyond1Std_2</th>\n",
       "      <th>Con_1</th>\n",
       "      <th>Con_2</th>\n",
       "      <th>...</th>\n",
       "      <th>paps_low_1</th>\n",
       "      <th>paps_low_2</th>\n",
       "      <th>paps_non_zero_1</th>\n",
       "      <th>paps_non_zero_2</th>\n",
       "      <th>paps_ratio_1</th>\n",
       "      <th>paps_ratio_2</th>\n",
       "      <th>positive_fraction_1</th>\n",
       "      <th>positive_fraction_2</th>\n",
       "      <th>rb</th>\n",
       "      <th>sgscore1</th>\n",
       "    </tr>\n",
       "  </thead>\n",
       "  <tbody>\n",
       "    <tr>\n",
       "      <th>count</th>\n",
       "      <td>34091.000000</td>\n",
       "      <td>31517.000000</td>\n",
       "      <td>34091.000000</td>\n",
       "      <td>31517.000000</td>\n",
       "      <td>34091.000000</td>\n",
       "      <td>31517.000000</td>\n",
       "      <td>34091.000000</td>\n",
       "      <td>31517.000000</td>\n",
       "      <td>34091.000000</td>\n",
       "      <td>31517.000000</td>\n",
       "      <td>...</td>\n",
       "      <td>33361.000000</td>\n",
       "      <td>30678.000000</td>\n",
       "      <td>34091.000000</td>\n",
       "      <td>31517.000000</td>\n",
       "      <td>3.002100e+04</td>\n",
       "      <td>2.692000e+04</td>\n",
       "      <td>34091.000000</td>\n",
       "      <td>31517.000000</td>\n",
       "      <td>38685.000000</td>\n",
       "      <td>38685.000000</td>\n",
       "    </tr>\n",
       "    <tr>\n",
       "      <th>mean</th>\n",
       "      <td>0.451476</td>\n",
       "      <td>0.384228</td>\n",
       "      <td>0.913196</td>\n",
       "      <td>0.903741</td>\n",
       "      <td>2.220879</td>\n",
       "      <td>2.221785</td>\n",
       "      <td>0.348834</td>\n",
       "      <td>0.338410</td>\n",
       "      <td>0.001885</td>\n",
       "      <td>0.001910</td>\n",
       "      <td>...</td>\n",
       "      <td>5.577529</td>\n",
       "      <td>2.254475</td>\n",
       "      <td>25.682556</td>\n",
       "      <td>22.502967</td>\n",
       "      <td>1.676733e+10</td>\n",
       "      <td>8.418327e+10</td>\n",
       "      <td>0.470433</td>\n",
       "      <td>0.468664</td>\n",
       "      <td>0.787270</td>\n",
       "      <td>0.840723</td>\n",
       "    </tr>\n",
       "    <tr>\n",
       "      <th>std</th>\n",
       "      <td>0.457792</td>\n",
       "      <td>0.385683</td>\n",
       "      <td>0.190636</td>\n",
       "      <td>0.200429</td>\n",
       "      <td>3.025456</td>\n",
       "      <td>3.250693</td>\n",
       "      <td>0.119356</td>\n",
       "      <td>0.113446</td>\n",
       "      <td>0.009632</td>\n",
       "      <td>0.009741</td>\n",
       "      <td>...</td>\n",
       "      <td>52.828388</td>\n",
       "      <td>21.314568</td>\n",
       "      <td>34.421117</td>\n",
       "      <td>33.521269</td>\n",
       "      <td>6.609218e+12</td>\n",
       "      <td>1.280533e+13</td>\n",
       "      <td>0.326131</td>\n",
       "      <td>0.332022</td>\n",
       "      <td>0.078931</td>\n",
       "      <td>7.192430</td>\n",
       "    </tr>\n",
       "    <tr>\n",
       "      <th>min</th>\n",
       "      <td>0.006574</td>\n",
       "      <td>0.007370</td>\n",
       "      <td>0.114766</td>\n",
       "      <td>0.110287</td>\n",
       "      <td>1.000000</td>\n",
       "      <td>1.000000</td>\n",
       "      <td>0.016949</td>\n",
       "      <td>0.000000</td>\n",
       "      <td>0.000000</td>\n",
       "      <td>0.000000</td>\n",
       "      <td>...</td>\n",
       "      <td>-0.290449</td>\n",
       "      <td>-0.100955</td>\n",
       "      <td>0.000000</td>\n",
       "      <td>0.000000</td>\n",
       "      <td>-7.603444e+14</td>\n",
       "      <td>-1.916440e+13</td>\n",
       "      <td>0.000000</td>\n",
       "      <td>0.000000</td>\n",
       "      <td>0.556667</td>\n",
       "      <td>-999.000000</td>\n",
       "    </tr>\n",
       "    <tr>\n",
       "      <th>25%</th>\n",
       "      <td>0.193760</td>\n",
       "      <td>0.178272</td>\n",
       "      <td>0.967536</td>\n",
       "      <td>0.950000</td>\n",
       "      <td>1.000000</td>\n",
       "      <td>1.000000</td>\n",
       "      <td>0.272727</td>\n",
       "      <td>0.266667</td>\n",
       "      <td>0.000000</td>\n",
       "      <td>0.000000</td>\n",
       "      <td>...</td>\n",
       "      <td>0.009975</td>\n",
       "      <td>0.002856</td>\n",
       "      <td>5.000000</td>\n",
       "      <td>4.000000</td>\n",
       "      <td>2.283564e+00</td>\n",
       "      <td>2.109079e+00</td>\n",
       "      <td>0.208333</td>\n",
       "      <td>0.181818</td>\n",
       "      <td>0.730000</td>\n",
       "      <td>0.940458</td>\n",
       "    </tr>\n",
       "    <tr>\n",
       "      <th>50%</th>\n",
       "      <td>0.319268</td>\n",
       "      <td>0.280422</td>\n",
       "      <td>0.999965</td>\n",
       "      <td>0.999896</td>\n",
       "      <td>1.000000</td>\n",
       "      <td>1.000000</td>\n",
       "      <td>0.347826</td>\n",
       "      <td>0.333333</td>\n",
       "      <td>0.000000</td>\n",
       "      <td>0.000000</td>\n",
       "      <td>...</td>\n",
       "      <td>0.106905</td>\n",
       "      <td>0.033242</td>\n",
       "      <td>14.000000</td>\n",
       "      <td>11.000000</td>\n",
       "      <td>9.069720e+00</td>\n",
       "      <td>8.569265e+00</td>\n",
       "      <td>0.441176</td>\n",
       "      <td>0.444444</td>\n",
       "      <td>0.786429</td>\n",
       "      <td>0.989226</td>\n",
       "    </tr>\n",
       "    <tr>\n",
       "      <th>75%</th>\n",
       "      <td>0.546899</td>\n",
       "      <td>0.426055</td>\n",
       "      <td>1.000000</td>\n",
       "      <td>1.000000</td>\n",
       "      <td>2.000000</td>\n",
       "      <td>2.000000</td>\n",
       "      <td>0.428571</td>\n",
       "      <td>0.417582</td>\n",
       "      <td>0.000000</td>\n",
       "      <td>0.000000</td>\n",
       "      <td>...</td>\n",
       "      <td>0.954981</td>\n",
       "      <td>0.288844</td>\n",
       "      <td>33.000000</td>\n",
       "      <td>27.000000</td>\n",
       "      <td>1.080832e+02</td>\n",
       "      <td>1.048954e+02</td>\n",
       "      <td>0.717949</td>\n",
       "      <td>0.729730</td>\n",
       "      <td>0.844286</td>\n",
       "      <td>0.998750</td>\n",
       "    </tr>\n",
       "    <tr>\n",
       "      <th>max</th>\n",
       "      <td>4.153189</td>\n",
       "      <td>3.491099</td>\n",
       "      <td>1.000000</td>\n",
       "      <td>1.000000</td>\n",
       "      <td>50.000000</td>\n",
       "      <td>71.000000</td>\n",
       "      <td>0.750000</td>\n",
       "      <td>0.764706</td>\n",
       "      <td>0.120370</td>\n",
       "      <td>0.134328</td>\n",
       "      <td>...</td>\n",
       "      <td>4178.005927</td>\n",
       "      <td>2163.166232</td>\n",
       "      <td>442.000000</td>\n",
       "      <td>507.000000</td>\n",
       "      <td>6.374897e+14</td>\n",
       "      <td>2.097029e+15</td>\n",
       "      <td>1.000000</td>\n",
       "      <td>1.000000</td>\n",
       "      <td>0.973571</td>\n",
       "      <td>1.000000</td>\n",
       "    </tr>\n",
       "  </tbody>\n",
       "</table>\n",
       "<p>8 rows × 150 columns</p>\n",
       "</div>"
      ],
      "text/plain": [
       "        Amplitude_1   Amplitude_2  AndersonDarling_1  AndersonDarling_2  \\\n",
       "count  34091.000000  31517.000000       34091.000000       31517.000000   \n",
       "mean       0.451476      0.384228           0.913196           0.903741   \n",
       "std        0.457792      0.385683           0.190636           0.200429   \n",
       "min        0.006574      0.007370           0.114766           0.110287   \n",
       "25%        0.193760      0.178272           0.967536           0.950000   \n",
       "50%        0.319268      0.280422           0.999965           0.999896   \n",
       "75%        0.546899      0.426055           1.000000           1.000000   \n",
       "max        4.153189      3.491099           1.000000           1.000000   \n",
       "\n",
       "       Autocor_length_1  Autocor_length_2  Beyond1Std_1  Beyond1Std_2  \\\n",
       "count      34091.000000      31517.000000  34091.000000  31517.000000   \n",
       "mean           2.220879          2.221785      0.348834      0.338410   \n",
       "std            3.025456          3.250693      0.119356      0.113446   \n",
       "min            1.000000          1.000000      0.016949      0.000000   \n",
       "25%            1.000000          1.000000      0.272727      0.266667   \n",
       "50%            1.000000          1.000000      0.347826      0.333333   \n",
       "75%            2.000000          2.000000      0.428571      0.417582   \n",
       "max           50.000000         71.000000      0.750000      0.764706   \n",
       "\n",
       "              Con_1         Con_2  ...    paps_low_1    paps_low_2  \\\n",
       "count  34091.000000  31517.000000  ...  33361.000000  30678.000000   \n",
       "mean       0.001885      0.001910  ...      5.577529      2.254475   \n",
       "std        0.009632      0.009741  ...     52.828388     21.314568   \n",
       "min        0.000000      0.000000  ...     -0.290449     -0.100955   \n",
       "25%        0.000000      0.000000  ...      0.009975      0.002856   \n",
       "50%        0.000000      0.000000  ...      0.106905      0.033242   \n",
       "75%        0.000000      0.000000  ...      0.954981      0.288844   \n",
       "max        0.120370      0.134328  ...   4178.005927   2163.166232   \n",
       "\n",
       "       paps_non_zero_1  paps_non_zero_2  paps_ratio_1  paps_ratio_2  \\\n",
       "count     34091.000000     31517.000000  3.002100e+04  2.692000e+04   \n",
       "mean         25.682556        22.502967  1.676733e+10  8.418327e+10   \n",
       "std          34.421117        33.521269  6.609218e+12  1.280533e+13   \n",
       "min           0.000000         0.000000 -7.603444e+14 -1.916440e+13   \n",
       "25%           5.000000         4.000000  2.283564e+00  2.109079e+00   \n",
       "50%          14.000000        11.000000  9.069720e+00  8.569265e+00   \n",
       "75%          33.000000        27.000000  1.080832e+02  1.048954e+02   \n",
       "max         442.000000       507.000000  6.374897e+14  2.097029e+15   \n",
       "\n",
       "       positive_fraction_1  positive_fraction_2            rb      sgscore1  \n",
       "count         34091.000000         31517.000000  38685.000000  38685.000000  \n",
       "mean              0.470433             0.468664      0.787270      0.840723  \n",
       "std               0.326131             0.332022      0.078931      7.192430  \n",
       "min               0.000000             0.000000      0.556667   -999.000000  \n",
       "25%               0.208333             0.181818      0.730000      0.940458  \n",
       "50%               0.441176             0.444444      0.786429      0.989226  \n",
       "75%               0.717949             0.729730      0.844286      0.998750  \n",
       "max               1.000000             1.000000      0.973571      1.000000  \n",
       "\n",
       "[8 rows x 150 columns]"
      ]
     },
     "execution_count": 24,
     "metadata": {},
     "output_type": "execute_result"
    }
   ],
   "source": [
    "features.describe()"
   ]
  },
  {
   "cell_type": "code",
   "execution_count": 26,
   "metadata": {},
   "outputs": [],
   "source": [
    "import missingno as msno\n",
    "%matplotlib inline"
   ]
  },
  {
   "cell_type": "code",
   "execution_count": 27,
   "metadata": {
    "scrolled": true
   },
   "outputs": [
    {
     "data": {
      "text/html": [
       "<div>\n",
       "<style scoped>\n",
       "    .dataframe tbody tr th:only-of-type {\n",
       "        vertical-align: middle;\n",
       "    }\n",
       "\n",
       "    .dataframe tbody tr th {\n",
       "        vertical-align: top;\n",
       "    }\n",
       "\n",
       "    .dataframe thead th {\n",
       "        text-align: right;\n",
       "    }\n",
       "</style>\n",
       "<table border=\"1\" class=\"dataframe\">\n",
       "  <thead>\n",
       "    <tr style=\"text-align: right;\">\n",
       "      <th></th>\n",
       "      <th>Amplitude_1</th>\n",
       "      <th>Amplitude_2</th>\n",
       "      <th>AndersonDarling_1</th>\n",
       "      <th>AndersonDarling_2</th>\n",
       "      <th>Autocor_length_1</th>\n",
       "      <th>Autocor_length_2</th>\n",
       "      <th>Beyond1Std_1</th>\n",
       "      <th>Beyond1Std_2</th>\n",
       "      <th>Con_1</th>\n",
       "      <th>Con_2</th>\n",
       "      <th>...</th>\n",
       "      <th>paps_low_2</th>\n",
       "      <th>paps_non_zero_1</th>\n",
       "      <th>paps_non_zero_2</th>\n",
       "      <th>paps_ratio_1</th>\n",
       "      <th>paps_ratio_2</th>\n",
       "      <th>positive_fraction_1</th>\n",
       "      <th>positive_fraction_2</th>\n",
       "      <th>rb</th>\n",
       "      <th>sgscore1</th>\n",
       "      <th>classALeRCE</th>\n",
       "    </tr>\n",
       "    <tr>\n",
       "      <th>oid</th>\n",
       "      <th></th>\n",
       "      <th></th>\n",
       "      <th></th>\n",
       "      <th></th>\n",
       "      <th></th>\n",
       "      <th></th>\n",
       "      <th></th>\n",
       "      <th></th>\n",
       "      <th></th>\n",
       "      <th></th>\n",
       "      <th></th>\n",
       "      <th></th>\n",
       "      <th></th>\n",
       "      <th></th>\n",
       "      <th></th>\n",
       "      <th></th>\n",
       "      <th></th>\n",
       "      <th></th>\n",
       "      <th></th>\n",
       "      <th></th>\n",
       "      <th></th>\n",
       "    </tr>\n",
       "  </thead>\n",
       "  <tbody>\n",
       "    <tr>\n",
       "      <th>641</th>\n",
       "      <td>0.196426</td>\n",
       "      <td>0.396822</td>\n",
       "      <td>0.683473</td>\n",
       "      <td>0.998053</td>\n",
       "      <td>3.0</td>\n",
       "      <td>1.0</td>\n",
       "      <td>0.333333</td>\n",
       "      <td>0.272727</td>\n",
       "      <td>0.0</td>\n",
       "      <td>0.0</td>\n",
       "      <td>...</td>\n",
       "      <td>0.130434</td>\n",
       "      <td>7.0</td>\n",
       "      <td>5.0</td>\n",
       "      <td>3.345246</td>\n",
       "      <td>1323.936083</td>\n",
       "      <td>0.000000</td>\n",
       "      <td>0.727273</td>\n",
       "      <td>0.750000</td>\n",
       "      <td>1.000000</td>\n",
       "      <td>1</td>\n",
       "    </tr>\n",
       "    <tr>\n",
       "      <th>812</th>\n",
       "      <td>0.045131</td>\n",
       "      <td>NaN</td>\n",
       "      <td>0.442281</td>\n",
       "      <td>NaN</td>\n",
       "      <td>1.0</td>\n",
       "      <td>NaN</td>\n",
       "      <td>0.375000</td>\n",
       "      <td>NaN</td>\n",
       "      <td>0.0</td>\n",
       "      <td>NaN</td>\n",
       "      <td>...</td>\n",
       "      <td>NaN</td>\n",
       "      <td>5.0</td>\n",
       "      <td>NaN</td>\n",
       "      <td>4.533474</td>\n",
       "      <td>NaN</td>\n",
       "      <td>0.000000</td>\n",
       "      <td>NaN</td>\n",
       "      <td>0.918571</td>\n",
       "      <td>0.984583</td>\n",
       "      <td>1</td>\n",
       "    </tr>\n",
       "    <tr>\n",
       "      <th>839</th>\n",
       "      <td>0.558078</td>\n",
       "      <td>0.537601</td>\n",
       "      <td>0.814828</td>\n",
       "      <td>0.943326</td>\n",
       "      <td>1.0</td>\n",
       "      <td>1.0</td>\n",
       "      <td>0.347826</td>\n",
       "      <td>0.153846</td>\n",
       "      <td>0.0</td>\n",
       "      <td>0.0</td>\n",
       "      <td>...</td>\n",
       "      <td>1.004523</td>\n",
       "      <td>9.0</td>\n",
       "      <td>0.0</td>\n",
       "      <td>12.483542</td>\n",
       "      <td>NaN</td>\n",
       "      <td>0.956522</td>\n",
       "      <td>0.923077</td>\n",
       "      <td>0.881667</td>\n",
       "      <td>0.997500</td>\n",
       "      <td>2</td>\n",
       "    </tr>\n",
       "    <tr>\n",
       "      <th>1416</th>\n",
       "      <td>0.186727</td>\n",
       "      <td>0.153131</td>\n",
       "      <td>0.852811</td>\n",
       "      <td>0.999383</td>\n",
       "      <td>1.0</td>\n",
       "      <td>1.0</td>\n",
       "      <td>0.363636</td>\n",
       "      <td>0.428571</td>\n",
       "      <td>0.0</td>\n",
       "      <td>0.0</td>\n",
       "      <td>...</td>\n",
       "      <td>0.003095</td>\n",
       "      <td>4.0</td>\n",
       "      <td>10.0</td>\n",
       "      <td>6.540455</td>\n",
       "      <td>8.999825</td>\n",
       "      <td>0.181818</td>\n",
       "      <td>0.214286</td>\n",
       "      <td>0.720000</td>\n",
       "      <td>1.000000</td>\n",
       "      <td>2</td>\n",
       "    </tr>\n",
       "    <tr>\n",
       "      <th>1651</th>\n",
       "      <td>0.681486</td>\n",
       "      <td>0.450269</td>\n",
       "      <td>0.348828</td>\n",
       "      <td>0.563064</td>\n",
       "      <td>1.0</td>\n",
       "      <td>1.0</td>\n",
       "      <td>0.384615</td>\n",
       "      <td>0.285714</td>\n",
       "      <td>0.0</td>\n",
       "      <td>0.0</td>\n",
       "      <td>...</td>\n",
       "      <td>0.001990</td>\n",
       "      <td>9.0</td>\n",
       "      <td>1.0</td>\n",
       "      <td>70.934587</td>\n",
       "      <td>0.967639</td>\n",
       "      <td>0.615385</td>\n",
       "      <td>0.714286</td>\n",
       "      <td>0.760714</td>\n",
       "      <td>0.993333</td>\n",
       "      <td>2</td>\n",
       "    </tr>\n",
       "  </tbody>\n",
       "</table>\n",
       "<p>5 rows × 151 columns</p>\n",
       "</div>"
      ],
      "text/plain": [
       "      Amplitude_1  Amplitude_2  AndersonDarling_1  AndersonDarling_2  \\\n",
       "oid                                                                    \n",
       "641      0.196426     0.396822           0.683473           0.998053   \n",
       "812      0.045131          NaN           0.442281                NaN   \n",
       "839      0.558078     0.537601           0.814828           0.943326   \n",
       "1416     0.186727     0.153131           0.852811           0.999383   \n",
       "1651     0.681486     0.450269           0.348828           0.563064   \n",
       "\n",
       "      Autocor_length_1  Autocor_length_2  Beyond1Std_1  Beyond1Std_2  Con_1  \\\n",
       "oid                                                                           \n",
       "641                3.0               1.0      0.333333      0.272727    0.0   \n",
       "812                1.0               NaN      0.375000           NaN    0.0   \n",
       "839                1.0               1.0      0.347826      0.153846    0.0   \n",
       "1416               1.0               1.0      0.363636      0.428571    0.0   \n",
       "1651               1.0               1.0      0.384615      0.285714    0.0   \n",
       "\n",
       "      Con_2  ...  paps_low_2  paps_non_zero_1  paps_non_zero_2  paps_ratio_1  \\\n",
       "oid          ...                                                               \n",
       "641     0.0  ...    0.130434              7.0              5.0      3.345246   \n",
       "812     NaN  ...         NaN              5.0              NaN      4.533474   \n",
       "839     0.0  ...    1.004523              9.0              0.0     12.483542   \n",
       "1416    0.0  ...    0.003095              4.0             10.0      6.540455   \n",
       "1651    0.0  ...    0.001990              9.0              1.0     70.934587   \n",
       "\n",
       "      paps_ratio_2  positive_fraction_1  positive_fraction_2        rb  \\\n",
       "oid                                                                      \n",
       "641    1323.936083             0.000000             0.727273  0.750000   \n",
       "812            NaN             0.000000                  NaN  0.918571   \n",
       "839            NaN             0.956522             0.923077  0.881667   \n",
       "1416      8.999825             0.181818             0.214286  0.720000   \n",
       "1651      0.967639             0.615385             0.714286  0.760714   \n",
       "\n",
       "      sgscore1  classALeRCE  \n",
       "oid                          \n",
       "641   1.000000            1  \n",
       "812   0.984583            1  \n",
       "839   0.997500            2  \n",
       "1416  1.000000            2  \n",
       "1651  0.993333            2  \n",
       "\n",
       "[5 rows x 151 columns]"
      ]
     },
     "execution_count": 27,
     "metadata": {},
     "output_type": "execute_result"
    }
   ],
   "source": [
    "df=pd.merge(features,first_labels,on='oid')\n",
    "df.head()"
   ]
  },
  {
   "cell_type": "code",
   "execution_count": 28,
   "metadata": {},
   "outputs": [],
   "source": [
    "cols = df.columns.tolist()"
   ]
  },
  {
   "cell_type": "code",
   "execution_count": 29,
   "metadata": {},
   "outputs": [],
   "source": [
    "#df_fin=df.dropna()\n",
    "#df_fin.head()"
   ]
  },
  {
   "cell_type": "code",
   "execution_count": 30,
   "metadata": {
    "scrolled": false
   },
   "outputs": [
    {
     "data": {
      "text/html": [
       "<div>\n",
       "<style scoped>\n",
       "    .dataframe tbody tr th:only-of-type {\n",
       "        vertical-align: middle;\n",
       "    }\n",
       "\n",
       "    .dataframe tbody tr th {\n",
       "        vertical-align: top;\n",
       "    }\n",
       "\n",
       "    .dataframe thead th {\n",
       "        text-align: right;\n",
       "    }\n",
       "</style>\n",
       "<table border=\"1\" class=\"dataframe\">\n",
       "  <thead>\n",
       "    <tr style=\"text-align: right;\">\n",
       "      <th></th>\n",
       "      <th>Amplitude_1</th>\n",
       "      <th>Amplitude_2</th>\n",
       "      <th>AndersonDarling_1</th>\n",
       "      <th>AndersonDarling_2</th>\n",
       "      <th>Autocor_length_1</th>\n",
       "      <th>Autocor_length_2</th>\n",
       "      <th>Beyond1Std_1</th>\n",
       "      <th>Beyond1Std_2</th>\n",
       "      <th>Con_1</th>\n",
       "      <th>Con_2</th>\n",
       "      <th>...</th>\n",
       "      <th>paps_low_1</th>\n",
       "      <th>paps_low_2</th>\n",
       "      <th>paps_non_zero_1</th>\n",
       "      <th>paps_non_zero_2</th>\n",
       "      <th>paps_ratio_1</th>\n",
       "      <th>paps_ratio_2</th>\n",
       "      <th>positive_fraction_1</th>\n",
       "      <th>positive_fraction_2</th>\n",
       "      <th>rb</th>\n",
       "      <th>sgscore1</th>\n",
       "    </tr>\n",
       "  </thead>\n",
       "  <tbody>\n",
       "    <tr>\n",
       "      <th>count</th>\n",
       "      <td>34091.000000</td>\n",
       "      <td>31517.000000</td>\n",
       "      <td>34091.000000</td>\n",
       "      <td>31517.000000</td>\n",
       "      <td>34091.000000</td>\n",
       "      <td>31517.000000</td>\n",
       "      <td>34091.000000</td>\n",
       "      <td>31517.000000</td>\n",
       "      <td>34091.000000</td>\n",
       "      <td>31517.000000</td>\n",
       "      <td>...</td>\n",
       "      <td>33361.000000</td>\n",
       "      <td>30678.000000</td>\n",
       "      <td>34091.000000</td>\n",
       "      <td>31517.000000</td>\n",
       "      <td>3.002100e+04</td>\n",
       "      <td>2.692000e+04</td>\n",
       "      <td>34091.000000</td>\n",
       "      <td>31517.000000</td>\n",
       "      <td>38685.000000</td>\n",
       "      <td>38685.000000</td>\n",
       "    </tr>\n",
       "    <tr>\n",
       "      <th>mean</th>\n",
       "      <td>0.451476</td>\n",
       "      <td>0.384228</td>\n",
       "      <td>0.913196</td>\n",
       "      <td>0.903741</td>\n",
       "      <td>2.220879</td>\n",
       "      <td>2.221785</td>\n",
       "      <td>0.348834</td>\n",
       "      <td>0.338410</td>\n",
       "      <td>0.001885</td>\n",
       "      <td>0.001910</td>\n",
       "      <td>...</td>\n",
       "      <td>5.577529</td>\n",
       "      <td>2.254475</td>\n",
       "      <td>25.682556</td>\n",
       "      <td>22.502967</td>\n",
       "      <td>1.676733e+10</td>\n",
       "      <td>8.418327e+10</td>\n",
       "      <td>0.470433</td>\n",
       "      <td>0.468664</td>\n",
       "      <td>0.787270</td>\n",
       "      <td>0.840723</td>\n",
       "    </tr>\n",
       "    <tr>\n",
       "      <th>std</th>\n",
       "      <td>0.457792</td>\n",
       "      <td>0.385683</td>\n",
       "      <td>0.190636</td>\n",
       "      <td>0.200429</td>\n",
       "      <td>3.025456</td>\n",
       "      <td>3.250693</td>\n",
       "      <td>0.119356</td>\n",
       "      <td>0.113446</td>\n",
       "      <td>0.009632</td>\n",
       "      <td>0.009741</td>\n",
       "      <td>...</td>\n",
       "      <td>52.828388</td>\n",
       "      <td>21.314568</td>\n",
       "      <td>34.421117</td>\n",
       "      <td>33.521269</td>\n",
       "      <td>6.609218e+12</td>\n",
       "      <td>1.280533e+13</td>\n",
       "      <td>0.326131</td>\n",
       "      <td>0.332022</td>\n",
       "      <td>0.078931</td>\n",
       "      <td>7.192430</td>\n",
       "    </tr>\n",
       "    <tr>\n",
       "      <th>min</th>\n",
       "      <td>0.006574</td>\n",
       "      <td>0.007370</td>\n",
       "      <td>0.114766</td>\n",
       "      <td>0.110287</td>\n",
       "      <td>1.000000</td>\n",
       "      <td>1.000000</td>\n",
       "      <td>0.016949</td>\n",
       "      <td>0.000000</td>\n",
       "      <td>0.000000</td>\n",
       "      <td>0.000000</td>\n",
       "      <td>...</td>\n",
       "      <td>-0.290449</td>\n",
       "      <td>-0.100955</td>\n",
       "      <td>0.000000</td>\n",
       "      <td>0.000000</td>\n",
       "      <td>-7.603444e+14</td>\n",
       "      <td>-1.916440e+13</td>\n",
       "      <td>0.000000</td>\n",
       "      <td>0.000000</td>\n",
       "      <td>0.556667</td>\n",
       "      <td>-999.000000</td>\n",
       "    </tr>\n",
       "    <tr>\n",
       "      <th>25%</th>\n",
       "      <td>0.193760</td>\n",
       "      <td>0.178272</td>\n",
       "      <td>0.967536</td>\n",
       "      <td>0.950000</td>\n",
       "      <td>1.000000</td>\n",
       "      <td>1.000000</td>\n",
       "      <td>0.272727</td>\n",
       "      <td>0.266667</td>\n",
       "      <td>0.000000</td>\n",
       "      <td>0.000000</td>\n",
       "      <td>...</td>\n",
       "      <td>0.009975</td>\n",
       "      <td>0.002856</td>\n",
       "      <td>5.000000</td>\n",
       "      <td>4.000000</td>\n",
       "      <td>2.283564e+00</td>\n",
       "      <td>2.109079e+00</td>\n",
       "      <td>0.208333</td>\n",
       "      <td>0.181818</td>\n",
       "      <td>0.730000</td>\n",
       "      <td>0.940458</td>\n",
       "    </tr>\n",
       "    <tr>\n",
       "      <th>50%</th>\n",
       "      <td>0.319268</td>\n",
       "      <td>0.280422</td>\n",
       "      <td>0.999965</td>\n",
       "      <td>0.999896</td>\n",
       "      <td>1.000000</td>\n",
       "      <td>1.000000</td>\n",
       "      <td>0.347826</td>\n",
       "      <td>0.333333</td>\n",
       "      <td>0.000000</td>\n",
       "      <td>0.000000</td>\n",
       "      <td>...</td>\n",
       "      <td>0.106905</td>\n",
       "      <td>0.033242</td>\n",
       "      <td>14.000000</td>\n",
       "      <td>11.000000</td>\n",
       "      <td>9.069720e+00</td>\n",
       "      <td>8.569265e+00</td>\n",
       "      <td>0.441176</td>\n",
       "      <td>0.444444</td>\n",
       "      <td>0.786429</td>\n",
       "      <td>0.989226</td>\n",
       "    </tr>\n",
       "    <tr>\n",
       "      <th>75%</th>\n",
       "      <td>0.546899</td>\n",
       "      <td>0.426055</td>\n",
       "      <td>1.000000</td>\n",
       "      <td>1.000000</td>\n",
       "      <td>2.000000</td>\n",
       "      <td>2.000000</td>\n",
       "      <td>0.428571</td>\n",
       "      <td>0.417582</td>\n",
       "      <td>0.000000</td>\n",
       "      <td>0.000000</td>\n",
       "      <td>...</td>\n",
       "      <td>0.954981</td>\n",
       "      <td>0.288844</td>\n",
       "      <td>33.000000</td>\n",
       "      <td>27.000000</td>\n",
       "      <td>1.080832e+02</td>\n",
       "      <td>1.048954e+02</td>\n",
       "      <td>0.717949</td>\n",
       "      <td>0.729730</td>\n",
       "      <td>0.844286</td>\n",
       "      <td>0.998750</td>\n",
       "    </tr>\n",
       "    <tr>\n",
       "      <th>max</th>\n",
       "      <td>4.153189</td>\n",
       "      <td>3.491099</td>\n",
       "      <td>1.000000</td>\n",
       "      <td>1.000000</td>\n",
       "      <td>50.000000</td>\n",
       "      <td>71.000000</td>\n",
       "      <td>0.750000</td>\n",
       "      <td>0.764706</td>\n",
       "      <td>0.120370</td>\n",
       "      <td>0.134328</td>\n",
       "      <td>...</td>\n",
       "      <td>4178.005927</td>\n",
       "      <td>2163.166232</td>\n",
       "      <td>442.000000</td>\n",
       "      <td>507.000000</td>\n",
       "      <td>6.374897e+14</td>\n",
       "      <td>2.097029e+15</td>\n",
       "      <td>1.000000</td>\n",
       "      <td>1.000000</td>\n",
       "      <td>0.973571</td>\n",
       "      <td>1.000000</td>\n",
       "    </tr>\n",
       "  </tbody>\n",
       "</table>\n",
       "<p>8 rows × 150 columns</p>\n",
       "</div>"
      ],
      "text/plain": [
       "        Amplitude_1   Amplitude_2  AndersonDarling_1  AndersonDarling_2  \\\n",
       "count  34091.000000  31517.000000       34091.000000       31517.000000   \n",
       "mean       0.451476      0.384228           0.913196           0.903741   \n",
       "std        0.457792      0.385683           0.190636           0.200429   \n",
       "min        0.006574      0.007370           0.114766           0.110287   \n",
       "25%        0.193760      0.178272           0.967536           0.950000   \n",
       "50%        0.319268      0.280422           0.999965           0.999896   \n",
       "75%        0.546899      0.426055           1.000000           1.000000   \n",
       "max        4.153189      3.491099           1.000000           1.000000   \n",
       "\n",
       "       Autocor_length_1  Autocor_length_2  Beyond1Std_1  Beyond1Std_2  \\\n",
       "count      34091.000000      31517.000000  34091.000000  31517.000000   \n",
       "mean           2.220879          2.221785      0.348834      0.338410   \n",
       "std            3.025456          3.250693      0.119356      0.113446   \n",
       "min            1.000000          1.000000      0.016949      0.000000   \n",
       "25%            1.000000          1.000000      0.272727      0.266667   \n",
       "50%            1.000000          1.000000      0.347826      0.333333   \n",
       "75%            2.000000          2.000000      0.428571      0.417582   \n",
       "max           50.000000         71.000000      0.750000      0.764706   \n",
       "\n",
       "              Con_1         Con_2  ...    paps_low_1    paps_low_2  \\\n",
       "count  34091.000000  31517.000000  ...  33361.000000  30678.000000   \n",
       "mean       0.001885      0.001910  ...      5.577529      2.254475   \n",
       "std        0.009632      0.009741  ...     52.828388     21.314568   \n",
       "min        0.000000      0.000000  ...     -0.290449     -0.100955   \n",
       "25%        0.000000      0.000000  ...      0.009975      0.002856   \n",
       "50%        0.000000      0.000000  ...      0.106905      0.033242   \n",
       "75%        0.000000      0.000000  ...      0.954981      0.288844   \n",
       "max        0.120370      0.134328  ...   4178.005927   2163.166232   \n",
       "\n",
       "       paps_non_zero_1  paps_non_zero_2  paps_ratio_1  paps_ratio_2  \\\n",
       "count     34091.000000     31517.000000  3.002100e+04  2.692000e+04   \n",
       "mean         25.682556        22.502967  1.676733e+10  8.418327e+10   \n",
       "std          34.421117        33.521269  6.609218e+12  1.280533e+13   \n",
       "min           0.000000         0.000000 -7.603444e+14 -1.916440e+13   \n",
       "25%           5.000000         4.000000  2.283564e+00  2.109079e+00   \n",
       "50%          14.000000        11.000000  9.069720e+00  8.569265e+00   \n",
       "75%          33.000000        27.000000  1.080832e+02  1.048954e+02   \n",
       "max         442.000000       507.000000  6.374897e+14  2.097029e+15   \n",
       "\n",
       "       positive_fraction_1  positive_fraction_2            rb      sgscore1  \n",
       "count         34091.000000         31517.000000  38685.000000  38685.000000  \n",
       "mean              0.470433             0.468664      0.787270      0.840723  \n",
       "std               0.326131             0.332022      0.078931      7.192430  \n",
       "min               0.000000             0.000000      0.556667   -999.000000  \n",
       "25%               0.208333             0.181818      0.730000      0.940458  \n",
       "50%               0.441176             0.444444      0.786429      0.989226  \n",
       "75%               0.717949             0.729730      0.844286      0.998750  \n",
       "max               1.000000             1.000000      0.973571      1.000000  \n",
       "\n",
       "[8 rows x 150 columns]"
      ]
     },
     "execution_count": 30,
     "metadata": {},
     "output_type": "execute_result"
    }
   ],
   "source": [
    "df.describe()"
   ]
  },
  {
   "cell_type": "code",
   "execution_count": 31,
   "metadata": {
    "scrolled": false
   },
   "outputs": [
    {
     "data": {
      "text/plain": [
       "2    22289\n",
       "1    16029\n",
       "3      367\n",
       "Name: classALeRCE, dtype: int64"
      ]
     },
     "execution_count": 31,
     "metadata": {},
     "output_type": "execute_result"
    }
   ],
   "source": [
    "df['classALeRCE'].value_counts()"
   ]
  },
  {
   "cell_type": "code",
   "execution_count": 32,
   "metadata": {},
   "outputs": [
    {
     "data": {
      "text/plain": [
       "<matplotlib.axes._subplots.AxesSubplot at 0x21f02e0b608>"
      ]
     },
     "execution_count": 32,
     "metadata": {},
     "output_type": "execute_result"
    },
    {
     "data": {
      "image/png": "[encoded data removed]",
      "text/plain": [
       "<Figure size 1800x720 with 2 Axes>"
      ]
     },
     "metadata": {
      "needs_background": "light"
     },
     "output_type": "display_data"
    }
   ],
   "source": [
    "msno.matrix(df)"
   ]
  },
  {
   "cell_type": "code",
   "execution_count": 33,
   "metadata": {},
   "outputs": [],
   "source": [
    "cols = df.columns.tolist()"
   ]
  },
  {
   "cell_type": "code",
   "execution_count": 132,
   "metadata": {
    "scrolled": true
   },
   "outputs": [],
   "source": [
    "#df_fin.to_excel('df_fin_ALE.xlsx')"
   ]
  },
  {
   "cell_type": "code",
   "execution_count": 133,
   "metadata": {},
   "outputs": [],
   "source": [
    "#df_fin.to_csv('df_fin_ALE.csv')"
   ]
  },
  {
   "cell_type": "code",
   "execution_count": 34,
   "metadata": {},
   "outputs": [],
   "source": [
    "# assert len(features) == len(train_labels)\n",
    "train_labels = train_labels.loc[features.index.values].copy()\n",
    "features = features.loc[train_labels.index.values].copy()"
   ]
  },
  {
   "cell_type": "markdown",
   "metadata": {},
   "source": [
    "## Imputacion de datos faltantes:"
   ]
  },
  {
   "cell_type": "code",
   "execution_count": 35,
   "metadata": {},
   "outputs": [],
   "source": [
    "df_clean_filas=df.dropna(axis = 0)"
   ]
  },
  {
   "cell_type": "code",
   "execution_count": 36,
   "metadata": {
    "scrolled": true
   },
   "outputs": [
    {
     "name": "stdout",
     "output_type": "stream",
     "text": [
      "<class 'pandas.core.frame.DataFrame'>\n",
      "Int64Index: 9699 entries, 8213 to 676681\n",
      "Columns: 151 entries, Amplitude_1 to classALeRCE\n",
      "dtypes: float64(150), object(1)\n",
      "memory usage: 11.2+ MB\n"
     ]
    }
   ],
   "source": [
    "df_clean_filas.info()"
   ]
  },
  {
   "cell_type": "code",
   "execution_count": 37,
   "metadata": {
    "scrolled": true
   },
   "outputs": [
    {
     "data": {
      "text/html": [
       "<div>\n",
       "<style scoped>\n",
       "    .dataframe tbody tr th:only-of-type {\n",
       "        vertical-align: middle;\n",
       "    }\n",
       "\n",
       "    .dataframe tbody tr th {\n",
       "        vertical-align: top;\n",
       "    }\n",
       "\n",
       "    .dataframe thead th {\n",
       "        text-align: right;\n",
       "    }\n",
       "</style>\n",
       "<table border=\"1\" class=\"dataframe\">\n",
       "  <thead>\n",
       "    <tr style=\"text-align: right;\">\n",
       "      <th></th>\n",
       "      <th>Amplitude_1</th>\n",
       "      <th>Amplitude_2</th>\n",
       "      <th>AndersonDarling_1</th>\n",
       "      <th>AndersonDarling_2</th>\n",
       "      <th>Autocor_length_1</th>\n",
       "      <th>Autocor_length_2</th>\n",
       "      <th>Beyond1Std_1</th>\n",
       "      <th>Beyond1Std_2</th>\n",
       "      <th>Con_1</th>\n",
       "      <th>Con_2</th>\n",
       "      <th>...</th>\n",
       "      <th>paps_low_2</th>\n",
       "      <th>paps_non_zero_1</th>\n",
       "      <th>paps_non_zero_2</th>\n",
       "      <th>paps_ratio_1</th>\n",
       "      <th>paps_ratio_2</th>\n",
       "      <th>positive_fraction_1</th>\n",
       "      <th>positive_fraction_2</th>\n",
       "      <th>rb</th>\n",
       "      <th>sgscore1</th>\n",
       "      <th>classALeRCE</th>\n",
       "    </tr>\n",
       "    <tr>\n",
       "      <th>oid</th>\n",
       "      <th></th>\n",
       "      <th></th>\n",
       "      <th></th>\n",
       "      <th></th>\n",
       "      <th></th>\n",
       "      <th></th>\n",
       "      <th></th>\n",
       "      <th></th>\n",
       "      <th></th>\n",
       "      <th></th>\n",
       "      <th></th>\n",
       "      <th></th>\n",
       "      <th></th>\n",
       "      <th></th>\n",
       "      <th></th>\n",
       "      <th></th>\n",
       "      <th></th>\n",
       "      <th></th>\n",
       "      <th></th>\n",
       "      <th></th>\n",
       "      <th></th>\n",
       "    </tr>\n",
       "  </thead>\n",
       "  <tbody>\n",
       "    <tr>\n",
       "      <th>8213</th>\n",
       "      <td>0.235673</td>\n",
       "      <td>0.182528</td>\n",
       "      <td>1.000000</td>\n",
       "      <td>1.000000</td>\n",
       "      <td>5.0</td>\n",
       "      <td>4.0</td>\n",
       "      <td>0.482759</td>\n",
       "      <td>0.368421</td>\n",
       "      <td>0.0</td>\n",
       "      <td>0.0</td>\n",
       "      <td>...</td>\n",
       "      <td>0.003351</td>\n",
       "      <td>20.0</td>\n",
       "      <td>11.0</td>\n",
       "      <td>3.290918</td>\n",
       "      <td>28.550218</td>\n",
       "      <td>0.275862</td>\n",
       "      <td>0.315789</td>\n",
       "      <td>0.782143</td>\n",
       "      <td>0.512330</td>\n",
       "      <td>1</td>\n",
       "    </tr>\n",
       "    <tr>\n",
       "      <th>8337</th>\n",
       "      <td>0.547051</td>\n",
       "      <td>0.418821</td>\n",
       "      <td>0.999980</td>\n",
       "      <td>1.000000</td>\n",
       "      <td>1.0</td>\n",
       "      <td>1.0</td>\n",
       "      <td>0.478261</td>\n",
       "      <td>0.545455</td>\n",
       "      <td>0.0</td>\n",
       "      <td>0.0</td>\n",
       "      <td>...</td>\n",
       "      <td>0.366392</td>\n",
       "      <td>16.0</td>\n",
       "      <td>23.0</td>\n",
       "      <td>0.791846</td>\n",
       "      <td>2.719942</td>\n",
       "      <td>0.434783</td>\n",
       "      <td>0.454545</td>\n",
       "      <td>0.853095</td>\n",
       "      <td>0.990208</td>\n",
       "      <td>2</td>\n",
       "    </tr>\n",
       "    <tr>\n",
       "      <th>10636</th>\n",
       "      <td>0.233577</td>\n",
       "      <td>0.229972</td>\n",
       "      <td>1.000000</td>\n",
       "      <td>1.000000</td>\n",
       "      <td>1.0</td>\n",
       "      <td>1.0</td>\n",
       "      <td>0.390244</td>\n",
       "      <td>0.285714</td>\n",
       "      <td>0.0</td>\n",
       "      <td>0.0</td>\n",
       "      <td>...</td>\n",
       "      <td>0.010543</td>\n",
       "      <td>29.0</td>\n",
       "      <td>19.0</td>\n",
       "      <td>7.380557</td>\n",
       "      <td>4.244444</td>\n",
       "      <td>0.512195</td>\n",
       "      <td>0.714286</td>\n",
       "      <td>0.767143</td>\n",
       "      <td>1.000000</td>\n",
       "      <td>2</td>\n",
       "    </tr>\n",
       "    <tr>\n",
       "      <th>10770</th>\n",
       "      <td>0.112135</td>\n",
       "      <td>0.093886</td>\n",
       "      <td>0.778768</td>\n",
       "      <td>0.598666</td>\n",
       "      <td>1.0</td>\n",
       "      <td>1.0</td>\n",
       "      <td>0.222222</td>\n",
       "      <td>0.428571</td>\n",
       "      <td>0.0</td>\n",
       "      <td>0.0</td>\n",
       "      <td>...</td>\n",
       "      <td>3.211970</td>\n",
       "      <td>8.0</td>\n",
       "      <td>6.0</td>\n",
       "      <td>2.724132</td>\n",
       "      <td>2.985545</td>\n",
       "      <td>1.000000</td>\n",
       "      <td>1.000000</td>\n",
       "      <td>0.927143</td>\n",
       "      <td>1.000000</td>\n",
       "      <td>1</td>\n",
       "    </tr>\n",
       "    <tr>\n",
       "      <th>19359</th>\n",
       "      <td>0.440421</td>\n",
       "      <td>0.310171</td>\n",
       "      <td>0.999737</td>\n",
       "      <td>0.999898</td>\n",
       "      <td>1.0</td>\n",
       "      <td>1.0</td>\n",
       "      <td>0.500000</td>\n",
       "      <td>0.388889</td>\n",
       "      <td>0.0</td>\n",
       "      <td>0.0</td>\n",
       "      <td>...</td>\n",
       "      <td>0.706505</td>\n",
       "      <td>7.0</td>\n",
       "      <td>8.0</td>\n",
       "      <td>5.608353</td>\n",
       "      <td>8.437688</td>\n",
       "      <td>0.571429</td>\n",
       "      <td>0.611111</td>\n",
       "      <td>0.888571</td>\n",
       "      <td>0.999167</td>\n",
       "      <td>2</td>\n",
       "    </tr>\n",
       "  </tbody>\n",
       "</table>\n",
       "<p>5 rows × 151 columns</p>\n",
       "</div>"
      ],
      "text/plain": [
       "       Amplitude_1  Amplitude_2  AndersonDarling_1  AndersonDarling_2  \\\n",
       "oid                                                                     \n",
       "8213      0.235673     0.182528           1.000000           1.000000   \n",
       "8337      0.547051     0.418821           0.999980           1.000000   \n",
       "10636     0.233577     0.229972           1.000000           1.000000   \n",
       "10770     0.112135     0.093886           0.778768           0.598666   \n",
       "19359     0.440421     0.310171           0.999737           0.999898   \n",
       "\n",
       "       Autocor_length_1  Autocor_length_2  Beyond1Std_1  Beyond1Std_2  Con_1  \\\n",
       "oid                                                                            \n",
       "8213                5.0               4.0      0.482759      0.368421    0.0   \n",
       "8337                1.0               1.0      0.478261      0.545455    0.0   \n",
       "10636               1.0               1.0      0.390244      0.285714    0.0   \n",
       "10770               1.0               1.0      0.222222      0.428571    0.0   \n",
       "19359               1.0               1.0      0.500000      0.388889    0.0   \n",
       "\n",
       "       Con_2  ...  paps_low_2  paps_non_zero_1  paps_non_zero_2  paps_ratio_1  \\\n",
       "oid           ...                                                               \n",
       "8213     0.0  ...    0.003351             20.0             11.0      3.290918   \n",
       "8337     0.0  ...    0.366392             16.0             23.0      0.791846   \n",
       "10636    0.0  ...    0.010543             29.0             19.0      7.380557   \n",
       "10770    0.0  ...    3.211970              8.0              6.0      2.724132   \n",
       "19359    0.0  ...    0.706505              7.0              8.0      5.608353   \n",
       "\n",
       "       paps_ratio_2  positive_fraction_1  positive_fraction_2        rb  \\\n",
       "oid                                                                       \n",
       "8213      28.550218             0.275862             0.315789  0.782143   \n",
       "8337       2.719942             0.434783             0.454545  0.853095   \n",
       "10636      4.244444             0.512195             0.714286  0.767143   \n",
       "10770      2.985545             1.000000             1.000000  0.927143   \n",
       "19359      8.437688             0.571429             0.611111  0.888571   \n",
       "\n",
       "       sgscore1  classALeRCE  \n",
       "oid                           \n",
       "8213   0.512330            1  \n",
       "8337   0.990208            2  \n",
       "10636  1.000000            2  \n",
       "10770  1.000000            1  \n",
       "19359  0.999167            2  \n",
       "\n",
       "[5 rows x 151 columns]"
      ]
     },
     "execution_count": 37,
     "metadata": {},
     "output_type": "execute_result"
    }
   ],
   "source": [
    "df_clean_filas.head()"
   ]
  },
  {
   "cell_type": "code",
   "execution_count": 38,
   "metadata": {},
   "outputs": [
    {
     "data": {
      "text/plain": [
       "<matplotlib.axes._subplots.AxesSubplot at 0x21f03d2bbc8>"
      ]
     },
     "execution_count": 38,
     "metadata": {},
     "output_type": "execute_result"
    },
    {
     "data": {
      "image/png": "[encoded data removed]",
      "text/plain": [
       "<Figure size 1800x720 with 2 Axes>"
      ]
     },
     "metadata": {
      "needs_background": "light"
     },
     "output_type": "display_data"
    }
   ],
   "source": [
    "msno.matrix(df_clean_filas)"
   ]
  },
  {
   "cell_type": "code",
   "execution_count": 39,
   "metadata": {},
   "outputs": [],
   "source": [
    "df_clean_colum=df.dropna(axis = 1)"
   ]
  },
  {
   "cell_type": "code",
   "execution_count": 40,
   "metadata": {
    "scrolled": false
   },
   "outputs": [
    {
     "data": {
      "text/html": [
       "<div>\n",
       "<style scoped>\n",
       "    .dataframe tbody tr th:only-of-type {\n",
       "        vertical-align: middle;\n",
       "    }\n",
       "\n",
       "    .dataframe tbody tr th {\n",
       "        vertical-align: top;\n",
       "    }\n",
       "\n",
       "    .dataframe thead th {\n",
       "        text-align: right;\n",
       "    }\n",
       "</style>\n",
       "<table border=\"1\" class=\"dataframe\">\n",
       "  <thead>\n",
       "    <tr style=\"text-align: right;\">\n",
       "      <th></th>\n",
       "      <th>gal_b</th>\n",
       "      <th>gal_l</th>\n",
       "      <th>rb</th>\n",
       "      <th>sgscore1</th>\n",
       "      <th>classALeRCE</th>\n",
       "    </tr>\n",
       "    <tr>\n",
       "      <th>oid</th>\n",
       "      <th></th>\n",
       "      <th></th>\n",
       "      <th></th>\n",
       "      <th></th>\n",
       "      <th></th>\n",
       "    </tr>\n",
       "  </thead>\n",
       "  <tbody>\n",
       "    <tr>\n",
       "      <th>641</th>\n",
       "      <td>-3.078319</td>\n",
       "      <td>59.374487</td>\n",
       "      <td>0.750000</td>\n",
       "      <td>1.000000</td>\n",
       "      <td>1</td>\n",
       "    </tr>\n",
       "    <tr>\n",
       "      <th>812</th>\n",
       "      <td>-42.274072</td>\n",
       "      <td>203.009998</td>\n",
       "      <td>0.918571</td>\n",
       "      <td>0.984583</td>\n",
       "      <td>1</td>\n",
       "    </tr>\n",
       "    <tr>\n",
       "      <th>839</th>\n",
       "      <td>-47.816583</td>\n",
       "      <td>202.191290</td>\n",
       "      <td>0.881667</td>\n",
       "      <td>0.997500</td>\n",
       "      <td>2</td>\n",
       "    </tr>\n",
       "    <tr>\n",
       "      <th>1416</th>\n",
       "      <td>-69.289818</td>\n",
       "      <td>143.845320</td>\n",
       "      <td>0.720000</td>\n",
       "      <td>1.000000</td>\n",
       "      <td>2</td>\n",
       "    </tr>\n",
       "    <tr>\n",
       "      <th>1651</th>\n",
       "      <td>48.236212</td>\n",
       "      <td>304.676823</td>\n",
       "      <td>0.760714</td>\n",
       "      <td>0.993333</td>\n",
       "      <td>2</td>\n",
       "    </tr>\n",
       "  </tbody>\n",
       "</table>\n",
       "</div>"
      ],
      "text/plain": [
       "          gal_b       gal_l        rb  sgscore1 classALeRCE\n",
       "oid                                                        \n",
       "641   -3.078319   59.374487  0.750000  1.000000           1\n",
       "812  -42.274072  203.009998  0.918571  0.984583           1\n",
       "839  -47.816583  202.191290  0.881667  0.997500           2\n",
       "1416 -69.289818  143.845320  0.720000  1.000000           2\n",
       "1651  48.236212  304.676823  0.760714  0.993333           2"
      ]
     },
     "execution_count": 40,
     "metadata": {},
     "output_type": "execute_result"
    }
   ],
   "source": [
    "df_clean_colum.head()"
   ]
  },
  {
   "cell_type": "code",
   "execution_count": 42,
   "metadata": {
    "scrolled": true
   },
   "outputs": [
    {
     "data": {
      "text/plain": [
       "<matplotlib.axes._subplots.AxesSubplot at 0x21f032049c8>"
      ]
     },
     "execution_count": 42,
     "metadata": {},
     "output_type": "execute_result"
    },
    {
     "data": {
      "image/png": "[encoded data removed]",
      "text/plain": [
       "<Figure size 1800x720 with 2 Axes>"
      ]
     },
     "metadata": {
      "needs_background": "light"
     },
     "output_type": "display_data"
    }
   ],
   "source": [
    "msno.matrix(df_clean_colum)"
   ]
  },
  {
   "cell_type": "code",
   "execution_count": 44,
   "metadata": {
    "scrolled": true
   },
   "outputs": [
    {
     "name": "stdout",
     "output_type": "stream",
     "text": [
      "<class 'pandas.core.frame.DataFrame'>\n",
      "Int64Index: 38685 entries, 641 to 690629\n",
      "Data columns (total 5 columns):\n",
      " #   Column       Non-Null Count  Dtype  \n",
      "---  ------       --------------  -----  \n",
      " 0   gal_b        38685 non-null  float64\n",
      " 1   gal_l        38685 non-null  float64\n",
      " 2   rb           38685 non-null  float64\n",
      " 3   sgscore1     38685 non-null  float64\n",
      " 4   classALeRCE  38685 non-null  object \n",
      "dtypes: float64(4), object(1)\n",
      "memory usage: 1.8+ MB\n"
     ]
    }
   ],
   "source": [
    "df_clean_colum.info()"
   ]
  },
  {
   "cell_type": "markdown",
   "metadata": {},
   "source": [
    "# Exportar datos a CSV:"
   ]
  },
  {
   "cell_type": "code",
   "execution_count": 42,
   "metadata": {},
   "outputs": [],
   "source": [
    "#df_clean_colum.to_excel('df_fin_ALE.xlsx')"
   ]
  },
  {
   "cell_type": "code",
   "execution_count": 43,
   "metadata": {},
   "outputs": [],
   "source": [
    "#df_clean_filas.to_csv('df_fin_ALE_filas.csv')"
   ]
  },
  {
   "cell_type": "code",
   "execution_count": 41,
   "metadata": {
    "scrolled": true
   },
   "outputs": [],
   "source": [
    "#df_fin.info()"
   ]
  },
  {
   "cell_type": "markdown",
   "metadata": {},
   "source": [
    "# Importar datos limpios CSV  :"
   ]
  },
  {
   "cell_type": "code",
   "execution_count": 56,
   "metadata": {},
   "outputs": [
    {
     "data": {
      "text/html": [
       "<div>\n",
       "<style scoped>\n",
       "    .dataframe tbody tr th:only-of-type {\n",
       "        vertical-align: middle;\n",
       "    }\n",
       "\n",
       "    .dataframe tbody tr th {\n",
       "        vertical-align: top;\n",
       "    }\n",
       "\n",
       "    .dataframe thead th {\n",
       "        text-align: right;\n",
       "    }\n",
       "</style>\n",
       "<table border=\"1\" class=\"dataframe\">\n",
       "  <thead>\n",
       "    <tr style=\"text-align: right;\">\n",
       "      <th></th>\n",
       "      <th>oid</th>\n",
       "      <th>Amplitude_1</th>\n",
       "      <th>Amplitude_2</th>\n",
       "      <th>AndersonDarling_1</th>\n",
       "      <th>AndersonDarling_2</th>\n",
       "      <th>Autocor_length_1</th>\n",
       "      <th>Autocor_length_2</th>\n",
       "      <th>Beyond1Std_1</th>\n",
       "      <th>Beyond1Std_2</th>\n",
       "      <th>Con_1</th>\n",
       "      <th>...</th>\n",
       "      <th>paps_low_2</th>\n",
       "      <th>paps_non_zero_1</th>\n",
       "      <th>paps_non_zero_2</th>\n",
       "      <th>paps_ratio_1</th>\n",
       "      <th>paps_ratio_2</th>\n",
       "      <th>positive_fraction_1</th>\n",
       "      <th>positive_fraction_2</th>\n",
       "      <th>rb</th>\n",
       "      <th>sgscore1</th>\n",
       "      <th>classALeRCE</th>\n",
       "    </tr>\n",
       "  </thead>\n",
       "  <tbody>\n",
       "    <tr>\n",
       "      <th>count</th>\n",
       "      <td>9699.000000</td>\n",
       "      <td>9699.000000</td>\n",
       "      <td>9699.000000</td>\n",
       "      <td>9699.000000</td>\n",
       "      <td>9699.000000</td>\n",
       "      <td>9699.000000</td>\n",
       "      <td>9699.000000</td>\n",
       "      <td>9699.000000</td>\n",
       "      <td>9699.000000</td>\n",
       "      <td>9699.000000</td>\n",
       "      <td>...</td>\n",
       "      <td>9699.000000</td>\n",
       "      <td>9699.000000</td>\n",
       "      <td>9699.000000</td>\n",
       "      <td>9.699000e+03</td>\n",
       "      <td>9.699000e+03</td>\n",
       "      <td>9699.000000</td>\n",
       "      <td>9699.000000</td>\n",
       "      <td>9699.000000</td>\n",
       "      <td>9699.000000</td>\n",
       "      <td>9699.000000</td>\n",
       "    </tr>\n",
       "    <tr>\n",
       "      <th>mean</th>\n",
       "      <td>346448.603052</td>\n",
       "      <td>0.413414</td>\n",
       "      <td>0.357055</td>\n",
       "      <td>0.920867</td>\n",
       "      <td>0.911909</td>\n",
       "      <td>2.741829</td>\n",
       "      <td>2.645324</td>\n",
       "      <td>0.342411</td>\n",
       "      <td>0.333024</td>\n",
       "      <td>0.003003</td>\n",
       "      <td>...</td>\n",
       "      <td>2.284454</td>\n",
       "      <td>35.347355</td>\n",
       "      <td>28.729457</td>\n",
       "      <td>6.177710e+08</td>\n",
       "      <td>2.288149e+11</td>\n",
       "      <td>0.491401</td>\n",
       "      <td>0.483722</td>\n",
       "      <td>0.788406</td>\n",
       "      <td>0.782763</td>\n",
       "      <td>1.529539</td>\n",
       "    </tr>\n",
       "    <tr>\n",
       "      <th>std</th>\n",
       "      <td>198422.271842</td>\n",
       "      <td>0.392286</td>\n",
       "      <td>0.362795</td>\n",
       "      <td>0.182799</td>\n",
       "      <td>0.194241</td>\n",
       "      <td>3.524354</td>\n",
       "      <td>3.685064</td>\n",
       "      <td>0.114921</td>\n",
       "      <td>0.111104</td>\n",
       "      <td>0.012090</td>\n",
       "      <td>...</td>\n",
       "      <td>11.760035</td>\n",
       "      <td>38.593191</td>\n",
       "      <td>35.858841</td>\n",
       "      <td>4.784953e+10</td>\n",
       "      <td>2.133193e+13</td>\n",
       "      <td>0.352263</td>\n",
       "      <td>0.351106</td>\n",
       "      <td>0.076145</td>\n",
       "      <td>10.155317</td>\n",
       "      <td>0.528843</td>\n",
       "    </tr>\n",
       "    <tr>\n",
       "      <th>min</th>\n",
       "      <td>53.000000</td>\n",
       "      <td>0.012033</td>\n",
       "      <td>0.010633</td>\n",
       "      <td>0.114766</td>\n",
       "      <td>0.122393</td>\n",
       "      <td>1.000000</td>\n",
       "      <td>1.000000</td>\n",
       "      <td>0.016949</td>\n",
       "      <td>0.025000</td>\n",
       "      <td>0.000000</td>\n",
       "      <td>...</td>\n",
       "      <td>-0.038041</td>\n",
       "      <td>1.000000</td>\n",
       "      <td>1.000000</td>\n",
       "      <td>-1.366751e+06</td>\n",
       "      <td>-1.916440e+13</td>\n",
       "      <td>0.000000</td>\n",
       "      <td>0.000000</td>\n",
       "      <td>0.588571</td>\n",
       "      <td>-999.000000</td>\n",
       "      <td>1.000000</td>\n",
       "    </tr>\n",
       "    <tr>\n",
       "      <th>25%</th>\n",
       "      <td>173403.000000</td>\n",
       "      <td>0.192298</td>\n",
       "      <td>0.168039</td>\n",
       "      <td>0.981651</td>\n",
       "      <td>0.967387</td>\n",
       "      <td>1.000000</td>\n",
       "      <td>1.000000</td>\n",
       "      <td>0.269231</td>\n",
       "      <td>0.258065</td>\n",
       "      <td>0.000000</td>\n",
       "      <td>...</td>\n",
       "      <td>0.001869</td>\n",
       "      <td>10.000000</td>\n",
       "      <td>7.000000</td>\n",
       "      <td>2.783158e+00</td>\n",
       "      <td>2.146800e+00</td>\n",
       "      <td>0.181818</td>\n",
       "      <td>0.163028</td>\n",
       "      <td>0.732857</td>\n",
       "      <td>0.938786</td>\n",
       "      <td>1.000000</td>\n",
       "    </tr>\n",
       "    <tr>\n",
       "      <th>50%</th>\n",
       "      <td>345780.000000</td>\n",
       "      <td>0.308352</td>\n",
       "      <td>0.263057</td>\n",
       "      <td>0.999998</td>\n",
       "      <td>0.999987</td>\n",
       "      <td>1.000000</td>\n",
       "      <td>1.000000</td>\n",
       "      <td>0.342105</td>\n",
       "      <td>0.333333</td>\n",
       "      <td>0.000000</td>\n",
       "      <td>...</td>\n",
       "      <td>0.025250</td>\n",
       "      <td>22.000000</td>\n",
       "      <td>16.000000</td>\n",
       "      <td>1.191765e+01</td>\n",
       "      <td>9.670909e+00</td>\n",
       "      <td>0.466667</td>\n",
       "      <td>0.464286</td>\n",
       "      <td>0.782857</td>\n",
       "      <td>0.989083</td>\n",
       "      <td>2.000000</td>\n",
       "    </tr>\n",
       "    <tr>\n",
       "      <th>75%</th>\n",
       "      <td>516615.500000</td>\n",
       "      <td>0.508060</td>\n",
       "      <td>0.402342</td>\n",
       "      <td>1.000000</td>\n",
       "      <td>1.000000</td>\n",
       "      <td>3.000000</td>\n",
       "      <td>3.000000</td>\n",
       "      <td>0.416667</td>\n",
       "      <td>0.410256</td>\n",
       "      <td>0.000000</td>\n",
       "      <td>...</td>\n",
       "      <td>0.294124</td>\n",
       "      <td>47.000000</td>\n",
       "      <td>35.000000</td>\n",
       "      <td>9.730027e+01</td>\n",
       "      <td>9.011661e+01</td>\n",
       "      <td>0.825000</td>\n",
       "      <td>0.800000</td>\n",
       "      <td>0.841429</td>\n",
       "      <td>0.998750</td>\n",
       "      <td>2.000000</td>\n",
       "    </tr>\n",
       "    <tr>\n",
       "      <th>max</th>\n",
       "      <td>691209.000000</td>\n",
       "      <td>3.631870</td>\n",
       "      <td>3.491099</td>\n",
       "      <td>1.000000</td>\n",
       "      <td>1.000000</td>\n",
       "      <td>38.000000</td>\n",
       "      <td>57.000000</td>\n",
       "      <td>0.750000</td>\n",
       "      <td>0.700000</td>\n",
       "      <td>0.120370</td>\n",
       "      <td>...</td>\n",
       "      <td>438.250371</td>\n",
       "      <td>442.000000</td>\n",
       "      <td>455.000000</td>\n",
       "      <td>4.554155e+12</td>\n",
       "      <td>2.097029e+15</td>\n",
       "      <td>1.000000</td>\n",
       "      <td>1.000000</td>\n",
       "      <td>0.973571</td>\n",
       "      <td>1.000000</td>\n",
       "      <td>3.000000</td>\n",
       "    </tr>\n",
       "  </tbody>\n",
       "</table>\n",
       "<p>8 rows × 152 columns</p>\n",
       "</div>"
      ],
      "text/plain": [
       "                 oid  Amplitude_1  Amplitude_2  AndersonDarling_1  \\\n",
       "count    9699.000000  9699.000000  9699.000000        9699.000000   \n",
       "mean   346448.603052     0.413414     0.357055           0.920867   \n",
       "std    198422.271842     0.392286     0.362795           0.182799   \n",
       "min        53.000000     0.012033     0.010633           0.114766   \n",
       "25%    173403.000000     0.192298     0.168039           0.981651   \n",
       "50%    345780.000000     0.308352     0.263057           0.999998   \n",
       "75%    516615.500000     0.508060     0.402342           1.000000   \n",
       "max    691209.000000     3.631870     3.491099           1.000000   \n",
       "\n",
       "       AndersonDarling_2  Autocor_length_1  Autocor_length_2  Beyond1Std_1  \\\n",
       "count        9699.000000       9699.000000       9699.000000   9699.000000   \n",
       "mean            0.911909          2.741829          2.645324      0.342411   \n",
       "std             0.194241          3.524354          3.685064      0.114921   \n",
       "min             0.122393          1.000000          1.000000      0.016949   \n",
       "25%             0.967387          1.000000          1.000000      0.269231   \n",
       "50%             0.999987          1.000000          1.000000      0.342105   \n",
       "75%             1.000000          3.000000          3.000000      0.416667   \n",
       "max             1.000000         38.000000         57.000000      0.750000   \n",
       "\n",
       "       Beyond1Std_2        Con_1  ...   paps_low_2  paps_non_zero_1  \\\n",
       "count   9699.000000  9699.000000  ...  9699.000000      9699.000000   \n",
       "mean       0.333024     0.003003  ...     2.284454        35.347355   \n",
       "std        0.111104     0.012090  ...    11.760035        38.593191   \n",
       "min        0.025000     0.000000  ...    -0.038041         1.000000   \n",
       "25%        0.258065     0.000000  ...     0.001869        10.000000   \n",
       "50%        0.333333     0.000000  ...     0.025250        22.000000   \n",
       "75%        0.410256     0.000000  ...     0.294124        47.000000   \n",
       "max        0.700000     0.120370  ...   438.250371       442.000000   \n",
       "\n",
       "       paps_non_zero_2  paps_ratio_1  paps_ratio_2  positive_fraction_1  \\\n",
       "count      9699.000000  9.699000e+03  9.699000e+03          9699.000000   \n",
       "mean         28.729457  6.177710e+08  2.288149e+11             0.491401   \n",
       "std          35.858841  4.784953e+10  2.133193e+13             0.352263   \n",
       "min           1.000000 -1.366751e+06 -1.916440e+13             0.000000   \n",
       "25%           7.000000  2.783158e+00  2.146800e+00             0.181818   \n",
       "50%          16.000000  1.191765e+01  9.670909e+00             0.466667   \n",
       "75%          35.000000  9.730027e+01  9.011661e+01             0.825000   \n",
       "max         455.000000  4.554155e+12  2.097029e+15             1.000000   \n",
       "\n",
       "       positive_fraction_2           rb     sgscore1  classALeRCE  \n",
       "count          9699.000000  9699.000000  9699.000000  9699.000000  \n",
       "mean              0.483722     0.788406     0.782763     1.529539  \n",
       "std               0.351106     0.076145    10.155317     0.528843  \n",
       "min               0.000000     0.588571  -999.000000     1.000000  \n",
       "25%               0.163028     0.732857     0.938786     1.000000  \n",
       "50%               0.464286     0.782857     0.989083     2.000000  \n",
       "75%               0.800000     0.841429     0.998750     2.000000  \n",
       "max               1.000000     0.973571     1.000000     3.000000  \n",
       "\n",
       "[8 rows x 152 columns]"
      ]
     },
     "execution_count": 56,
     "metadata": {},
     "output_type": "execute_result"
    }
   ],
   "source": [
    "df_stream1 = pd.read_csv('C:/Users/yerko/Anaconda3/Lib/site-packages/skmultiflow/data/datasets/df_fin_ALE_filas.csv')\n",
    "df_stream1.describe()"
   ]
  },
  {
   "cell_type": "code",
   "execution_count": 66,
   "metadata": {},
   "outputs": [],
   "source": [
    "X = np.array(df_stream1.drop(['classALeRCE'],1))\n",
    "\n",
    "y = np.array(df_stream1['classALeRCE'])\n",
    "y.shape\n",
    "#Separar datos\n",
    "from sklearn.model_selection import train_test_split\n",
    "X_train, X_test, y_train, y_test, = train_test_split(X, y, test_size = 0.3,\n",
    "random_state = 63)"
   ]
  },
  {
   "cell_type": "code",
   "execution_count": 67,
   "metadata": {
    "scrolled": true
   },
   "outputs": [
    {
     "data": {
      "text/plain": [
       "0.49003436426116836"
      ]
     },
     "execution_count": 67,
     "metadata": {},
     "output_type": "execute_result"
    }
   ],
   "source": [
    "#################### Logistica Simple #############\n",
    "from sklearn import feature_selection\n",
    "from sklearn import linear_model\n",
    "model = linear_model.LogisticRegression()\n",
    "model.fit(X_train,y_train)\n",
    "predictions = model.predict(X_test)\n",
    "model.score(X_test,y_test)\n"
   ]
  },
  {
   "cell_type": "code",
   "execution_count": 69,
   "metadata": {},
   "outputs": [
    {
     "data": {
      "text/plain": [
       "0.12055253982543945"
      ]
     },
     "execution_count": 69,
     "metadata": {},
     "output_type": "execute_result"
    }
   ],
   "source": [
    "from time import time\n",
    "tiempo_inicial = time() \n",
    "model = linear_model.LogisticRegression()\n",
    "model.fit(X_train,y_train)\n",
    "predictions = model.predict(X_test)\n",
    "model.score(X_test,y_test)\n",
    "tiempo_final = time() \n",
    "\n",
    "tiempo_ejecucion = tiempo_final - tiempo_inicial\n",
    "tiempo_ejecucion"
   ]
  },
  {
   "cell_type": "code",
   "execution_count": 73,
   "metadata": {},
   "outputs": [
    {
     "data": {
      "text/plain": [
       "0.11659836769104004"
      ]
     },
     "execution_count": 73,
     "metadata": {},
     "output_type": "execute_result"
    }
   ],
   "source": [
    "from time import time\n",
    "tiempo_inicial = time() \n",
    "model = linear_model.LogisticRegression()\n",
    "model.fit(X_train,y_train)\n",
    "predictions = model.predict(X_test)\n",
    "model.score(X_test,y_test)\n",
    "tiempo_final = time() \n",
    " \n",
    "tiempo_ejecucion = tiempo_final - tiempo_inicial\n",
    "tiempo_ejecucion"
   ]
  },
  {
   "cell_type": "code",
   "execution_count": 71,
   "metadata": {},
   "outputs": [
    {
     "data": {
      "text/plain": [
       "0.9573883161512028"
      ]
     },
     "execution_count": 71,
     "metadata": {},
     "output_type": "execute_result"
    }
   ],
   "source": [
    "################## Arbol ###############\n",
    "\n",
    "from sklearn import tree\n",
    "model_arbol = tree.DecisionTreeClassifier()\n",
    "model_arbol.fit(X_train,y_train)\n",
    "predictions = model_arbol.predict(X_test)\n",
    "model_arbol.score(X_test,y_test)"
   ]
  },
  {
   "cell_type": "code",
   "execution_count": 74,
   "metadata": {},
   "outputs": [
    {
     "data": {
      "text/plain": [
       "3.108931064605713"
      ]
     },
     "execution_count": 74,
     "metadata": {},
     "output_type": "execute_result"
    }
   ],
   "source": [
    "from time import time\n",
    "tiempo_inicial = time() \n",
    "\n",
    "model_arbol = tree.DecisionTreeClassifier()\n",
    "model_arbol.fit(X_train,y_train)\n",
    "predictions = model_arbol.predict(X_test)\n",
    "model_arbol.score(X_test,y_test)\n",
    "tiempo_final = time() \n",
    "\n",
    "tiempo_ejecucion = tiempo_final - tiempo_inicial\n",
    "tiempo_ejecucion"
   ]
  },
  {
   "cell_type": "code",
   "execution_count": 48,
   "metadata": {},
   "outputs": [
    {
     "data": {
      "text/plain": [
       "0.9137457044673539"
      ]
     },
     "execution_count": 48,
     "metadata": {},
     "output_type": "execute_result"
    }
   ],
   "source": [
    "################# Naive Bayes Classifier ##############\n",
    "from sklearn.naive_bayes import GaussianNB\n",
    "model_nbayes = GaussianNB()\n",
    "model_nbayes.fit(X_train, y_train)\n",
    "predictions = model_nbayes.predict(X_test)\n",
    "model_nbayes.score(X_test,y_test)\n"
   ]
  },
  {
   "cell_type": "code",
   "execution_count": 75,
   "metadata": {},
   "outputs": [
    {
     "data": {
      "text/plain": [
       "0.0743100643157959"
      ]
     },
     "execution_count": 75,
     "metadata": {},
     "output_type": "execute_result"
    }
   ],
   "source": [
    "from time import time\n",
    "tiempo_inicial = time() \n",
    "model_nbayes = GaussianNB()\n",
    "model_nbayes.fit(X_train, y_train)\n",
    "predictions = model_nbayes.predict(X_test)\n",
    "model_nbayes.score(X_test,y_test)\n",
    "tiempo_final = time() \n",
    "\n",
    "tiempo_ejecucion = tiempo_final - tiempo_inicial\n",
    "tiempo_ejecucion"
   ]
  },
  {
   "cell_type": "code",
   "execution_count": 76,
   "metadata": {
    "scrolled": true
   },
   "outputs": [
    {
     "data": {
      "text/plain": [
       "0.3766323024054983"
      ]
     },
     "execution_count": 76,
     "metadata": {},
     "output_type": "execute_result"
    }
   ],
   "source": [
    "############ Perceptron ###########\n",
    "\n",
    "from sklearn.datasets import load_digits\n",
    "from sklearn.linear_model import Perceptron\n",
    "\n",
    "percep = Perceptron(tol=1e-3, random_state=0)\n",
    "percep.fit(X_train,y_train)\n",
    "predictions = percep.predict(X_test)\n",
    "percep.score(X_test,y_test)\n"
   ]
  },
  {
   "cell_type": "code",
   "execution_count": 77,
   "metadata": {},
   "outputs": [
    {
     "data": {
      "text/plain": [
       "0.2618706226348877"
      ]
     },
     "execution_count": 77,
     "metadata": {},
     "output_type": "execute_result"
    }
   ],
   "source": [
    "from time import time\n",
    "tiempo_inicial = time() \n",
    "percep = Perceptron(tol=1e-3, random_state=0)\n",
    "percep.fit(X_train,y_train)\n",
    "predictions = percep.predict(X_test)\n",
    "percep.score(X_test,y_test)\n",
    "tiempo_final = time() \n",
    "\n",
    "tiempo_ejecucion = tiempo_final - tiempo_inicial\n",
    "tiempo_ejecucion"
   ]
  },
  {
   "cell_type": "code",
   "execution_count": null,
   "metadata": {},
   "outputs": [],
   "source": []
  },
  {
   "cell_type": "markdown",
   "metadata": {},
   "source": [
    "# Seleccion de variables"
   ]
  },
  {
   "cell_type": "code",
   "execution_count": 119,
   "metadata": {},
   "outputs": [],
   "source": [
    "\"\"\"\n",
    "Create a Decision Stump\n",
    "\"\"\"\n",
    "\n",
    "import numpy as np\n",
    "import matplotlib.pyplot as plt\n",
    "import pandas as pd\n",
    "from matplotlib import style\n",
    "style.use('fivethirtyeight')\n",
    "from sklearn.tree import DecisionTreeClassifier\n",
    "from sklearn.preprocessing import LabelEncoder\n",
    "from sklearn.model_selection import cross_validate\n",
    "import scipy.stats as sps\n",
    "from sklearn.ensemble import ExtraTreesClassifier"
   ]
  },
  {
   "cell_type": "code",
   "execution_count": 120,
   "metadata": {
    "scrolled": false
   },
   "outputs": [],
   "source": [
    "dataset = pd.read_csv('C:/Users/yerko/Anaconda3/Lib/site-packages/skmultiflow/data/datasets/df_fin_ALE_filas.csv')\n"
   ]
  },
  {
   "cell_type": "code",
   "execution_count": 121,
   "metadata": {
    "scrolled": true
   },
   "outputs": [
    {
     "data": {
      "text/plain": [
       "2    4840\n",
       "1    4711\n",
       "3     148\n",
       "Name: classALeRCE, dtype: int64"
      ]
     },
     "execution_count": 121,
     "metadata": {},
     "output_type": "execute_result"
    }
   ],
   "source": [
    "dataset['classALeRCE'].value_counts()"
   ]
  },
  {
   "cell_type": "code",
   "execution_count": 122,
   "metadata": {
    "scrolled": true
   },
   "outputs": [
    {
     "data": {
      "text/plain": [
       "<matplotlib.axes._subplots.AxesSubplot at 0x21f05719c48>"
      ]
     },
     "execution_count": 122,
     "metadata": {},
     "output_type": "execute_result"
    },
    {
     "data": {
      "image/png": "[encoded data removed]",
      "text/plain": [
       "<Figure size 1800x720 with 2 Axes>"
      ]
     },
     "metadata": {},
     "output_type": "display_data"
    }
   ],
   "source": [
    "msno.matrix(dataset)"
   ]
  },
  {
   "cell_type": "code",
   "execution_count": 123,
   "metadata": {
    "scrolled": true
   },
   "outputs": [
    {
     "data": {
      "text/html": [
       "<div>\n",
       "<style scoped>\n",
       "    .dataframe tbody tr th:only-of-type {\n",
       "        vertical-align: middle;\n",
       "    }\n",
       "\n",
       "    .dataframe tbody tr th {\n",
       "        vertical-align: top;\n",
       "    }\n",
       "\n",
       "    .dataframe thead th {\n",
       "        text-align: right;\n",
       "    }\n",
       "</style>\n",
       "<table border=\"1\" class=\"dataframe\">\n",
       "  <thead>\n",
       "    <tr style=\"text-align: right;\">\n",
       "      <th></th>\n",
       "      <th>oid</th>\n",
       "      <th>Amplitude_1</th>\n",
       "      <th>Amplitude_2</th>\n",
       "      <th>AndersonDarling_1</th>\n",
       "      <th>AndersonDarling_2</th>\n",
       "      <th>Autocor_length_1</th>\n",
       "      <th>Autocor_length_2</th>\n",
       "      <th>Beyond1Std_1</th>\n",
       "      <th>Beyond1Std_2</th>\n",
       "      <th>Con_1</th>\n",
       "      <th>...</th>\n",
       "      <th>paps_low_2</th>\n",
       "      <th>paps_non_zero_1</th>\n",
       "      <th>paps_non_zero_2</th>\n",
       "      <th>paps_ratio_1</th>\n",
       "      <th>paps_ratio_2</th>\n",
       "      <th>positive_fraction_1</th>\n",
       "      <th>positive_fraction_2</th>\n",
       "      <th>rb</th>\n",
       "      <th>sgscore1</th>\n",
       "      <th>classALeRCE</th>\n",
       "    </tr>\n",
       "  </thead>\n",
       "  <tbody>\n",
       "    <tr>\n",
       "      <th>0</th>\n",
       "      <td>8213</td>\n",
       "      <td>0.235673</td>\n",
       "      <td>0.182528</td>\n",
       "      <td>1.000000</td>\n",
       "      <td>1.000000</td>\n",
       "      <td>5.0</td>\n",
       "      <td>4.0</td>\n",
       "      <td>0.482759</td>\n",
       "      <td>0.368421</td>\n",
       "      <td>0.0</td>\n",
       "      <td>...</td>\n",
       "      <td>0.003351</td>\n",
       "      <td>20.0</td>\n",
       "      <td>11.0</td>\n",
       "      <td>3.290918</td>\n",
       "      <td>28.550218</td>\n",
       "      <td>0.275862</td>\n",
       "      <td>0.315789</td>\n",
       "      <td>0.782143</td>\n",
       "      <td>0.512330</td>\n",
       "      <td>1</td>\n",
       "    </tr>\n",
       "    <tr>\n",
       "      <th>1</th>\n",
       "      <td>8337</td>\n",
       "      <td>0.547051</td>\n",
       "      <td>0.418821</td>\n",
       "      <td>0.999980</td>\n",
       "      <td>1.000000</td>\n",
       "      <td>1.0</td>\n",
       "      <td>1.0</td>\n",
       "      <td>0.478261</td>\n",
       "      <td>0.545455</td>\n",
       "      <td>0.0</td>\n",
       "      <td>...</td>\n",
       "      <td>0.366392</td>\n",
       "      <td>16.0</td>\n",
       "      <td>23.0</td>\n",
       "      <td>0.791846</td>\n",
       "      <td>2.719942</td>\n",
       "      <td>0.434783</td>\n",
       "      <td>0.454545</td>\n",
       "      <td>0.853095</td>\n",
       "      <td>0.990208</td>\n",
       "      <td>2</td>\n",
       "    </tr>\n",
       "    <tr>\n",
       "      <th>2</th>\n",
       "      <td>10636</td>\n",
       "      <td>0.233577</td>\n",
       "      <td>0.229972</td>\n",
       "      <td>1.000000</td>\n",
       "      <td>1.000000</td>\n",
       "      <td>1.0</td>\n",
       "      <td>1.0</td>\n",
       "      <td>0.390244</td>\n",
       "      <td>0.285714</td>\n",
       "      <td>0.0</td>\n",
       "      <td>...</td>\n",
       "      <td>0.010543</td>\n",
       "      <td>29.0</td>\n",
       "      <td>19.0</td>\n",
       "      <td>7.380557</td>\n",
       "      <td>4.244444</td>\n",
       "      <td>0.512195</td>\n",
       "      <td>0.714286</td>\n",
       "      <td>0.767143</td>\n",
       "      <td>1.000000</td>\n",
       "      <td>2</td>\n",
       "    </tr>\n",
       "    <tr>\n",
       "      <th>3</th>\n",
       "      <td>10770</td>\n",
       "      <td>0.112135</td>\n",
       "      <td>0.093886</td>\n",
       "      <td>0.778768</td>\n",
       "      <td>0.598666</td>\n",
       "      <td>1.0</td>\n",
       "      <td>1.0</td>\n",
       "      <td>0.222222</td>\n",
       "      <td>0.428571</td>\n",
       "      <td>0.0</td>\n",
       "      <td>...</td>\n",
       "      <td>3.211970</td>\n",
       "      <td>8.0</td>\n",
       "      <td>6.0</td>\n",
       "      <td>2.724132</td>\n",
       "      <td>2.985545</td>\n",
       "      <td>1.000000</td>\n",
       "      <td>1.000000</td>\n",
       "      <td>0.927143</td>\n",
       "      <td>1.000000</td>\n",
       "      <td>1</td>\n",
       "    </tr>\n",
       "    <tr>\n",
       "      <th>4</th>\n",
       "      <td>19359</td>\n",
       "      <td>0.440421</td>\n",
       "      <td>0.310171</td>\n",
       "      <td>0.999737</td>\n",
       "      <td>0.999898</td>\n",
       "      <td>1.0</td>\n",
       "      <td>1.0</td>\n",
       "      <td>0.500000</td>\n",
       "      <td>0.388889</td>\n",
       "      <td>0.0</td>\n",
       "      <td>...</td>\n",
       "      <td>0.706505</td>\n",
       "      <td>7.0</td>\n",
       "      <td>8.0</td>\n",
       "      <td>5.608353</td>\n",
       "      <td>8.437688</td>\n",
       "      <td>0.571429</td>\n",
       "      <td>0.611111</td>\n",
       "      <td>0.888571</td>\n",
       "      <td>0.999167</td>\n",
       "      <td>2</td>\n",
       "    </tr>\n",
       "    <tr>\n",
       "      <th>...</th>\n",
       "      <td>...</td>\n",
       "      <td>...</td>\n",
       "      <td>...</td>\n",
       "      <td>...</td>\n",
       "      <td>...</td>\n",
       "      <td>...</td>\n",
       "      <td>...</td>\n",
       "      <td>...</td>\n",
       "      <td>...</td>\n",
       "      <td>...</td>\n",
       "      <td>...</td>\n",
       "      <td>...</td>\n",
       "      <td>...</td>\n",
       "      <td>...</td>\n",
       "      <td>...</td>\n",
       "      <td>...</td>\n",
       "      <td>...</td>\n",
       "      <td>...</td>\n",
       "      <td>...</td>\n",
       "      <td>...</td>\n",
       "      <td>...</td>\n",
       "    </tr>\n",
       "    <tr>\n",
       "      <th>9694</th>\n",
       "      <td>661399</td>\n",
       "      <td>0.334123</td>\n",
       "      <td>0.227281</td>\n",
       "      <td>1.000000</td>\n",
       "      <td>1.000000</td>\n",
       "      <td>1.0</td>\n",
       "      <td>1.0</td>\n",
       "      <td>0.205882</td>\n",
       "      <td>0.461538</td>\n",
       "      <td>0.0</td>\n",
       "      <td>...</td>\n",
       "      <td>0.224333</td>\n",
       "      <td>17.0</td>\n",
       "      <td>14.0</td>\n",
       "      <td>2.146947</td>\n",
       "      <td>52.644745</td>\n",
       "      <td>0.235294</td>\n",
       "      <td>0.461538</td>\n",
       "      <td>0.805000</td>\n",
       "      <td>0.997500</td>\n",
       "      <td>2</td>\n",
       "    </tr>\n",
       "    <tr>\n",
       "      <th>9695</th>\n",
       "      <td>666252</td>\n",
       "      <td>0.461161</td>\n",
       "      <td>0.557242</td>\n",
       "      <td>0.999557</td>\n",
       "      <td>0.952200</td>\n",
       "      <td>1.0</td>\n",
       "      <td>1.0</td>\n",
       "      <td>0.363636</td>\n",
       "      <td>0.333333</td>\n",
       "      <td>0.0</td>\n",
       "      <td>...</td>\n",
       "      <td>0.007620</td>\n",
       "      <td>4.0</td>\n",
       "      <td>3.0</td>\n",
       "      <td>4.716270</td>\n",
       "      <td>2.444654</td>\n",
       "      <td>0.545455</td>\n",
       "      <td>0.444444</td>\n",
       "      <td>0.792143</td>\n",
       "      <td>0.989167</td>\n",
       "      <td>2</td>\n",
       "    </tr>\n",
       "    <tr>\n",
       "      <th>9696</th>\n",
       "      <td>674708</td>\n",
       "      <td>0.641877</td>\n",
       "      <td>0.443411</td>\n",
       "      <td>1.000000</td>\n",
       "      <td>1.000000</td>\n",
       "      <td>1.0</td>\n",
       "      <td>1.0</td>\n",
       "      <td>0.451613</td>\n",
       "      <td>0.615385</td>\n",
       "      <td>0.0</td>\n",
       "      <td>...</td>\n",
       "      <td>2.867076</td>\n",
       "      <td>24.0</td>\n",
       "      <td>17.0</td>\n",
       "      <td>3.960895</td>\n",
       "      <td>174.519504</td>\n",
       "      <td>0.193548</td>\n",
       "      <td>0.384615</td>\n",
       "      <td>0.880000</td>\n",
       "      <td>0.983542</td>\n",
       "      <td>2</td>\n",
       "    </tr>\n",
       "    <tr>\n",
       "      <th>9697</th>\n",
       "      <td>675332</td>\n",
       "      <td>0.476505</td>\n",
       "      <td>0.342868</td>\n",
       "      <td>1.000000</td>\n",
       "      <td>1.000000</td>\n",
       "      <td>1.0</td>\n",
       "      <td>1.0</td>\n",
       "      <td>0.454128</td>\n",
       "      <td>0.471429</td>\n",
       "      <td>0.0</td>\n",
       "      <td>...</td>\n",
       "      <td>0.003536</td>\n",
       "      <td>210.0</td>\n",
       "      <td>135.0</td>\n",
       "      <td>1.733047</td>\n",
       "      <td>2.662778</td>\n",
       "      <td>0.224771</td>\n",
       "      <td>0.650000</td>\n",
       "      <td>0.818571</td>\n",
       "      <td>0.998750</td>\n",
       "      <td>2</td>\n",
       "    </tr>\n",
       "    <tr>\n",
       "      <th>9698</th>\n",
       "      <td>676681</td>\n",
       "      <td>0.346915</td>\n",
       "      <td>0.322568</td>\n",
       "      <td>1.000000</td>\n",
       "      <td>1.000000</td>\n",
       "      <td>3.0</td>\n",
       "      <td>5.0</td>\n",
       "      <td>0.219512</td>\n",
       "      <td>0.338235</td>\n",
       "      <td>0.0</td>\n",
       "      <td>...</td>\n",
       "      <td>0.007939</td>\n",
       "      <td>32.0</td>\n",
       "      <td>64.0</td>\n",
       "      <td>50.609678</td>\n",
       "      <td>81.406482</td>\n",
       "      <td>0.804878</td>\n",
       "      <td>0.250000</td>\n",
       "      <td>0.705714</td>\n",
       "      <td>0.986250</td>\n",
       "      <td>1</td>\n",
       "    </tr>\n",
       "  </tbody>\n",
       "</table>\n",
       "<p>9699 rows × 152 columns</p>\n",
       "</div>"
      ],
      "text/plain": [
       "         oid  Amplitude_1  Amplitude_2  AndersonDarling_1  AndersonDarling_2  \\\n",
       "0       8213     0.235673     0.182528           1.000000           1.000000   \n",
       "1       8337     0.547051     0.418821           0.999980           1.000000   \n",
       "2      10636     0.233577     0.229972           1.000000           1.000000   \n",
       "3      10770     0.112135     0.093886           0.778768           0.598666   \n",
       "4      19359     0.440421     0.310171           0.999737           0.999898   \n",
       "...      ...          ...          ...                ...                ...   \n",
       "9694  661399     0.334123     0.227281           1.000000           1.000000   \n",
       "9695  666252     0.461161     0.557242           0.999557           0.952200   \n",
       "9696  674708     0.641877     0.443411           1.000000           1.000000   \n",
       "9697  675332     0.476505     0.342868           1.000000           1.000000   \n",
       "9698  676681     0.346915     0.322568           1.000000           1.000000   \n",
       "\n",
       "      Autocor_length_1  Autocor_length_2  Beyond1Std_1  Beyond1Std_2  Con_1  \\\n",
       "0                  5.0               4.0      0.482759      0.368421    0.0   \n",
       "1                  1.0               1.0      0.478261      0.545455    0.0   \n",
       "2                  1.0               1.0      0.390244      0.285714    0.0   \n",
       "3                  1.0               1.0      0.222222      0.428571    0.0   \n",
       "4                  1.0               1.0      0.500000      0.388889    0.0   \n",
       "...                ...               ...           ...           ...    ...   \n",
       "9694               1.0               1.0      0.205882      0.461538    0.0   \n",
       "9695               1.0               1.0      0.363636      0.333333    0.0   \n",
       "9696               1.0               1.0      0.451613      0.615385    0.0   \n",
       "9697               1.0               1.0      0.454128      0.471429    0.0   \n",
       "9698               3.0               5.0      0.219512      0.338235    0.0   \n",
       "\n",
       "      ...  paps_low_2  paps_non_zero_1  paps_non_zero_2  paps_ratio_1  \\\n",
       "0     ...    0.003351             20.0             11.0      3.290918   \n",
       "1     ...    0.366392             16.0             23.0      0.791846   \n",
       "2     ...    0.010543             29.0             19.0      7.380557   \n",
       "3     ...    3.211970              8.0              6.0      2.724132   \n",
       "4     ...    0.706505              7.0              8.0      5.608353   \n",
       "...   ...         ...              ...              ...           ...   \n",
       "9694  ...    0.224333             17.0             14.0      2.146947   \n",
       "9695  ...    0.007620              4.0              3.0      4.716270   \n",
       "9696  ...    2.867076             24.0             17.0      3.960895   \n",
       "9697  ...    0.003536            210.0            135.0      1.733047   \n",
       "9698  ...    0.007939             32.0             64.0     50.609678   \n",
       "\n",
       "      paps_ratio_2  positive_fraction_1  positive_fraction_2        rb  \\\n",
       "0        28.550218             0.275862             0.315789  0.782143   \n",
       "1         2.719942             0.434783             0.454545  0.853095   \n",
       "2         4.244444             0.512195             0.714286  0.767143   \n",
       "3         2.985545             1.000000             1.000000  0.927143   \n",
       "4         8.437688             0.571429             0.611111  0.888571   \n",
       "...            ...                  ...                  ...       ...   \n",
       "9694     52.644745             0.235294             0.461538  0.805000   \n",
       "9695      2.444654             0.545455             0.444444  0.792143   \n",
       "9696    174.519504             0.193548             0.384615  0.880000   \n",
       "9697      2.662778             0.224771             0.650000  0.818571   \n",
       "9698     81.406482             0.804878             0.250000  0.705714   \n",
       "\n",
       "      sgscore1  classALeRCE  \n",
       "0     0.512330            1  \n",
       "1     0.990208            2  \n",
       "2     1.000000            2  \n",
       "3     1.000000            1  \n",
       "4     0.999167            2  \n",
       "...        ...          ...  \n",
       "9694  0.997500            2  \n",
       "9695  0.989167            2  \n",
       "9696  0.983542            2  \n",
       "9697  0.998750            2  \n",
       "9698  0.986250            1  \n",
       "\n",
       "[9699 rows x 152 columns]"
      ]
     },
     "execution_count": 123,
     "metadata": {},
     "output_type": "execute_result"
    }
   ],
   "source": [
    "dataset"
   ]
  },
  {
   "cell_type": "code",
   "execution_count": 138,
   "metadata": {
    "scrolled": true
   },
   "outputs": [
    {
     "name": "stdout",
     "output_type": "stream",
     "text": [
      "                 feature  v_importance\n",
      "50             IAR_phi_2      0.126702\n",
      "49             IAR_phi_1      0.111290\n",
      "105              g-r_max      0.042464\n",
      "81                 Rcs_1      0.040702\n",
      "82                 Rcs_2      0.039213\n",
      "..                   ...           ...\n",
      "24     Harmonics_mag_2_2      0.000560\n",
      "30     Harmonics_mag_5_2      0.000557\n",
      "22     Harmonics_mag_1_2      0.000552\n",
      "34     Harmonics_mag_7_2      0.000543\n",
      "40   Harmonics_phase_3_2      0.000539\n",
      "\n",
      "[151 rows x 2 columns]\n"
     ]
    }
   ],
   "source": [
    "from sklearn.ensemble import ExtraTreesClassifier\n",
    "from sklearn.datasets import make_classification\n",
    "import numpy as np\n",
    "\n",
    "# CARGAR DATOS\n",
    "# -------------------------------------------------------------------\n",
    "dataset = pd.read_csv('C:/Users/yerko/Anaconda3/Lib/site-packages/skmultiflow/data/datasets/df_fin_ALE_filas.csv')\n",
    "\n",
    "clase_name = 'classALeRCE' # nombre de variable a predecir\n",
    "headers = dataset.columns.values.tolist()\n",
    "headers.remove(clase_name)\n",
    "clase   = dataset[clase_name].tolist() # array con variable a predecir\n",
    "clase   = np.array(clase)\n",
    "\n",
    "\n",
    "# CONVIERTE DATA.FRAME EN MATRIZ npy\n",
    "# -------------------------------------------------------------------\n",
    "dataset = dataset.drop(clase_name,1) # borra la clase del data set\n",
    "dataset = dataset.to_numpy() # convierte en matriz\n",
    "dataset = np.matrix(dataset) # convierte en matriz npy\n",
    "\n",
    "# MODELO\n",
    "# -------------------------------------------------------------------\n",
    "model = ExtraTreesClassifier()\n",
    "model.fit(dataset, clase)\n",
    "\n",
    "\n",
    "# IMPORTANCIA VARIABLES\n",
    "# -------------------------------------------------------------------\n",
    "var_imp = pd.DataFrame({\n",
    " 'feature':headers, \n",
    " 'v_importance':model.feature_importances_.tolist()\n",
    " })\n",
    "print (var_imp.sort_values(by = 'v_importance', ascending=False))"
   ]
  },
  {
   "cell_type": "code",
   "execution_count": null,
   "metadata": {},
   "outputs": [],
   "source": [
    "#49,50,106,105,82,126,6,138,81,5,119,17,55,91,67,77,57,148,78,125,84,3,85,120"
   ]
  },
  {
   "cell_type": "code",
   "execution_count": 21,
   "metadata": {
    "scrolled": true
   },
   "outputs": [
    {
     "data": {
      "text/html": [
       "<div>\n",
       "<style scoped>\n",
       "    .dataframe tbody tr th:only-of-type {\n",
       "        vertical-align: middle;\n",
       "    }\n",
       "\n",
       "    .dataframe tbody tr th {\n",
       "        vertical-align: top;\n",
       "    }\n",
       "\n",
       "    .dataframe thead th {\n",
       "        text-align: right;\n",
       "    }\n",
       "</style>\n",
       "<table border=\"1\" class=\"dataframe\">\n",
       "  <thead>\n",
       "    <tr style=\"text-align: right;\">\n",
       "      <th></th>\n",
       "      <th>IAR_phi_1</th>\n",
       "      <th>IAR_phi_2</th>\n",
       "      <th>g-r_mean</th>\n",
       "      <th>g-r_max</th>\n",
       "      <th>Rcs_2</th>\n",
       "      <th>min_mag_2</th>\n",
       "      <th>Autocor_length_2</th>\n",
       "      <th>paps_PN_flag_2</th>\n",
       "      <th>Rcs_1</th>\n",
       "      <th>Autocor_length_1</th>\n",
       "      <th>...</th>\n",
       "      <th>Pvar_1</th>\n",
       "      <th>Meanvariance_1</th>\n",
       "      <th>positive_fraction_2</th>\n",
       "      <th>Pvar_2</th>\n",
       "      <th>min_mag_1</th>\n",
       "      <th>SF_ML_amplitude_2</th>\n",
       "      <th>AndersonDarling_1</th>\n",
       "      <th>SF_ML_gamma_1</th>\n",
       "      <th>mean_mag_2</th>\n",
       "      <th>classALeRCE</th>\n",
       "    </tr>\n",
       "  </thead>\n",
       "  <tbody>\n",
       "    <tr>\n",
       "      <th>count</th>\n",
       "      <td>9.699000e+03</td>\n",
       "      <td>9.699000e+03</td>\n",
       "      <td>9699.000000</td>\n",
       "      <td>9699.000000</td>\n",
       "      <td>9699.000000</td>\n",
       "      <td>9699.000000</td>\n",
       "      <td>9699.000000</td>\n",
       "      <td>9699.000000</td>\n",
       "      <td>9699.000000</td>\n",
       "      <td>9699.000000</td>\n",
       "      <td>...</td>\n",
       "      <td>9.699000e+03</td>\n",
       "      <td>9699.000000</td>\n",
       "      <td>9699.000000</td>\n",
       "      <td>9.699000e+03</td>\n",
       "      <td>9699.000000</td>\n",
       "      <td>9699.000000</td>\n",
       "      <td>9699.000000</td>\n",
       "      <td>9699.000000</td>\n",
       "      <td>9699.000000</td>\n",
       "      <td>9699.000000</td>\n",
       "    </tr>\n",
       "    <tr>\n",
       "      <th>mean</th>\n",
       "      <td>6.185966e-01</td>\n",
       "      <td>6.115592e-01</td>\n",
       "      <td>0.987790</td>\n",
       "      <td>0.922495</td>\n",
       "      <td>0.291896</td>\n",
       "      <td>15.569934</td>\n",
       "      <td>2.645324</td>\n",
       "      <td>0.440870</td>\n",
       "      <td>0.280729</td>\n",
       "      <td>2.741829</td>\n",
       "      <td>...</td>\n",
       "      <td>9.278999e-01</td>\n",
       "      <td>0.015505</td>\n",
       "      <td>0.483722</td>\n",
       "      <td>9.242479e-01</td>\n",
       "      <td>16.492430</td>\n",
       "      <td>0.799970</td>\n",
       "      <td>0.920867</td>\n",
       "      <td>0.257711</td>\n",
       "      <td>15.946847</td>\n",
       "      <td>1.529539</td>\n",
       "    </tr>\n",
       "    <tr>\n",
       "      <th>std</th>\n",
       "      <td>4.229023e-01</td>\n",
       "      <td>4.248653e-01</td>\n",
       "      <td>1.063773</td>\n",
       "      <td>1.088168</td>\n",
       "      <td>0.097006</td>\n",
       "      <td>1.809419</td>\n",
       "      <td>3.685064</td>\n",
       "      <td>0.496517</td>\n",
       "      <td>0.102107</td>\n",
       "      <td>3.524354</td>\n",
       "      <td>...</td>\n",
       "      <td>2.271172e-01</td>\n",
       "      <td>0.014450</td>\n",
       "      <td>0.351106</td>\n",
       "      <td>2.356312e-01</td>\n",
       "      <td>1.652582</td>\n",
       "      <td>1.935322</td>\n",
       "      <td>0.182799</td>\n",
       "      <td>0.513200</td>\n",
       "      <td>1.775481</td>\n",
       "      <td>0.528843</td>\n",
       "    </tr>\n",
       "    <tr>\n",
       "      <th>min</th>\n",
       "      <td>3.334474e-13</td>\n",
       "      <td>3.354038e-13</td>\n",
       "      <td>-1.719590</td>\n",
       "      <td>-1.659080</td>\n",
       "      <td>0.063780</td>\n",
       "      <td>10.516517</td>\n",
       "      <td>1.000000</td>\n",
       "      <td>0.000000</td>\n",
       "      <td>0.049408</td>\n",
       "      <td>1.000000</td>\n",
       "      <td>...</td>\n",
       "      <td>2.040371e-18</td>\n",
       "      <td>0.000378</td>\n",
       "      <td>0.000000</td>\n",
       "      <td>5.400135e-11</td>\n",
       "      <td>11.488517</td>\n",
       "      <td>-0.500000</td>\n",
       "      <td>0.114766</td>\n",
       "      <td>-0.500000</td>\n",
       "      <td>12.026514</td>\n",
       "      <td>1.000000</td>\n",
       "    </tr>\n",
       "    <tr>\n",
       "      <th>25%</th>\n",
       "      <td>6.338516e-02</td>\n",
       "      <td>3.731507e-02</td>\n",
       "      <td>0.216873</td>\n",
       "      <td>0.097052</td>\n",
       "      <td>0.214260</td>\n",
       "      <td>14.189855</td>\n",
       "      <td>1.000000</td>\n",
       "      <td>0.000000</td>\n",
       "      <td>0.197348</td>\n",
       "      <td>1.000000</td>\n",
       "      <td>...</td>\n",
       "      <td>1.000000e+00</td>\n",
       "      <td>0.007235</td>\n",
       "      <td>0.163028</td>\n",
       "      <td>1.000000e+00</td>\n",
       "      <td>15.326724</td>\n",
       "      <td>0.161206</td>\n",
       "      <td>0.981651</td>\n",
       "      <td>-0.014443</td>\n",
       "      <td>14.577569</td>\n",
       "      <td>1.000000</td>\n",
       "    </tr>\n",
       "    <tr>\n",
       "      <th>50%</th>\n",
       "      <td>8.801507e-01</td>\n",
       "      <td>8.670653e-01</td>\n",
       "      <td>0.515534</td>\n",
       "      <td>0.470743</td>\n",
       "      <td>0.290989</td>\n",
       "      <td>15.402381</td>\n",
       "      <td>1.000000</td>\n",
       "      <td>0.000000</td>\n",
       "      <td>0.280444</td>\n",
       "      <td>1.000000</td>\n",
       "      <td>...</td>\n",
       "      <td>1.000000e+00</td>\n",
       "      <td>0.012423</td>\n",
       "      <td>0.464286</td>\n",
       "      <td>1.000000e+00</td>\n",
       "      <td>16.584840</td>\n",
       "      <td>0.298205</td>\n",
       "      <td>0.999998</td>\n",
       "      <td>0.106551</td>\n",
       "      <td>15.830259</td>\n",
       "      <td>2.000000</td>\n",
       "    </tr>\n",
       "    <tr>\n",
       "      <th>75%</th>\n",
       "      <td>9.888482e-01</td>\n",
       "      <td>9.895371e-01</td>\n",
       "      <td>1.850155</td>\n",
       "      <td>1.800926</td>\n",
       "      <td>0.370882</td>\n",
       "      <td>16.899120</td>\n",
       "      <td>3.000000</td>\n",
       "      <td>1.000000</td>\n",
       "      <td>0.364225</td>\n",
       "      <td>3.000000</td>\n",
       "      <td>...</td>\n",
       "      <td>1.000000e+00</td>\n",
       "      <td>0.018939</td>\n",
       "      <td>0.800000</td>\n",
       "      <td>1.000000e+00</td>\n",
       "      <td>17.732403</td>\n",
       "      <td>0.518866</td>\n",
       "      <td>1.000000</td>\n",
       "      <td>0.461814</td>\n",
       "      <td>17.275053</td>\n",
       "      <td>2.000000</td>\n",
       "    </tr>\n",
       "    <tr>\n",
       "      <th>max</th>\n",
       "      <td>1.000000e+00</td>\n",
       "      <td>1.000000e+00</td>\n",
       "      <td>6.011124</td>\n",
       "      <td>5.840322</td>\n",
       "      <td>0.496453</td>\n",
       "      <td>20.532553</td>\n",
       "      <td>57.000000</td>\n",
       "      <td>1.000000</td>\n",
       "      <td>0.498898</td>\n",
       "      <td>38.000000</td>\n",
       "      <td>...</td>\n",
       "      <td>1.000000e+00</td>\n",
       "      <td>0.149043</td>\n",
       "      <td>1.000000</td>\n",
       "      <td>1.000000e+00</td>\n",
       "      <td>21.507551</td>\n",
       "      <td>15.000000</td>\n",
       "      <td>1.000000</td>\n",
       "      <td>3.000000</td>\n",
       "      <td>20.951188</td>\n",
       "      <td>3.000000</td>\n",
       "    </tr>\n",
       "  </tbody>\n",
       "</table>\n",
       "<p>8 rows × 25 columns</p>\n",
       "</div>"
      ],
      "text/plain": [
       "          IAR_phi_1     IAR_phi_2     g-r_mean      g-r_max        Rcs_2  \\\n",
       "count  9.699000e+03  9.699000e+03  9699.000000  9699.000000  9699.000000   \n",
       "mean   6.185966e-01  6.115592e-01     0.987790     0.922495     0.291896   \n",
       "std    4.229023e-01  4.248653e-01     1.063773     1.088168     0.097006   \n",
       "min    3.334474e-13  3.354038e-13    -1.719590    -1.659080     0.063780   \n",
       "25%    6.338516e-02  3.731507e-02     0.216873     0.097052     0.214260   \n",
       "50%    8.801507e-01  8.670653e-01     0.515534     0.470743     0.290989   \n",
       "75%    9.888482e-01  9.895371e-01     1.850155     1.800926     0.370882   \n",
       "max    1.000000e+00  1.000000e+00     6.011124     5.840322     0.496453   \n",
       "\n",
       "         min_mag_2  Autocor_length_2  paps_PN_flag_2        Rcs_1  \\\n",
       "count  9699.000000       9699.000000     9699.000000  9699.000000   \n",
       "mean     15.569934          2.645324        0.440870     0.280729   \n",
       "std       1.809419          3.685064        0.496517     0.102107   \n",
       "min      10.516517          1.000000        0.000000     0.049408   \n",
       "25%      14.189855          1.000000        0.000000     0.197348   \n",
       "50%      15.402381          1.000000        0.000000     0.280444   \n",
       "75%      16.899120          3.000000        1.000000     0.364225   \n",
       "max      20.532553         57.000000        1.000000     0.498898   \n",
       "\n",
       "       Autocor_length_1  ...        Pvar_1  Meanvariance_1  \\\n",
       "count       9699.000000  ...  9.699000e+03     9699.000000   \n",
       "mean           2.741829  ...  9.278999e-01        0.015505   \n",
       "std            3.524354  ...  2.271172e-01        0.014450   \n",
       "min            1.000000  ...  2.040371e-18        0.000378   \n",
       "25%            1.000000  ...  1.000000e+00        0.007235   \n",
       "50%            1.000000  ...  1.000000e+00        0.012423   \n",
       "75%            3.000000  ...  1.000000e+00        0.018939   \n",
       "max           38.000000  ...  1.000000e+00        0.149043   \n",
       "\n",
       "       positive_fraction_2        Pvar_2    min_mag_1  SF_ML_amplitude_2  \\\n",
       "count          9699.000000  9.699000e+03  9699.000000        9699.000000   \n",
       "mean              0.483722  9.242479e-01    16.492430           0.799970   \n",
       "std               0.351106  2.356312e-01     1.652582           1.935322   \n",
       "min               0.000000  5.400135e-11    11.488517          -0.500000   \n",
       "25%               0.163028  1.000000e+00    15.326724           0.161206   \n",
       "50%               0.464286  1.000000e+00    16.584840           0.298205   \n",
       "75%               0.800000  1.000000e+00    17.732403           0.518866   \n",
       "max               1.000000  1.000000e+00    21.507551          15.000000   \n",
       "\n",
       "       AndersonDarling_1  SF_ML_gamma_1   mean_mag_2  classALeRCE  \n",
       "count        9699.000000    9699.000000  9699.000000  9699.000000  \n",
       "mean            0.920867       0.257711    15.946847     1.529539  \n",
       "std             0.182799       0.513200     1.775481     0.528843  \n",
       "min             0.114766      -0.500000    12.026514     1.000000  \n",
       "25%             0.981651      -0.014443    14.577569     1.000000  \n",
       "50%             0.999998       0.106551    15.830259     2.000000  \n",
       "75%             1.000000       0.461814    17.275053     2.000000  \n",
       "max             1.000000       3.000000    20.951188     3.000000  \n",
       "\n",
       "[8 rows x 25 columns]"
      ]
     },
     "execution_count": 21,
     "metadata": {},
     "output_type": "execute_result"
    }
   ],
   "source": [
    "dataset = pd.read_csv('C:/Users/yerko/Anaconda3/Lib/site-packages/skmultiflow/data/datasets/df_fin_ALE_filas.csv')\n",
    "\n",
    "df_stream1=dataset.iloc[:, [49,50,106,105,82,126,6,138,81,5,119,17,55,91,67,77,57,148,78,125,84,3,85,120,-1]]\n",
    "df_stream1.describe()"
   ]
  },
  {
   "cell_type": "code",
   "execution_count": 22,
   "metadata": {
    "scrolled": true
   },
   "outputs": [
    {
     "data": {
      "text/plain": [
       "2    4840\n",
       "1    4711\n",
       "3     148\n",
       "Name: classALeRCE, dtype: int64"
      ]
     },
     "execution_count": 22,
     "metadata": {},
     "output_type": "execute_result"
    }
   ],
   "source": [
    "df_stream1['classALeRCE'].value_counts()"
   ]
  },
  {
   "cell_type": "markdown",
   "metadata": {},
   "source": [
    "# Modelos:"
   ]
  },
  {
   "cell_type": "markdown",
   "metadata": {},
   "source": [
    "## Batch:"
   ]
  },
  {
   "cell_type": "code",
   "execution_count": 23,
   "metadata": {},
   "outputs": [],
   "source": [
    "X = np.array(df_stream1.drop(['classALeRCE'],1))\n",
    "\n",
    "y = np.array(df_stream1['classALeRCE'])\n",
    "y.shape\n",
    "#Separar datos\n",
    "from sklearn.model_selection import train_test_split\n",
    "X_train, X_test, y_train, y_test, = train_test_split(X, y, test_size = 0.3,\n",
    "random_state = 63)"
   ]
  },
  {
   "cell_type": "code",
   "execution_count": 24,
   "metadata": {
    "scrolled": true
   },
   "outputs": [
    {
     "data": {
      "text/plain": [
       "0.9467353951890034"
      ]
     },
     "execution_count": 24,
     "metadata": {},
     "output_type": "execute_result"
    }
   ],
   "source": [
    "#################### Logistica Simple #############\n",
    "from sklearn import feature_selection\n",
    "from sklearn import linear_model\n",
    "model = linear_model.LogisticRegression()\n",
    "model.fit(X_train,y_train)\n",
    "predictions = model.predict(X_test)\n",
    "model.score(X_test,y_test)\n"
   ]
  },
  {
   "cell_type": "code",
   "execution_count": 26,
   "metadata": {},
   "outputs": [
    {
     "data": {
      "text/plain": [
       "(0.9441813294312621, 0.9467353951890034, 0.9452358980346958, None)"
      ]
     },
     "execution_count": 26,
     "metadata": {},
     "output_type": "execute_result"
    }
   ],
   "source": [
    "from sklearn.metrics import f1_score\n",
    "from sklearn.metrics import precision_recall_fscore_support\n",
    "precision_recall_fscore_support(y_test, predictions, average='weighted')"
   ]
  },
  {
   "cell_type": "code",
   "execution_count": 142,
   "metadata": {},
   "outputs": [
    {
     "data": {
      "text/plain": [
       "0.6707487106323242"
      ]
     },
     "execution_count": 142,
     "metadata": {},
     "output_type": "execute_result"
    }
   ],
   "source": [
    "from time import time\n",
    "tiempo_inicial = time() \n",
    "model = linear_model.LogisticRegression()\n",
    "model.fit(X_train,y_train)\n",
    "predictions = model.predict(X_test)\n",
    "model.score(X_test,y_test)\n",
    "tiempo_final = time() \n",
    "\n",
    "tiempo_ejecucion = tiempo_final - tiempo_inicial\n",
    "tiempo_ejecucion"
   ]
  },
  {
   "cell_type": "code",
   "execution_count": 27,
   "metadata": {},
   "outputs": [
    {
     "data": {
      "text/plain": [
       "0.9601374570446736"
      ]
     },
     "execution_count": 27,
     "metadata": {},
     "output_type": "execute_result"
    }
   ],
   "source": [
    "################## Arbol ###############\n",
    "\n",
    "from sklearn import tree\n",
    "model_arbol = tree.DecisionTreeClassifier()\n",
    "model_arbol.fit(X_train,y_train)\n",
    "predictions = model_arbol.predict(X_test)\n",
    "model_arbol.score(X_test,y_test)"
   ]
  },
  {
   "cell_type": "code",
   "execution_count": 28,
   "metadata": {},
   "outputs": [
    {
     "data": {
      "text/plain": [
       "(0.9604311197470462, 0.9601374570446736, 0.9602707376577069, None)"
      ]
     },
     "execution_count": 28,
     "metadata": {},
     "output_type": "execute_result"
    }
   ],
   "source": [
    "precision_recall_fscore_support(y_test, predictions, average='weighted')"
   ]
  },
  {
   "cell_type": "code",
   "execution_count": 30,
   "metadata": {},
   "outputs": [
    {
     "ename": "ValueError",
     "evalue": "Target is multiclass but average='binary'. Please choose another average setting, one of [None, 'micro', 'macro', 'weighted'].",
     "output_type": "error",
     "traceback": [
      "\u001b[1;31m---------------------------------------------------------------------------\u001b[0m",
      "\u001b[1;31mValueError\u001b[0m                                Traceback (most recent call last)",
      "\u001b[1;32m<ipython-input-30-86efec7c7fab>\u001b[0m in \u001b[0;36m<module>\u001b[1;34m\u001b[0m\n\u001b[1;32m----> 1\u001b[1;33m \u001b[0mf1_score\u001b[0m\u001b[1;33m(\u001b[0m\u001b[0my_test\u001b[0m\u001b[1;33m,\u001b[0m \u001b[0mpredictions\u001b[0m\u001b[1;33m,\u001b[0m \u001b[0mzero_division\u001b[0m\u001b[1;33m=\u001b[0m\u001b[1;36m0\u001b[0m\u001b[1;33m)\u001b[0m\u001b[1;33m\u001b[0m\u001b[1;33m\u001b[0m\u001b[0m\n\u001b[0m",
      "\u001b[1;32m~\\Anaconda3\\lib\\site-packages\\sklearn\\metrics\\_classification.py\u001b[0m in \u001b[0;36mf1_score\u001b[1;34m(y_true, y_pred, labels, pos_label, average, sample_weight, zero_division)\u001b[0m\n\u001b[0;32m   1097\u001b[0m                        \u001b[0mpos_label\u001b[0m\u001b[1;33m=\u001b[0m\u001b[0mpos_label\u001b[0m\u001b[1;33m,\u001b[0m \u001b[0maverage\u001b[0m\u001b[1;33m=\u001b[0m\u001b[0maverage\u001b[0m\u001b[1;33m,\u001b[0m\u001b[1;33m\u001b[0m\u001b[1;33m\u001b[0m\u001b[0m\n\u001b[0;32m   1098\u001b[0m                        \u001b[0msample_weight\u001b[0m\u001b[1;33m=\u001b[0m\u001b[0msample_weight\u001b[0m\u001b[1;33m,\u001b[0m\u001b[1;33m\u001b[0m\u001b[1;33m\u001b[0m\u001b[0m\n\u001b[1;32m-> 1099\u001b[1;33m                        zero_division=zero_division)\n\u001b[0m\u001b[0;32m   1100\u001b[0m \u001b[1;33m\u001b[0m\u001b[0m\n\u001b[0;32m   1101\u001b[0m \u001b[1;33m\u001b[0m\u001b[0m\n",
      "\u001b[1;32m~\\Anaconda3\\lib\\site-packages\\sklearn\\metrics\\_classification.py\u001b[0m in \u001b[0;36mfbeta_score\u001b[1;34m(y_true, y_pred, beta, labels, pos_label, average, sample_weight, zero_division)\u001b[0m\n\u001b[0;32m   1224\u001b[0m                                                  \u001b[0mwarn_for\u001b[0m\u001b[1;33m=\u001b[0m\u001b[1;33m(\u001b[0m\u001b[1;34m'f-score'\u001b[0m\u001b[1;33m,\u001b[0m\u001b[1;33m)\u001b[0m\u001b[1;33m,\u001b[0m\u001b[1;33m\u001b[0m\u001b[1;33m\u001b[0m\u001b[0m\n\u001b[0;32m   1225\u001b[0m                                                  \u001b[0msample_weight\u001b[0m\u001b[1;33m=\u001b[0m\u001b[0msample_weight\u001b[0m\u001b[1;33m,\u001b[0m\u001b[1;33m\u001b[0m\u001b[1;33m\u001b[0m\u001b[0m\n\u001b[1;32m-> 1226\u001b[1;33m                                                  zero_division=zero_division)\n\u001b[0m\u001b[0;32m   1227\u001b[0m     \u001b[1;32mreturn\u001b[0m \u001b[0mf\u001b[0m\u001b[1;33m\u001b[0m\u001b[1;33m\u001b[0m\u001b[0m\n\u001b[0;32m   1228\u001b[0m \u001b[1;33m\u001b[0m\u001b[0m\n",
      "\u001b[1;32m~\\Anaconda3\\lib\\site-packages\\sklearn\\metrics\\_classification.py\u001b[0m in \u001b[0;36mprecision_recall_fscore_support\u001b[1;34m(y_true, y_pred, beta, labels, pos_label, average, warn_for, sample_weight, zero_division)\u001b[0m\n\u001b[0;32m   1482\u001b[0m         \u001b[1;32mraise\u001b[0m \u001b[0mValueError\u001b[0m\u001b[1;33m(\u001b[0m\u001b[1;34m\"beta should be >=0 in the F-beta score\"\u001b[0m\u001b[1;33m)\u001b[0m\u001b[1;33m\u001b[0m\u001b[1;33m\u001b[0m\u001b[0m\n\u001b[0;32m   1483\u001b[0m     labels = _check_set_wise_labels(y_true, y_pred, average, labels,\n\u001b[1;32m-> 1484\u001b[1;33m                                     pos_label)\n\u001b[0m\u001b[0;32m   1485\u001b[0m \u001b[1;33m\u001b[0m\u001b[0m\n\u001b[0;32m   1486\u001b[0m     \u001b[1;31m# Calculate tp_sum, pred_sum, true_sum ###\u001b[0m\u001b[1;33m\u001b[0m\u001b[1;33m\u001b[0m\u001b[1;33m\u001b[0m\u001b[0m\n",
      "\u001b[1;32m~\\Anaconda3\\lib\\site-packages\\sklearn\\metrics\\_classification.py\u001b[0m in \u001b[0;36m_check_set_wise_labels\u001b[1;34m(y_true, y_pred, average, labels, pos_label)\u001b[0m\n\u001b[0;32m   1314\u001b[0m             raise ValueError(\"Target is %s but average='binary'. Please \"\n\u001b[0;32m   1315\u001b[0m                              \u001b[1;34m\"choose another average setting, one of %r.\"\u001b[0m\u001b[1;33m\u001b[0m\u001b[1;33m\u001b[0m\u001b[0m\n\u001b[1;32m-> 1316\u001b[1;33m                              % (y_type, average_options))\n\u001b[0m\u001b[0;32m   1317\u001b[0m     \u001b[1;32melif\u001b[0m \u001b[0mpos_label\u001b[0m \u001b[1;32mnot\u001b[0m \u001b[1;32min\u001b[0m \u001b[1;33m(\u001b[0m\u001b[1;32mNone\u001b[0m\u001b[1;33m,\u001b[0m \u001b[1;36m1\u001b[0m\u001b[1;33m)\u001b[0m\u001b[1;33m:\u001b[0m\u001b[1;33m\u001b[0m\u001b[1;33m\u001b[0m\u001b[0m\n\u001b[0;32m   1318\u001b[0m         warnings.warn(\"Note that pos_label (set to %r) is ignored when \"\n",
      "\u001b[1;31mValueError\u001b[0m: Target is multiclass but average='binary'. Please choose another average setting, one of [None, 'micro', 'macro', 'weighted']."
     ]
    }
   ],
   "source": [
    "f1_score(y_test, predictions, zero_division=0)"
   ]
  },
  {
   "cell_type": "code",
   "execution_count": 144,
   "metadata": {},
   "outputs": [
    {
     "data": {
      "text/plain": [
       "0.36330389976501465"
      ]
     },
     "execution_count": 144,
     "metadata": {},
     "output_type": "execute_result"
    }
   ],
   "source": [
    "from time import time\n",
    "tiempo_inicial = time() \n",
    "\n",
    "model_arbol = tree.DecisionTreeClassifier()\n",
    "model_arbol.fit(X_train,y_train)\n",
    "predictions = model_arbol.predict(X_test)\n",
    "model_arbol.score(X_test,y_test)\n",
    "tiempo_final = time() \n",
    "\n",
    "tiempo_ejecucion = tiempo_final - tiempo_inicial\n",
    "tiempo_ejecucion"
   ]
  },
  {
   "cell_type": "code",
   "execution_count": 31,
   "metadata": {},
   "outputs": [
    {
     "data": {
      "text/plain": [
       "0.9137457044673539"
      ]
     },
     "execution_count": 31,
     "metadata": {},
     "output_type": "execute_result"
    }
   ],
   "source": [
    "################# Naive Bayes Classifier ##############\n",
    "from sklearn.naive_bayes import GaussianNB\n",
    "model_nbayes = GaussianNB()\n",
    "model_nbayes.fit(X_train, y_train)\n",
    "predictions = model_nbayes.predict(X_test)\n",
    "model_nbayes.score(X_test,y_test)\n"
   ]
  },
  {
   "cell_type": "code",
   "execution_count": 146,
   "metadata": {},
   "outputs": [
    {
     "data": {
      "text/plain": [
       "0.012390375137329102"
      ]
     },
     "execution_count": 146,
     "metadata": {},
     "output_type": "execute_result"
    }
   ],
   "source": [
    "from time import time\n",
    "tiempo_inicial = time() \n",
    "model_nbayes = GaussianNB()\n",
    "model_nbayes.fit(X_train, y_train)\n",
    "predictions = model_nbayes.predict(X_test)\n",
    "model_nbayes.score(X_test,y_test)\n",
    "tiempo_final = time() \n",
    "\n",
    "tiempo_ejecucion = tiempo_final - tiempo_inicial\n",
    "tiempo_ejecucion"
   ]
  },
  {
   "cell_type": "code",
   "execution_count": 32,
   "metadata": {},
   "outputs": [
    {
     "data": {
      "text/plain": [
       "(0.9463858925785653, 0.9137457044673539, 0.9247923787214855, None)"
      ]
     },
     "execution_count": 32,
     "metadata": {},
     "output_type": "execute_result"
    }
   ],
   "source": [
    "precision_recall_fscore_support(y_test, predictions, average='weighted')"
   ]
  },
  {
   "cell_type": "code",
   "execution_count": 33,
   "metadata": {
    "scrolled": true
   },
   "outputs": [
    {
     "data": {
      "text/plain": [
       "0.8848797250859106"
      ]
     },
     "execution_count": 33,
     "metadata": {},
     "output_type": "execute_result"
    }
   ],
   "source": [
    "############ Perceptron ###########\n",
    "\n",
    "from sklearn.datasets import load_digits\n",
    "from sklearn.linear_model import Perceptron\n",
    "\n",
    "percep = Perceptron(tol=1e-3, random_state=0)\n",
    "percep.fit(X_train,y_train)\n",
    "predictions = percep.predict(X_test)\n",
    "percep.score(X_test,y_test)\n"
   ]
  },
  {
   "cell_type": "code",
   "execution_count": 34,
   "metadata": {},
   "outputs": [
    {
     "data": {
      "text/plain": [
       "(0.8907946810567563, 0.8848797250859106, 0.8819584373586866, None)"
      ]
     },
     "execution_count": 34,
     "metadata": {},
     "output_type": "execute_result"
    }
   ],
   "source": [
    "precision_recall_fscore_support(y_test, predictions, average='weighted')"
   ]
  },
  {
   "cell_type": "code",
   "execution_count": 148,
   "metadata": {},
   "outputs": [
    {
     "data": {
      "text/plain": [
       "0.0390772819519043"
      ]
     },
     "execution_count": 148,
     "metadata": {},
     "output_type": "execute_result"
    }
   ],
   "source": [
    "from time import time\n",
    "tiempo_inicial = time() \n",
    "percep = Perceptron(tol=1e-3, random_state=0)\n",
    "percep.fit(X_train,y_train)\n",
    "predictions = percep.predict(X_test)\n",
    "percep.score(X_test,y_test)\n",
    "tiempo_final = time() \n",
    "\n",
    "tiempo_ejecucion = tiempo_final - tiempo_inicial\n",
    "tiempo_ejecucion"
   ]
  },
  {
   "cell_type": "code",
   "execution_count": 149,
   "metadata": {},
   "outputs": [
    {
     "data": {
      "text/plain": [
       "0.028381824493408203"
      ]
     },
     "execution_count": 149,
     "metadata": {},
     "output_type": "execute_result"
    }
   ],
   "source": [
    "from time import time\n",
    "tiempo_inicial = time() \n",
    "percep = Perceptron(tol=1e-3, random_state=0)\n",
    "percep.fit(X_train,y_train)\n",
    "predictions = percep.predict(X_test)\n",
    "percep.score(X_test,y_test)\n",
    "tiempo_final = time() \n",
    "\n",
    "tiempo_ejecucion = tiempo_final - tiempo_inicial\n",
    "tiempo_ejecucion"
   ]
  },
  {
   "cell_type": "markdown",
   "metadata": {},
   "source": [
    "# Comparacion Ensembles :"
   ]
  },
  {
   "cell_type": "markdown",
   "metadata": {},
   "source": [
    "### Naive Bayes:"
   ]
  },
  {
   "cell_type": "code",
   "execution_count": 35,
   "metadata": {},
   "outputs": [
    {
     "data": {
      "text/plain": [
       "0.9137457044673539"
      ]
     },
     "execution_count": 35,
     "metadata": {},
     "output_type": "execute_result"
    }
   ],
   "source": [
    "################# Naive Bayes Classifier ##############\n",
    "from sklearn.naive_bayes import GaussianNB\n",
    "model_nbayes = GaussianNB()\n",
    "model_nbayes.fit(X_train, y_train)\n",
    "predictions = model_nbayes.predict(X_test)\n",
    "model_nbayes.score(X_test,y_test)\n",
    "nb_prediction_proba = model_nbayes.predict_proba(X_test)[:, 1]\n",
    "model_nbayes.score(X_test,y_test)"
   ]
  },
  {
   "cell_type": "code",
   "execution_count": 36,
   "metadata": {},
   "outputs": [
    {
     "data": {
      "text/plain": [
       "(0.9463858925785653, 0.9137457044673539, 0.9247923787214855, None)"
      ]
     },
     "execution_count": 36,
     "metadata": {},
     "output_type": "execute_result"
    }
   ],
   "source": [
    "precision_recall_fscore_support(y_test, predictions, average='weighted')"
   ]
  },
  {
   "cell_type": "markdown",
   "metadata": {},
   "source": [
    "### Bagging con Naive Bayes como Weak Learner:"
   ]
  },
  {
   "cell_type": "code",
   "execution_count": 38,
   "metadata": {},
   "outputs": [
    {
     "data": {
      "text/plain": [
       "0.9168384879725086"
      ]
     },
     "execution_count": 38,
     "metadata": {},
     "output_type": "execute_result"
    }
   ],
   "source": [
    "\n",
    "### Bagging Naives Bayes\n",
    "from sklearn.ensemble import BaggingClassifier\n",
    "from sklearn.datasets import make_classification\n",
    "\n",
    "model_bag3 = BaggingClassifier(model_nbayes, \n",
    "                  n_estimators=1000, \n",
    "                  bootstrap = True, random_state = 1)\n",
    "model_bag3.fit(X_train,y_train)\n",
    "\n",
    "predictions = model_bag3.predict(X_test)\n",
    "model_bag3.score(X_test,y_test)"
   ]
  },
  {
   "cell_type": "code",
   "execution_count": 40,
   "metadata": {
    "scrolled": true
   },
   "outputs": [
    {
     "data": {
      "text/plain": [
       "(0.9466416647224836, 0.9168384879725086, 0.9270110373514724, None)"
      ]
     },
     "execution_count": 40,
     "metadata": {},
     "output_type": "execute_result"
    }
   ],
   "source": [
    "precision_recall_fscore_support(y_test, predictions, average='weighted')"
   ]
  },
  {
   "cell_type": "markdown",
   "metadata": {},
   "source": [
    "### Boosting con Naive Bayes como Weak Learners:"
   ]
  },
  {
   "cell_type": "code",
   "execution_count": 41,
   "metadata": {},
   "outputs": [
    {
     "data": {
      "text/plain": [
       "0.8725085910652921"
      ]
     },
     "execution_count": 41,
     "metadata": {},
     "output_type": "execute_result"
    }
   ],
   "source": [
    "from sklearn.ensemble import AdaBoostClassifier\n",
    "\n",
    "# Utilizando AdaBoost para aumentar la precisión\n",
    "model_boos = AdaBoostClassifier(base_estimator=model_nbayes, n_estimators=250, \n",
    "                         learning_rate=1.5, random_state=1)\n",
    "# Ajustando los datos\n",
    "\n",
    "model_boos.fit(X_train,y_train)\n",
    "\n",
    "predictions = model_boos.predict(X_test)\n",
    "model_boos.score(X_test,y_test)\n",
    "\n"
   ]
  },
  {
   "cell_type": "code",
   "execution_count": 42,
   "metadata": {},
   "outputs": [
    {
     "data": {
      "text/plain": [
       "(0.887188666507498, 0.8725085910652921, 0.8708424457526547, None)"
      ]
     },
     "execution_count": 42,
     "metadata": {},
     "output_type": "execute_result"
    }
   ],
   "source": [
    "precision_recall_fscore_support(y_test, predictions, average='weighted')"
   ]
  },
  {
   "cell_type": "code",
   "execution_count": 153,
   "metadata": {},
   "outputs": [
    {
     "data": {
      "text/plain": [
       "6.4257354736328125"
      ]
     },
     "execution_count": 153,
     "metadata": {},
     "output_type": "execute_result"
    }
   ],
   "source": [
    "from time import time\n",
    "tiempo_inicial = time() \n",
    "model_boos = AdaBoostClassifier(base_estimator=model_nbayes, n_estimators=250, \n",
    "                         learning_rate=1.5, random_state=1)\n",
    "# Ajustando los datos\n",
    "\n",
    "model_boos.fit(X_train,y_train)\n",
    "\n",
    "predictions = model_boos.predict\n",
    "tiempo_final = time() \n",
    "# Ajuste de ensamble \n",
    "tiempo_ejecucion = tiempo_final - tiempo_inicial\n",
    "tiempo_ejecucion"
   ]
  },
  {
   "cell_type": "markdown",
   "metadata": {},
   "source": [
    "# Ajuste de ensamble "
   ]
  },
  {
   "cell_type": "code",
   "execution_count": 155,
   "metadata": {},
   "outputs": [],
   "source": [
    "X = np.array(df_stream1.drop(['classALeRCE'],1))\n",
    "\n",
    "Y = np.array(df_stream1['classALeRCE'])\n",
    "y.shape\n",
    "#Separar datos\n",
    "from sklearn.model_selection import train_test_split\n",
    "X_train, X_test, y_train, y_test, = train_test_split(X, y, test_size = 0.3,\n",
    "random_state = 63)"
   ]
  },
  {
   "cell_type": "code",
   "execution_count": null,
   "metadata": {
    "scrolled": false
   },
   "outputs": [],
   "source": []
  },
  {
   "cell_type": "code",
   "execution_count": 157,
   "metadata": {},
   "outputs": [
    {
     "name": "stdout",
     "output_type": "stream",
     "text": [
      "The accuracy is:  91.66924398625432 %\n"
     ]
    }
   ],
   "source": [
    "dataset=df_stream1\n",
    "Tree_model = DecisionTreeClassifier(criterion=\"entropy\",max_depth=1)\n",
    "\n",
    "\n",
    "\n",
    "\n",
    "predictions = np.mean(cross_validate(Tree_model,X,Y,cv=100)['test_score'])\n",
    "\n",
    "\n",
    "print('The accuracy is: ',predictions*100,'%')\n",
    "class Boosting:\n",
    "\n",
    "    def __init__(self,dataset,T,test_dataset):\n",
    "        self.dataset = dataset\n",
    "        self.T = T\n",
    "        self.test_dataset = test_dataset\n",
    "        self.alphas = None\n",
    "        self.models = None\n",
    "        self.accuracy = []\n",
    "        self.predictions = None\n",
    "    \n",
    "    def fit(self):\n",
    "        # Set the descriptive features and the target feature\n",
    "        X = self.dataset.drop(['classALeRCE'],axis=1)\n",
    "        Y = self.dataset['classALeRCE'].where(self.dataset['classALeRCE']==1,-1)\n",
    "\n",
    "        # Initialize the weights of each sample with wi = 1/N and create a dataframe in which the evaluation is computed\n",
    "        Evaluation = pd.DataFrame(Y.copy())\n",
    "        Evaluation['weights'] = 1/len(self.dataset) # Set the initial weights w = 1/N\n",
    "        \n",
    "\n",
    "        # Run the boosting algorithm by creating T \"weighted models\"\n",
    "        \n",
    "        alphas = [] \n",
    "        models = []\n",
    "        \n",
    "        for t in range(self.T):\n",
    "\n",
    "            # Train the Decision Stump(s)\n",
    "            Tree_model = DecisionTreeClassifier(criterion=\"entropy\",max_depth=1) # Mind the deth one --> Decision Stump\n",
    "            \n",
    "            # We know that we must train our decision stumps on weighted datasets where the weights depend on the results of\n",
    "            # the previous decision stumps. To accomplish that, we use the 'weights' column of the above created \n",
    "            # 'evaluation dataframe' together with the sample_weight parameter of the fit method.\n",
    "            # The documentation for the sample_weights parameter sais: \"[...] If None, then samples are equally weighted.\"\n",
    "            # Consequently, if NOT None, then the samples are NOT equally weighted and therewith we create a WEIGHTED dataset \n",
    "            # which is exactly what we want to have.\n",
    "            model = Tree_model.fit(X,Y,sample_weight=np.array(Evaluation['weights'])) \n",
    "            \n",
    "            # Append the single weak classifiers to a list which is later on used to make the \n",
    "            # weighted decision\n",
    "            models.append(model)\n",
    "            predictions = model.predict(X)\n",
    "            score = model.score(X,Y)\n",
    "\n",
    "            # Add values to the Evaluation DataFrame\n",
    "            Evaluation['predictions'] = predictions\n",
    "            Evaluation['evaluation'] = np.where(Evaluation['predictions'] == Evaluation['classALeRCE'],1,0)\n",
    "            Evaluation['misclassified'] = np.where(Evaluation['predictions'] != Evaluation['classALeRCE'],1,0)\n",
    "\n",
    "            # Calculate the misclassification rate and accuracy\n",
    "            accuracy = sum(Evaluation['evaluation'])/len(Evaluation['evaluation'])\n",
    "            misclassification = sum(Evaluation['misclassified'])/len(Evaluation['misclassified'])\n",
    "\n",
    "\n",
    "            # Caclulate the error\n",
    "            err = np.sum(Evaluation['weights']*Evaluation['misclassified'])/np.sum(Evaluation['weights'])\n",
    " \n",
    "   \n",
    "            # Calculate the alpha values\n",
    "            alpha = np.log((1-err)/err)\n",
    "            alphas.append(alpha)\n",
    "\n",
    "\n",
    "            # Update the weights wi --> These updated weights are used in the sample_weight parameter\n",
    "            # for the training of the next decision stump. \n",
    "            Evaluation['weights'] *= np.exp(alpha*Evaluation['misclassified'])\n",
    "\n",
    "            #print('The Accuracy of the {0}. model is : '.format(t+1),accuracy*100,'%')\n",
    "            #print('The missclassification rate is: ',misclassification*100,'%')\n",
    "        \n",
    "        self.alphas = alphas\n",
    "        self.models = models\n",
    "            \n",
    "    def predict(self):\n",
    "        X_test = self.test_dataset.drop(['classALeRCE'],axis=1).reindex(range(len(self.test_dataset)))\n",
    "        Y_test = self.test_dataset['classALeRCE'].reindex(range(len(self.test_dataset))).where(self.dataset['classALeRCE']==1,-1)\n",
    "    \n",
    "        # With each model in the self.model list, make a prediction \n",
    "        \n",
    "        accuracy = []\n",
    "        predictions = []\n",
    "        \n",
    "        for alpha,model in zip(self.alphas,self.models):\n",
    "            prediction = alpha*model.predict(X_test) # We use the predict method for the single decisiontreeclassifier models in the list\n",
    "            predictions.append(prediction)\n",
    "            self.accuracy.append(np.sum(np.sign(np.sum(np.array(predictions),axis=0))==Y_test.values)/len(predictions[0]))\n",
    "    \n",
    "        self.predictions = np.sign(np.sum(np.array(predictions),axis=0))\n",
    "\n",
    "   \n",
    "        "
   ]
  },
  {
   "cell_type": "code",
   "execution_count": 158,
   "metadata": {
    "scrolled": false
   },
   "outputs": [
    {
     "name": "stdout",
     "output_type": "stream",
     "text": [
      "With a number of  250 base models we receive an accuracy of  97.05124239612331 %\n"
     ]
    },
    {
     "data": {
      "image/png": "[encoded data removed]",
      "text/plain": [
       "<Figure size 720x720 with 1 Axes>"
      ]
     },
     "metadata": {},
     "output_type": "display_data"
    }
   ],
   "source": [
    "######Plot the accuracy of the model against the number of stump-models used##########\n",
    "\n",
    "number_of_base_learners = 250\n",
    "\n",
    "fig = plt.figure(figsize=(10,10))\n",
    "ax0 = fig.add_subplot(111)\n",
    "\n",
    "\n",
    "for i in range(number_of_base_learners):\n",
    "    model = Boosting(dataset,i,dataset)\n",
    "    model.fit()\n",
    "    model.predict()\n",
    "\n",
    "ax0.plot(range(len(model.accuracy)),model.accuracy,'-b')\n",
    "ax0.set_xlabel('# models used for Boosting ')\n",
    "ax0.set_ylabel('accuracy')\n",
    "print('With a number of ',number_of_base_learners,'base models we receive an accuracy of ',model.accuracy[-1]*100,'%')    \n",
    "                 \n",
    "plt.show()"
   ]
  },
  {
   "cell_type": "markdown",
   "metadata": {},
   "source": [
    "### Boosting con Naive Bayes como Weak Learners AJUSTADO:"
   ]
  },
  {
   "cell_type": "code",
   "execution_count": 170,
   "metadata": {},
   "outputs": [
    {
     "data": {
      "text/plain": [
       "0.8725085910652921"
      ]
     },
     "execution_count": 170,
     "metadata": {},
     "output_type": "execute_result"
    }
   ],
   "source": [
    "from sklearn.ensemble import AdaBoostClassifier\n",
    "\n",
    "# Utilizando AdaBoost para aumentar la precisión\n",
    "model_boos = AdaBoostClassifier(base_estimator=model_nbayes, n_estimators=250, \n",
    "                         learning_rate=1.5, random_state=1)\n",
    "# Ajustando los datos\n",
    "\n",
    "model_boos.fit(X_train,y_train)\n",
    "\n",
    "predictions = model_boos.predict(X_test)\n",
    "model_boos.score(X_test,y_test)\n",
    "\n"
   ]
  },
  {
   "cell_type": "code",
   "execution_count": 171,
   "metadata": {
    "scrolled": true
   },
   "outputs": [
    {
     "name": "stdout",
     "output_type": "stream",
     "text": [
      "The accuracy is:  91.66924398625432 %\n"
     ]
    }
   ],
   "source": [
    "dataset=df_stream1\n",
    "Tree_model = DecisionTreeClassifier(criterion=\"entropy\",max_depth=1)\n",
    "\n",
    "\n",
    "\n",
    "\n",
    "predictions = np.mean(cross_validate(Tree_model,X,Y,cv=100)['test_score'])\n",
    "\n",
    "\n",
    "print('The accuracy is: ',predictions*100,'%')\n",
    "class Boosting:\n",
    "\n",
    "    def __init__(self,dataset,T,test_dataset):\n",
    "        self.dataset = dataset\n",
    "        self.T = T\n",
    "        self.test_dataset = test_dataset\n",
    "        self.alphas = None\n",
    "        self.models = None\n",
    "        self.accuracy = []\n",
    "        self.predictions = None\n",
    "    \n",
    "    def fit(self):\n",
    "        # Set the descriptive features and the target feature\n",
    "        X = self.dataset.drop(['classALeRCE'],axis=1)\n",
    "        Y = self.dataset['classALeRCE'].where(self.dataset['classALeRCE']==1,-1)\n",
    "\n",
    "        # Initialize the weights of each sample with wi = 1/N and create a dataframe in which the evaluation is computed\n",
    "        Evaluation = pd.DataFrame(Y.copy())\n",
    "        Evaluation['weights'] = 1/len(self.dataset) # Set the initial weights w = 1/N\n",
    "        \n",
    "\n",
    "        # Run the boosting algorithm by creating T \"weighted models\"\n",
    "        \n",
    "        alphas = [] \n",
    "        models = []\n",
    "        \n",
    "        for t in range(self.T):\n",
    "\n",
    "            # Train the Decision Stump(s)\n",
    "            Tree_model = DecisionTreeClassifier(criterion=\"entropy\",max_depth=1) # Mind the deth one --> Decision Stump\n",
    "            \n",
    "            # We know that we must train our decision stumps on weighted datasets where the weights depend on the results of\n",
    "            # the previous decision stumps. To accomplish that, we use the 'weights' column of the above created \n",
    "            # 'evaluation dataframe' together with the sample_weight parameter of the fit method.\n",
    "            # The documentation for the sample_weights parameter sais: \"[...] If None, then samples are equally weighted.\"\n",
    "            # Consequently, if NOT None, then the samples are NOT equally weighted and therewith we create a WEIGHTED dataset \n",
    "            # which is exactly what we want to have.\n",
    "            model = Tree_model.fit(X,Y,sample_weight=np.array(Evaluation['weights'])) \n",
    "            \n",
    "            # Append the single weak classifiers to a list which is later on used to make the \n",
    "            # weighted decision\n",
    "            models.append(model)\n",
    "            predictions = model.predict(X)\n",
    "            score = model.score(X,Y)\n",
    "\n",
    "            # Add values to the Evaluation DataFrame\n",
    "            Evaluation['predictions'] = predictions\n",
    "            Evaluation['evaluation'] = np.where(Evaluation['predictions'] == Evaluation['classALeRCE'],1,0)\n",
    "            Evaluation['misclassified'] = np.where(Evaluation['predictions'] != Evaluation['classALeRCE'],1,0)\n",
    "\n",
    "            # Calculate the misclassification rate and accuracy\n",
    "            accuracy = sum(Evaluation['evaluation'])/len(Evaluation['evaluation'])\n",
    "            misclassification = sum(Evaluation['misclassified'])/len(Evaluation['misclassified'])\n",
    "\n",
    "\n",
    "            # Caclulate the error\n",
    "            err = np.sum(Evaluation['weights']*Evaluation['misclassified'])/np.sum(Evaluation['weights'])\n",
    " \n",
    "   \n",
    "            # Calculate the alpha values\n",
    "            alpha = np.log((1-err)/err)\n",
    "            alphas.append(alpha)\n",
    "\n",
    "\n",
    "            # Update the weights wi --> These updated weights are used in the sample_weight parameter\n",
    "            # for the training of the next decision stump. \n",
    "            Evaluation['weights'] *= np.exp(alpha*Evaluation['misclassified'])\n",
    "\n",
    "            #print('The Accuracy of the {0}. model is : '.format(t+1),accuracy*100,'%')\n",
    "            #print('The missclassification rate is: ',misclassification*100,'%')\n",
    "        \n",
    "        self.alphas = alphas\n",
    "        self.models = models\n",
    "            \n",
    "    def predict(self):\n",
    "        X_test = self.test_dataset.drop(['classALeRCE'],axis=1).reindex(range(len(self.test_dataset)))\n",
    "        Y_test = self.test_dataset['classALeRCE'].reindex(range(len(self.test_dataset))).where(self.dataset['classALeRCE']==1,-1)\n",
    "    \n",
    "        # With each model in the self.model list, make a prediction \n",
    "        \n",
    "        accuracy = []\n",
    "        predictions = []\n",
    "        \n",
    "        for alpha,model in zip(self.alphas,self.models):\n",
    "            prediction = alpha*model.predict(X_test) # We use the predict method for the single decisiontreeclassifier models in the list\n",
    "            predictions.append(prediction)\n",
    "            self.accuracy.append(np.sum(np.sign(np.sum(np.array(predictions),axis=0))==Y_test.values)/len(predictions[0]))\n",
    "    \n",
    "        self.predictions = np.sign(np.sum(np.array(predictions),axis=0))\n",
    "\n",
    "   "
   ]
  },
  {
   "cell_type": "code",
   "execution_count": 172,
   "metadata": {
    "scrolled": true
   },
   "outputs": [
    {
     "data": {
      "text/plain": [
       "BaggingClassifier(base_estimator=GaussianNB(priors=None, var_smoothing=1e-09),\n",
       "                  bootstrap=True, bootstrap_features=False, max_features=1.0,\n",
       "                  max_samples=1.0, n_estimators=1000, n_jobs=None,\n",
       "                  oob_score=False, random_state=1, verbose=0, warm_start=False)"
      ]
     },
     "execution_count": 172,
     "metadata": {},
     "output_type": "execute_result"
    }
   ],
   "source": [
    "\n",
    "model_bag3 = BaggingClassifier(model_nbayes, \n",
    "                  n_estimators=1000, \n",
    "                  bootstrap = True, random_state = 1)\n",
    "model_bag3.fit(X_train,y_train)"
   ]
  },
  {
   "cell_type": "markdown",
   "metadata": {},
   "source": [
    "### Exportar DF:"
   ]
  },
  {
   "cell_type": "code",
   "execution_count": 166,
   "metadata": {},
   "outputs": [],
   "source": [
    "#df_stream1.to_csv('C:/Users/yerko/Anaconda3/pkgs/scikit-multiflow-0.4.1-py37h79cbd7a_1/Lib/site-packages/skmultiflow/data/datasets/df_fin_ALE_1.csv')"
   ]
  },
  {
   "cell_type": "code",
   "execution_count": 186,
   "metadata": {},
   "outputs": [
    {
     "data": {
      "text/plain": [
       "2    4840\n",
       "1    4711\n",
       "3     148\n",
       "Name: classALeRCE, dtype: int64"
      ]
     },
     "execution_count": 186,
     "metadata": {},
     "output_type": "execute_result"
    }
   ],
   "source": [
    "df_stream1['classALeRCE'].value_counts()"
   ]
  },
  {
   "cell_type": "markdown",
   "metadata": {},
   "source": [
    "# Datos ALerce Streamming"
   ]
  },
  {
   "cell_type": "code",
   "execution_count": 3,
   "metadata": {},
   "outputs": [],
   "source": [
    "import warnings\n",
    "warnings.filterwarnings('ignore')\n",
    "import pandas as pd\n",
    "import numpy as np\n",
    "import matplotlib.pyplot as plt\n",
    "import seaborn as sns\n",
    "from skmultiflow.data import WaveformGenerator\n",
    "from skmultiflow.trees import HoeffdingTree\n",
    "from skmultiflow.evaluation import EvaluatePrequential\n",
    "import matplotlib.pyplot as plt\n",
    "from sklearn.naive_bayes import GaussianNB\n",
    "from skmultiflow.meta import OzaBagging\n",
    "from joblib import Parallel, delayed"
   ]
  },
  {
   "cell_type": "code",
   "execution_count": 4,
   "metadata": {},
   "outputs": [],
   "source": [
    "from skmultiflow.evaluation import EvaluatePrequential\n",
    "from skmultiflow.data.file_stream import FileStream\n"
   ]
  },
  {
   "cell_type": "markdown",
   "metadata": {},
   "source": [
    "### Stream con seleccion de variables :"
   ]
  },
  {
   "cell_type": "code",
   "execution_count": 14,
   "metadata": {},
   "outputs": [],
   "source": [
    "stream_1 = FileStream('C:/Users/yerko/Anaconda3/pkgs/scikit-multiflow-0.4.1-py37h79cbd7a_1/Lib/site-packages/skmultiflow/data/datasets/df_fin_ALE_1.csv', target_idx=-1)\n",
    "\n"
   ]
  },
  {
   "cell_type": "code",
   "execution_count": 15,
   "metadata": {
    "scrolled": true
   },
   "outputs": [
    {
     "data": {
      "text/plain": [
       "FileStream(cat_features=None,\n",
       "           filepath='C:/Users/yerko/Anaconda3/pkgs/scikit-multiflow-0.4.1-py37h79cbd7a_1/Lib/site-packages/skmultiflow/data/datasets/df_fin_ALE_1.csv',\n",
       "           n_targets=1, target_idx=-1)"
      ]
     },
     "execution_count": 15,
     "metadata": {},
     "output_type": "execute_result"
    }
   ],
   "source": [
    "stream_1"
   ]
  },
  {
   "cell_type": "code",
   "execution_count": 16,
   "metadata": {},
   "outputs": [],
   "source": [
    "stream_1.prepare_for_use()"
   ]
  },
  {
   "cell_type": "markdown",
   "metadata": {},
   "source": [
    "### Naive bayes online:"
   ]
  },
  {
   "cell_type": "code",
   "execution_count": 17,
   "metadata": {},
   "outputs": [
    {
     "data": {
      "text/plain": [
       "NaiveBayes(nominal_attributes=None)"
      ]
     },
     "execution_count": 17,
     "metadata": {},
     "output_type": "execute_result"
    }
   ],
   "source": [
    "from skmultiflow.bayes import NaiveBayes\n",
    "clf = NaiveBayes()\n",
    "clf"
   ]
  },
  {
   "cell_type": "code",
   "execution_count": 222,
   "metadata": {
    "scrolled": false
   },
   "outputs": [
    {
     "data": {
      "application/javascript": [
       "/* Put everything inside the global mpl namespace */\n",
       "window.mpl = {};\n",
       "\n",
       "\n",
       "mpl.get_websocket_type = function() {\n",
       "    if (typeof(WebSocket) !== 'undefined') {\n",
       "        return WebSocket;\n",
       "    } else if (typeof(MozWebSocket) !== 'undefined') {\n",
       "        return MozWebSocket;\n",
       "    } else {\n",
       "        alert('Your browser does not have WebSocket support. ' +\n",
       "              'Please try Chrome, Safari or Firefox ≥ 6. ' +\n",
       "              'Firefox 4 and 5 are also supported but you ' +\n",
       "              'have to enable WebSockets in about:config.');\n",
       "    };\n",
       "}\n",
       "\n",
       "mpl.figure = function(figure_id, websocket, ondownload, parent_element) {\n",
       "    this.id = figure_id;\n",
       "\n",
       "    this.ws = websocket;\n",
       "\n",
       "    this.supports_binary = (this.ws.binaryType != undefined);\n",
       "\n",
       "    if (!this.supports_binary) {\n",
       "        var warnings = document.getElementById(\"mpl-warnings\");\n",
       "        if (warnings) {\n",
       "            warnings.style.display = 'block';\n",
       "            warnings.textContent = (\n",
       "                \"This browser does not support binary websocket messages. \" +\n",
       "                    \"Performance may be slow.\");\n",
       "        }\n",
       "    }\n",
       "\n",
       "    this.imageObj = new Image();\n",
       "\n",
       "    this.context = undefined;\n",
       "    this.message = undefined;\n",
       "    this.canvas = undefined;\n",
       "    this.rubberband_canvas = undefined;\n",
       "    this.rubberband_context = undefined;\n",
       "    this.format_dropdown = undefined;\n",
       "\n",
       "    this.image_mode = 'full';\n",
       "\n",
       "    this.root = $('<div/>');\n",
       "    this._root_extra_style(this.root)\n",
       "    this.root.attr('style', 'display: inline-block');\n",
       "\n",
       "    $(parent_element).append(this.root);\n",
       "\n",
       "    this._init_header(this);\n",
       "    this._init_canvas(this);\n",
       "    this._init_toolbar(this);\n",
       "\n",
       "    var fig = this;\n",
       "\n",
       "    this.waiting = false;\n",
       "\n",
       "    this.ws.onopen =  function () {\n",
       "            fig.send_message(\"supports_binary\", {value: fig.supports_binary});\n",
       "            fig.send_message(\"send_image_mode\", {});\n",
       "            if (mpl.ratio != 1) {\n",
       "                fig.send_message(\"set_dpi_ratio\", {'dpi_ratio': mpl.ratio});\n",
       "            }\n",
       "            fig.send_message(\"refresh\", {});\n",
       "        }\n",
       "\n",
       "    this.imageObj.onload = function() {\n",
       "            if (fig.image_mode == 'full') {\n",
       "                // Full images could contain transparency (where diff images\n",
       "                // almost always do), so we need to clear the canvas so that\n",
       "                // there is no ghosting.\n",
       "                fig.context.clearRect(0, 0, fig.canvas.width, fig.canvas.height);\n",
       "            }\n",
       "            fig.context.drawImage(fig.imageObj, 0, 0);\n",
       "        };\n",
       "\n",
       "    this.imageObj.onunload = function() {\n",
       "        fig.ws.close();\n",
       "    }\n",
       "\n",
       "    this.ws.onmessage = this._make_on_message_function(this);\n",
       "\n",
       "    this.ondownload = ondownload;\n",
       "}\n",
       "\n",
       "mpl.figure.prototype._init_header = function() {\n",
       "    var titlebar = $(\n",
       "        '<div class=\"ui-dialog-titlebar ui-widget-header ui-corner-all ' +\n",
       "        'ui-helper-clearfix\"/>');\n",
       "    var titletext = $(\n",
       "        '<div class=\"ui-dialog-title\" style=\"width: 100%; ' +\n",
       "        'text-align: center; padding: 3px;\"/>');\n",
       "    titlebar.append(titletext)\n",
       "    this.root.append(titlebar);\n",
       "    this.header = titletext[0];\n",
       "}\n",
       "\n",
       "\n",
       "\n",
       "mpl.figure.prototype._canvas_extra_style = function(canvas_div) {\n",
       "\n",
       "}\n",
       "\n",
       "\n",
       "mpl.figure.prototype._root_extra_style = function(canvas_div) {\n",
       "\n",
       "}\n",
       "\n",
       "mpl.figure.prototype._init_canvas = function() {\n",
       "    var fig = this;\n",
       "\n",
       "    var canvas_div = $('<div/>');\n",
       "\n",
       "    canvas_div.attr('style', 'position: relative; clear: both; outline: 0');\n",
       "\n",
       "    function canvas_keyboard_event(event) {\n",
       "        return fig.key_event(event, event['data']);\n",
       "    }\n",
       "\n",
       "    canvas_div.keydown('key_press', canvas_keyboard_event);\n",
       "    canvas_div.keyup('key_release', canvas_keyboard_event);\n",
       "    this.canvas_div = canvas_div\n",
       "    this._canvas_extra_style(canvas_div)\n",
       "    this.root.append(canvas_div);\n",
       "\n",
       "    var canvas = $('<canvas/>');\n",
       "    canvas.addClass('mpl-canvas');\n",
       "    canvas.attr('style', \"left: 0; top: 0; z-index: 0; outline: 0\")\n",
       "\n",
       "    this.canvas = canvas[0];\n",
       "    this.context = canvas[0].getContext(\"2d\");\n",
       "\n",
       "    var backingStore = this.context.backingStorePixelRatio ||\n",
       "\tthis.context.webkitBackingStorePixelRatio ||\n",
       "\tthis.context.mozBackingStorePixelRatio ||\n",
       "\tthis.context.msBackingStorePixelRatio ||\n",
       "\tthis.context.oBackingStorePixelRatio ||\n",
       "\tthis.context.backingStorePixelRatio || 1;\n",
       "\n",
       "    mpl.ratio = (window.devicePixelRatio || 1) / backingStore;\n",
       "\n",
       "    var rubberband = $('<canvas/>');\n",
       "    rubberband.attr('style', \"position: absolute; left: 0; top: 0; z-index: 1;\")\n",
       "\n",
       "    var pass_mouse_events = true;\n",
       "\n",
       "    canvas_div.resizable({\n",
       "        start: function(event, ui) {\n",
       "            pass_mouse_events = false;\n",
       "        },\n",
       "        resize: function(event, ui) {\n",
       "            fig.request_resize(ui.size.width, ui.size.height);\n",
       "        },\n",
       "        stop: function(event, ui) {\n",
       "            pass_mouse_events = true;\n",
       "            fig.request_resize(ui.size.width, ui.size.height);\n",
       "        },\n",
       "    });\n",
       "\n",
       "    function mouse_event_fn(event) {\n",
       "        if (pass_mouse_events)\n",
       "            return fig.mouse_event(event, event['data']);\n",
       "    }\n",
       "\n",
       "    rubberband.mousedown('button_press', mouse_event_fn);\n",
       "    rubberband.mouseup('button_release', mouse_event_fn);\n",
       "    // Throttle sequential mouse events to 1 every 20ms.\n",
       "    rubberband.mousemove('motion_notify', mouse_event_fn);\n",
       "\n",
       "    rubberband.mouseenter('figure_enter', mouse_event_fn);\n",
       "    rubberband.mouseleave('figure_leave', mouse_event_fn);\n",
       "\n",
       "    canvas_div.on(\"wheel\", function (event) {\n",
       "        event = event.originalEvent;\n",
       "        event['data'] = 'scroll'\n",
       "        if (event.deltaY < 0) {\n",
       "            event.step = 1;\n",
       "        } else {\n",
       "            event.step = -1;\n",
       "        }\n",
       "        mouse_event_fn(event);\n",
       "    });\n",
       "\n",
       "    canvas_div.append(canvas);\n",
       "    canvas_div.append(rubberband);\n",
       "\n",
       "    this.rubberband = rubberband;\n",
       "    this.rubberband_canvas = rubberband[0];\n",
       "    this.rubberband_context = rubberband[0].getContext(\"2d\");\n",
       "    this.rubberband_context.strokeStyle = \"#000000\";\n",
       "\n",
       "    this._resize_canvas = function(width, height) {\n",
       "        // Keep the size of the canvas, canvas container, and rubber band\n",
       "        // canvas in synch.\n",
       "        canvas_div.css('width', width)\n",
       "        canvas_div.css('height', height)\n",
       "\n",
       "        canvas.attr('width', width * mpl.ratio);\n",
       "        canvas.attr('height', height * mpl.ratio);\n",
       "        canvas.attr('style', 'width: ' + width + 'px; height: ' + height + 'px;');\n",
       "\n",
       "        rubberband.attr('width', width);\n",
       "        rubberband.attr('height', height);\n",
       "    }\n",
       "\n",
       "    // Set the figure to an initial 600x600px, this will subsequently be updated\n",
       "    // upon first draw.\n",
       "    this._resize_canvas(600, 600);\n",
       "\n",
       "    // Disable right mouse context menu.\n",
       "    $(this.rubberband_canvas).bind(\"contextmenu\",function(e){\n",
       "        return false;\n",
       "    });\n",
       "\n",
       "    function set_focus () {\n",
       "        canvas.focus();\n",
       "        canvas_div.focus();\n",
       "    }\n",
       "\n",
       "    window.setTimeout(set_focus, 100);\n",
       "}\n",
       "\n",
       "mpl.figure.prototype._init_toolbar = function() {\n",
       "    var fig = this;\n",
       "\n",
       "    var nav_element = $('<div/>');\n",
       "    nav_element.attr('style', 'width: 100%');\n",
       "    this.root.append(nav_element);\n",
       "\n",
       "    // Define a callback function for later on.\n",
       "    function toolbar_event(event) {\n",
       "        return fig.toolbar_button_onclick(event['data']);\n",
       "    }\n",
       "    function toolbar_mouse_event(event) {\n",
       "        return fig.toolbar_button_onmouseover(event['data']);\n",
       "    }\n",
       "\n",
       "    for(var toolbar_ind in mpl.toolbar_items) {\n",
       "        var name = mpl.toolbar_items[toolbar_ind][0];\n",
       "        var tooltip = mpl.toolbar_items[toolbar_ind][1];\n",
       "        var image = mpl.toolbar_items[toolbar_ind][2];\n",
       "        var method_name = mpl.toolbar_items[toolbar_ind][3];\n",
       "\n",
       "        if (!name) {\n",
       "            // put a spacer in here.\n",
       "            continue;\n",
       "        }\n",
       "        var button = $('<button/>');\n",
       "        button.addClass('ui-button ui-widget ui-state-default ui-corner-all ' +\n",
       "                        'ui-button-icon-only');\n",
       "        button.attr('role', 'button');\n",
       "        button.attr('aria-disabled', 'false');\n",
       "        button.click(method_name, toolbar_event);\n",
       "        button.mouseover(tooltip, toolbar_mouse_event);\n",
       "\n",
       "        var icon_img = $('<span/>');\n",
       "        icon_img.addClass('ui-button-icon-primary ui-icon');\n",
       "        icon_img.addClass(image);\n",
       "        icon_img.addClass('ui-corner-all');\n",
       "\n",
       "        var tooltip_span = $('<span/>');\n",
       "        tooltip_span.addClass('ui-button-text');\n",
       "        tooltip_span.html(tooltip);\n",
       "\n",
       "        button.append(icon_img);\n",
       "        button.append(tooltip_span);\n",
       "\n",
       "        nav_element.append(button);\n",
       "    }\n",
       "\n",
       "    var fmt_picker_span = $('<span/>');\n",
       "\n",
       "    var fmt_picker = $('<select/>');\n",
       "    fmt_picker.addClass('mpl-toolbar-option ui-widget ui-widget-content');\n",
       "    fmt_picker_span.append(fmt_picker);\n",
       "    nav_element.append(fmt_picker_span);\n",
       "    this.format_dropdown = fmt_picker[0];\n",
       "\n",
       "    for (var ind in mpl.extensions) {\n",
       "        var fmt = mpl.extensions[ind];\n",
       "        var option = $(\n",
       "            '<option/>', {selected: fmt === mpl.default_extension}).html(fmt);\n",
       "        fmt_picker.append(option);\n",
       "    }\n",
       "\n",
       "    // Add hover states to the ui-buttons\n",
       "    $( \".ui-button\" ).hover(\n",
       "        function() { $(this).addClass(\"ui-state-hover\");},\n",
       "        function() { $(this).removeClass(\"ui-state-hover\");}\n",
       "    );\n",
       "\n",
       "    var status_bar = $('<span class=\"mpl-message\"/>');\n",
       "    nav_element.append(status_bar);\n",
       "    this.message = status_bar[0];\n",
       "}\n",
       "\n",
       "mpl.figure.prototype.request_resize = function(x_pixels, y_pixels) {\n",
       "    // Request matplotlib to resize the figure. Matplotlib will then trigger a resize in the client,\n",
       "    // which will in turn request a refresh of the image.\n",
       "    this.send_message('resize', {'width': x_pixels, 'height': y_pixels});\n",
       "}\n",
       "\n",
       "mpl.figure.prototype.send_message = function(type, properties) {\n",
       "    properties['type'] = type;\n",
       "    properties['figure_id'] = this.id;\n",
       "    this.ws.send(JSON.stringify(properties));\n",
       "}\n",
       "\n",
       "mpl.figure.prototype.send_draw_message = function() {\n",
       "    if (!this.waiting) {\n",
       "        this.waiting = true;\n",
       "        this.ws.send(JSON.stringify({type: \"draw\", figure_id: this.id}));\n",
       "    }\n",
       "}\n",
       "\n",
       "\n",
       "mpl.figure.prototype.handle_save = function(fig, msg) {\n",
       "    var format_dropdown = fig.format_dropdown;\n",
       "    var format = format_dropdown.options[format_dropdown.selectedIndex].value;\n",
       "    fig.ondownload(fig, format);\n",
       "}\n",
       "\n",
       "\n",
       "mpl.figure.prototype.handle_resize = function(fig, msg) {\n",
       "    var size = msg['size'];\n",
       "    if (size[0] != fig.canvas.width || size[1] != fig.canvas.height) {\n",
       "        fig._resize_canvas(size[0], size[1]);\n",
       "        fig.send_message(\"refresh\", {});\n",
       "    };\n",
       "}\n",
       "\n",
       "mpl.figure.prototype.handle_rubberband = function(fig, msg) {\n",
       "    var x0 = msg['x0'] / mpl.ratio;\n",
       "    var y0 = (fig.canvas.height - msg['y0']) / mpl.ratio;\n",
       "    var x1 = msg['x1'] / mpl.ratio;\n",
       "    var y1 = (fig.canvas.height - msg['y1']) / mpl.ratio;\n",
       "    x0 = Math.floor(x0) + 0.5;\n",
       "    y0 = Math.floor(y0) + 0.5;\n",
       "    x1 = Math.floor(x1) + 0.5;\n",
       "    y1 = Math.floor(y1) + 0.5;\n",
       "    var min_x = Math.min(x0, x1);\n",
       "    var min_y = Math.min(y0, y1);\n",
       "    var width = Math.abs(x1 - x0);\n",
       "    var height = Math.abs(y1 - y0);\n",
       "\n",
       "    fig.rubberband_context.clearRect(\n",
       "        0, 0, fig.canvas.width / mpl.ratio, fig.canvas.height / mpl.ratio);\n",
       "\n",
       "    fig.rubberband_context.strokeRect(min_x, min_y, width, height);\n",
       "}\n",
       "\n",
       "mpl.figure.prototype.handle_figure_label = function(fig, msg) {\n",
       "    // Updates the figure title.\n",
       "    fig.header.textContent = msg['label'];\n",
       "}\n",
       "\n",
       "mpl.figure.prototype.handle_cursor = function(fig, msg) {\n",
       "    var cursor = msg['cursor'];\n",
       "    switch(cursor)\n",
       "    {\n",
       "    case 0:\n",
       "        cursor = 'pointer';\n",
       "        break;\n",
       "    case 1:\n",
       "        cursor = 'default';\n",
       "        break;\n",
       "    case 2:\n",
       "        cursor = 'crosshair';\n",
       "        break;\n",
       "    case 3:\n",
       "        cursor = 'move';\n",
       "        break;\n",
       "    }\n",
       "    fig.rubberband_canvas.style.cursor = cursor;\n",
       "}\n",
       "\n",
       "mpl.figure.prototype.handle_message = function(fig, msg) {\n",
       "    fig.message.textContent = msg['message'];\n",
       "}\n",
       "\n",
       "mpl.figure.prototype.handle_draw = function(fig, msg) {\n",
       "    // Request the server to send over a new figure.\n",
       "    fig.send_draw_message();\n",
       "}\n",
       "\n",
       "mpl.figure.prototype.handle_image_mode = function(fig, msg) {\n",
       "    fig.image_mode = msg['mode'];\n",
       "}\n",
       "\n",
       "mpl.figure.prototype.updated_canvas_event = function() {\n",
       "    // Called whenever the canvas gets updated.\n",
       "    this.send_message(\"ack\", {});\n",
       "}\n",
       "\n",
       "// A function to construct a web socket function for onmessage handling.\n",
       "// Called in the figure constructor.\n",
       "mpl.figure.prototype._make_on_message_function = function(fig) {\n",
       "    return function socket_on_message(evt) {\n",
       "        if (evt.data instanceof Blob) {\n",
       "            /* FIXME: We get \"Resource interpreted as Image but\n",
       "             * transferred with MIME type text/plain:\" errors on\n",
       "             * Chrome.  But how to set the MIME type?  It doesn't seem\n",
       "             * to be part of the websocket stream */\n",
       "            evt.data.type = \"image/png\";\n",
       "\n",
       "            /* Free the memory for the previous frames */\n",
       "            if (fig.imageObj.src) {\n",
       "                (window.URL || window.webkitURL).revokeObjectURL(\n",
       "                    fig.imageObj.src);\n",
       "            }\n",
       "\n",
       "            fig.imageObj.src = (window.URL || window.webkitURL).createObjectURL(\n",
       "                evt.data);\n",
       "            fig.updated_canvas_event();\n",
       "            fig.waiting = false;\n",
       "            return;\n",
       "        }\n",
       "        else if (typeof evt.data === 'string' && evt.data.slice(0, 21) == \"data:image/png;base64\") {\n",
       "            fig.imageObj.src = evt.data;\n",
       "            fig.updated_canvas_event();\n",
       "            fig.waiting = false;\n",
       "            return;\n",
       "        }\n",
       "\n",
       "        var msg = JSON.parse(evt.data);\n",
       "        var msg_type = msg['type'];\n",
       "\n",
       "        // Call the  \"handle_{type}\" callback, which takes\n",
       "        // the figure and JSON message as its only arguments.\n",
       "        try {\n",
       "            var callback = fig[\"handle_\" + msg_type];\n",
       "        } catch (e) {\n",
       "            console.log(\"No handler for the '\" + msg_type + \"' message type: \", msg);\n",
       "            return;\n",
       "        }\n",
       "\n",
       "        if (callback) {\n",
       "            try {\n",
       "                // console.log(\"Handling '\" + msg_type + \"' message: \", msg);\n",
       "                callback(fig, msg);\n",
       "            } catch (e) {\n",
       "                console.log(\"Exception inside the 'handler_\" + msg_type + \"' callback:\", e, e.stack, msg);\n",
       "            }\n",
       "        }\n",
       "    };\n",
       "}\n",
       "\n",
       "// from http://stackoverflow.com/questions/1114465/getting-mouse-location-in-canvas\n",
       "mpl.findpos = function(e) {\n",
       "    //this section is from http://www.quirksmode.org/js/events_properties.html\n",
       "    var targ;\n",
       "    if (!e)\n",
       "        e = window.event;\n",
       "    if (e.target)\n",
       "        targ = e.target;\n",
       "    else if (e.srcElement)\n",
       "        targ = e.srcElement;\n",
       "    if (targ.nodeType == 3) // defeat Safari bug\n",
       "        targ = targ.parentNode;\n",
       "\n",
       "    // jQuery normalizes the pageX and pageY\n",
       "    // pageX,Y are the mouse positions relative to the document\n",
       "    // offset() returns the position of the element relative to the document\n",
       "    var x = e.pageX - $(targ).offset().left;\n",
       "    var y = e.pageY - $(targ).offset().top;\n",
       "\n",
       "    return {\"x\": x, \"y\": y};\n",
       "};\n",
       "\n",
       "/*\n",
       " * return a copy of an object with only non-object keys\n",
       " * we need this to avoid circular references\n",
       " * http://stackoverflow.com/a/24161582/3208463\n",
       " */\n",
       "function simpleKeys (original) {\n",
       "  return Object.keys(original).reduce(function (obj, key) {\n",
       "    if (typeof original[key] !== 'object')\n",
       "        obj[key] = original[key]\n",
       "    return obj;\n",
       "  }, {});\n",
       "}\n",
       "\n",
       "mpl.figure.prototype.mouse_event = function(event, name) {\n",
       "    var canvas_pos = mpl.findpos(event)\n",
       "\n",
       "    if (name === 'button_press')\n",
       "    {\n",
       "        this.canvas.focus();\n",
       "        this.canvas_div.focus();\n",
       "    }\n",
       "\n",
       "    var x = canvas_pos.x * mpl.ratio;\n",
       "    var y = canvas_pos.y * mpl.ratio;\n",
       "\n",
       "    this.send_message(name, {x: x, y: y, button: event.button,\n",
       "                             step: event.step,\n",
       "                             guiEvent: simpleKeys(event)});\n",
       "\n",
       "    /* This prevents the web browser from automatically changing to\n",
       "     * the text insertion cursor when the button is pressed.  We want\n",
       "     * to control all of the cursor setting manually through the\n",
       "     * 'cursor' event from matplotlib */\n",
       "    event.preventDefault();\n",
       "    return false;\n",
       "}\n",
       "\n",
       "mpl.figure.prototype._key_event_extra = function(event, name) {\n",
       "    // Handle any extra behaviour associated with a key event\n",
       "}\n",
       "\n",
       "mpl.figure.prototype.key_event = function(event, name) {\n",
       "\n",
       "    // Prevent repeat events\n",
       "    if (name == 'key_press')\n",
       "    {\n",
       "        if (event.which === this._key)\n",
       "            return;\n",
       "        else\n",
       "            this._key = event.which;\n",
       "    }\n",
       "    if (name == 'key_release')\n",
       "        this._key = null;\n",
       "\n",
       "    var value = '';\n",
       "    if (event.ctrlKey && event.which != 17)\n",
       "        value += \"ctrl+\";\n",
       "    if (event.altKey && event.which != 18)\n",
       "        value += \"alt+\";\n",
       "    if (event.shiftKey && event.which != 16)\n",
       "        value += \"shift+\";\n",
       "\n",
       "    value += 'k';\n",
       "    value += event.which.toString();\n",
       "\n",
       "    this._key_event_extra(event, name);\n",
       "\n",
       "    this.send_message(name, {key: value,\n",
       "                             guiEvent: simpleKeys(event)});\n",
       "    return false;\n",
       "}\n",
       "\n",
       "mpl.figure.prototype.toolbar_button_onclick = function(name) {\n",
       "    if (name == 'download') {\n",
       "        this.handle_save(this, null);\n",
       "    } else {\n",
       "        this.send_message(\"toolbar_button\", {name: name});\n",
       "    }\n",
       "};\n",
       "\n",
       "mpl.figure.prototype.toolbar_button_onmouseover = function(tooltip) {\n",
       "    this.message.textContent = tooltip;\n",
       "};\n",
       "mpl.toolbar_items = [[\"Home\", \"Reset original view\", \"fa fa-home icon-home\", \"home\"], [\"Back\", \"Back to previous view\", \"fa fa-arrow-left icon-arrow-left\", \"back\"], [\"Forward\", \"Forward to next view\", \"fa fa-arrow-right icon-arrow-right\", \"forward\"], [\"\", \"\", \"\", \"\"], [\"Pan\", \"Pan axes with left mouse, zoom with right\", \"fa fa-arrows icon-move\", \"pan\"], [\"Zoom\", \"Zoom to rectangle\", \"fa fa-square-o icon-check-empty\", \"zoom\"], [\"\", \"\", \"\", \"\"], [\"Download\", \"Download plot\", \"fa fa-floppy-o icon-save\", \"download\"]];\n",
       "\n",
       "mpl.extensions = [\"eps\", \"jpeg\", \"pdf\", \"png\", \"ps\", \"raw\", \"svg\", \"tif\"];\n",
       "\n",
       "mpl.default_extension = \"png\";var comm_websocket_adapter = function(comm) {\n",
       "    // Create a \"websocket\"-like object which calls the given IPython comm\n",
       "    // object with the appropriate methods. Currently this is a non binary\n",
       "    // socket, so there is still some room for performance tuning.\n",
       "    var ws = {};\n",
       "\n",
       "    ws.close = function() {\n",
       "        comm.close()\n",
       "    };\n",
       "    ws.send = function(m) {\n",
       "        //console.log('sending', m);\n",
       "        comm.send(m);\n",
       "    };\n",
       "    // Register the callback with on_msg.\n",
       "    comm.on_msg(function(msg) {\n",
       "        //console.log('receiving', msg['content']['data'], msg);\n",
       "        // Pass the mpl event to the overridden (by mpl) onmessage function.\n",
       "        ws.onmessage(msg['content']['data'])\n",
       "    });\n",
       "    return ws;\n",
       "}\n",
       "\n",
       "mpl.mpl_figure_comm = function(comm, msg) {\n",
       "    // This is the function which gets called when the mpl process\n",
       "    // starts-up an IPython Comm through the \"matplotlib\" channel.\n",
       "\n",
       "    var id = msg.content.data.id;\n",
       "    // Get hold of the div created by the display call when the Comm\n",
       "    // socket was opened in Python.\n",
       "    var element = $(\"#\" + id);\n",
       "    var ws_proxy = comm_websocket_adapter(comm)\n",
       "\n",
       "    function ondownload(figure, format) {\n",
       "        window.open(figure.imageObj.src);\n",
       "    }\n",
       "\n",
       "    var fig = new mpl.figure(id, ws_proxy,\n",
       "                           ondownload,\n",
       "                           element.get(0));\n",
       "\n",
       "    // Call onopen now - mpl needs it, as it is assuming we've passed it a real\n",
       "    // web socket which is closed, not our websocket->open comm proxy.\n",
       "    ws_proxy.onopen();\n",
       "\n",
       "    fig.parent_element = element.get(0);\n",
       "    fig.cell_info = mpl.find_output_cell(\"<div id='\" + id + \"'></div>\");\n",
       "    if (!fig.cell_info) {\n",
       "        console.error(\"Failed to find cell for figure\", id, fig);\n",
       "        return;\n",
       "    }\n",
       "\n",
       "    var output_index = fig.cell_info[2]\n",
       "    var cell = fig.cell_info[0];\n",
       "\n",
       "};\n",
       "\n",
       "mpl.figure.prototype.handle_close = function(fig, msg) {\n",
       "    var width = fig.canvas.width/mpl.ratio\n",
       "    fig.root.unbind('remove')\n",
       "\n",
       "    // Update the output cell to use the data from the current canvas.\n",
       "    fig.push_to_output();\n",
       "    var dataURL = fig.canvas.toDataURL();\n",
       "    // Re-enable the keyboard manager in IPython - without this line, in FF,\n",
       "    // the notebook keyboard shortcuts fail.\n",
       "    IPython.keyboard_manager.enable()\n",
       "    $(fig.parent_element).html('<img src=\"' + dataURL + '\" width=\"' + width + '\">');\n",
       "    fig.close_ws(fig, msg);\n",
       "}\n",
       "\n",
       "mpl.figure.prototype.close_ws = function(fig, msg){\n",
       "    fig.send_message('closing', msg);\n",
       "    // fig.ws.close()\n",
       "}\n",
       "\n",
       "mpl.figure.prototype.push_to_output = function(remove_interactive) {\n",
       "    // Turn the data on the canvas into data in the output cell.\n",
       "    var width = this.canvas.width/mpl.ratio\n",
       "    var dataURL = this.canvas.toDataURL();\n",
       "    this.cell_info[1]['text/html'] = '<img src=\"' + dataURL + '\" width=\"' + width + '\">';\n",
       "}\n",
       "\n",
       "mpl.figure.prototype.updated_canvas_event = function() {\n",
       "    // Tell IPython that the notebook contents must change.\n",
       "    IPython.notebook.set_dirty(true);\n",
       "    this.send_message(\"ack\", {});\n",
       "    var fig = this;\n",
       "    // Wait a second, then push the new image to the DOM so\n",
       "    // that it is saved nicely (might be nice to debounce this).\n",
       "    setTimeout(function () { fig.push_to_output() }, 1000);\n",
       "}\n",
       "\n",
       "mpl.figure.prototype._init_toolbar = function() {\n",
       "    var fig = this;\n",
       "\n",
       "    var nav_element = $('<div/>');\n",
       "    nav_element.attr('style', 'width: 100%');\n",
       "    this.root.append(nav_element);\n",
       "\n",
       "    // Define a callback function for later on.\n",
       "    function toolbar_event(event) {\n",
       "        return fig.toolbar_button_onclick(event['data']);\n",
       "    }\n",
       "    function toolbar_mouse_event(event) {\n",
       "        return fig.toolbar_button_onmouseover(event['data']);\n",
       "    }\n",
       "\n",
       "    for(var toolbar_ind in mpl.toolbar_items){\n",
       "        var name = mpl.toolbar_items[toolbar_ind][0];\n",
       "        var tooltip = mpl.toolbar_items[toolbar_ind][1];\n",
       "        var image = mpl.toolbar_items[toolbar_ind][2];\n",
       "        var method_name = mpl.toolbar_items[toolbar_ind][3];\n",
       "\n",
       "        if (!name) { continue; };\n",
       "\n",
       "        var button = $('<button class=\"btn btn-default\" href=\"#\" title=\"' + name + '\"><i class=\"fa ' + image + ' fa-lg\"></i></button>');\n",
       "        button.click(method_name, toolbar_event);\n",
       "        button.mouseover(tooltip, toolbar_mouse_event);\n",
       "        nav_element.append(button);\n",
       "    }\n",
       "\n",
       "    // Add the status bar.\n",
       "    var status_bar = $('<span class=\"mpl-message\" style=\"text-align:right; float: right;\"/>');\n",
       "    nav_element.append(status_bar);\n",
       "    this.message = status_bar[0];\n",
       "\n",
       "    // Add the close button to the window.\n",
       "    var buttongrp = $('<div class=\"btn-group inline pull-right\"></div>');\n",
       "    var button = $('<button class=\"btn btn-mini btn-primary\" href=\"#\" title=\"Stop Interaction\"><i class=\"fa fa-power-off icon-remove icon-large\"></i></button>');\n",
       "    button.click(function (evt) { fig.handle_close(fig, {}); } );\n",
       "    button.mouseover('Stop Interaction', toolbar_mouse_event);\n",
       "    buttongrp.append(button);\n",
       "    var titlebar = this.root.find($('.ui-dialog-titlebar'));\n",
       "    titlebar.prepend(buttongrp);\n",
       "}\n",
       "\n",
       "mpl.figure.prototype._root_extra_style = function(el){\n",
       "    var fig = this\n",
       "    el.on(\"remove\", function(){\n",
       "\tfig.close_ws(fig, {});\n",
       "    });\n",
       "}\n",
       "\n",
       "mpl.figure.prototype._canvas_extra_style = function(el){\n",
       "    // this is important to make the div 'focusable\n",
       "    el.attr('tabindex', 0)\n",
       "    // reach out to IPython and tell the keyboard manager to turn it's self\n",
       "    // off when our div gets focus\n",
       "\n",
       "    // location in version 3\n",
       "    if (IPython.notebook.keyboard_manager) {\n",
       "        IPython.notebook.keyboard_manager.register_events(el);\n",
       "    }\n",
       "    else {\n",
       "        // location in version 2\n",
       "        IPython.keyboard_manager.register_events(el);\n",
       "    }\n",
       "\n",
       "}\n",
       "\n",
       "mpl.figure.prototype._key_event_extra = function(event, name) {\n",
       "    var manager = IPython.notebook.keyboard_manager;\n",
       "    if (!manager)\n",
       "        manager = IPython.keyboard_manager;\n",
       "\n",
       "    // Check for shift+enter\n",
       "    if (event.shiftKey && event.which == 13) {\n",
       "        this.canvas_div.blur();\n",
       "        // select the cell after this one\n",
       "        var index = IPython.notebook.find_cell_index(this.cell_info[0]);\n",
       "        IPython.notebook.select(index + 1);\n",
       "    }\n",
       "}\n",
       "\n",
       "mpl.figure.prototype.handle_save = function(fig, msg) {\n",
       "    fig.ondownload(fig, null);\n",
       "}\n",
       "\n",
       "\n",
       "mpl.find_output_cell = function(html_output) {\n",
       "    // Return the cell and output element which can be found *uniquely* in the notebook.\n",
       "    // Note - this is a bit hacky, but it is done because the \"notebook_saving.Notebook\"\n",
       "    // IPython event is triggered only after the cells have been serialised, which for\n",
       "    // our purposes (turning an active figure into a static one), is too late.\n",
       "    var cells = IPython.notebook.get_cells();\n",
       "    var ncells = cells.length;\n",
       "    for (var i=0; i<ncells; i++) {\n",
       "        var cell = cells[i];\n",
       "        if (cell.cell_type === 'code'){\n",
       "            for (var j=0; j<cell.output_area.outputs.length; j++) {\n",
       "                var data = cell.output_area.outputs[j];\n",
       "                if (data.data) {\n",
       "                    // IPython >= 3 moved mimebundle to data attribute of output\n",
       "                    data = data.data;\n",
       "                }\n",
       "                if (data['text/html'] == html_output) {\n",
       "                    return [cell, data, j];\n",
       "                }\n",
       "            }\n",
       "        }\n",
       "    }\n",
       "}\n",
       "\n",
       "// Register the function which deals with the matplotlib target/channel.\n",
       "// The kernel may be null if the page has been refreshed.\n",
       "if (IPython.notebook.kernel != null) {\n",
       "    IPython.notebook.kernel.comm_manager.register_target('matplotlib', mpl.mpl_figure_comm);\n",
       "}\n"
      ],
      "text/plain": [
       "<IPython.core.display.Javascript object>"
      ]
     },
     "metadata": {},
     "output_type": "display_data"
    },
    {
     "data": {
      "text/html": [
       "<img src=\"data:image/png;base64,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\" width=\"899.9999479814039\">"
      ],
      "text/plain": [
       "<IPython.core.display.HTML object>"
      ]
     },
     "metadata": {},
     "output_type": "display_data"
    },
    {
     "name": "stdout",
     "output_type": "stream",
     "text": [
      "Prequential Evaluation\n",
      "Evaluating 1 target(s).\n",
      "Pre-training on 500 sample(s).\n",
      "Evaluating...\n",
      " #################### [100%] [21.91s]\n",
      "Processed samples: 9198\n",
      "Mean performance:\n",
      "M0 - Accuracy     : 0.9505\n",
      "M0 - Recall: 0.9619\n",
      "M0 - F1 score: 0.9672\n"
     ]
    },
    {
     "data": {
      "text/plain": [
       "[NaiveBayes(nominal_attributes=None)]"
      ]
     },
     "execution_count": 222,
     "metadata": {},
     "output_type": "execute_result"
    }
   ],
   "source": [
    "# 3. Configurar el evaluador\n",
    "evaluator = EvaluatePrequential(show_plot=True,\n",
    "                                pretrain_size=500,n_wait = 100,data_points_for_classification=True,\n",
    "                                max_samples=20000,output_file='results.csv',metrics=['accuracy','recall','f1'])\n",
    "# 4. Run evaluation\n",
    "evaluator.evaluate(stream=stream_1, model=clf)"
   ]
  },
  {
   "cell_type": "markdown",
   "metadata": {},
   "source": [
    "### Bagging Online con Naive Bayes como weak learner:"
   ]
  },
  {
   "cell_type": "code",
   "execution_count": 9,
   "metadata": {
    "scrolled": true
   },
   "outputs": [
    {
     "data": {
      "text/plain": [
       "OzaBagging(base_estimator=NaiveBayes(nominal_attributes=None), n_estimators=250,\n",
       "           random_state=None)"
      ]
     },
     "execution_count": 9,
     "metadata": {},
     "output_type": "execute_result"
    }
   ],
   "source": [
    "# 2 Bagging Oza  con base naives bayes \n",
    "nb=NaiveBayes()\n",
    "clf1 = OzaBagging(base_estimator=nb, n_estimators=250)\n",
    "clf1"
   ]
  },
  {
   "cell_type": "code",
   "execution_count": 11,
   "metadata": {},
   "outputs": [
    {
     "name": "stdout",
     "output_type": "stream",
     "text": [
      "Prequential Evaluation\n",
      "Evaluating 1 target(s).\n",
      "Pre-training on 500 sample(s).\n",
      "Evaluating...\n",
      " #################### [100%] [1829.42s]\n",
      "Processed samples: 9198\n",
      "Mean performance:\n",
      "M0 - Accuracy     : 0.9515\n",
      "M0 - Recall: 0.9620\n"
     ]
    },
    {
     "data": {
      "text/plain": [
       "[OzaBagging(base_estimator=NaiveBayes(nominal_attributes=None), n_estimators=250,\n",
       "            random_state=None)]"
      ]
     },
     "execution_count": 11,
     "metadata": {},
     "output_type": "execute_result"
    }
   ],
   "source": [
    "# 3. Configurar el evaluador\n",
    "evaluator = EvaluatePrequential(show_plot=False,metrics=['accuracy','recall'],n_wait = 100,\n",
    "                                pretrain_size=500,\n",
    "                                max_samples=10000)\n",
    "# 4. Run evaluation\n",
    "\n",
    "evaluator.evaluate(stream=stream_1, model=clf1)"
   ]
  },
  {
   "cell_type": "markdown",
   "metadata": {},
   "source": [
    "### Boosting Online con Naive Bayes como weak learner:"
   ]
  },
  {
   "cell_type": "code",
   "execution_count": 18,
   "metadata": {
    "scrolled": true
   },
   "outputs": [
    {
     "data": {
      "text/plain": [
       "OnlineBoosting(base_estimator=NaiveBayes(nominal_attributes=None),\n",
       "               drift_detection=True, n_estimators=None, random_state=None)"
      ]
     },
     "execution_count": 18,
     "metadata": {},
     "output_type": "execute_result"
    }
   ],
   "source": [
    "from skmultiflow.meta import OnlineBoosting\n",
    "from sklearn import tree\n",
    "#  Boosting Oza  con base naives bayes \n",
    "nb1=NaiveBayes()\n",
    "clf2 = OnlineBoosting(base_estimator=nb1, n_estimators=250)\n",
    "clf2"
   ]
  },
  {
   "cell_type": "code",
   "execution_count": 19,
   "metadata": {
    "scrolled": false
   },
   "outputs": [
    {
     "name": "stdout",
     "output_type": "stream",
     "text": [
      "Prequential Evaluation\n",
      "Evaluating 1 target(s).\n",
      "Pre-training on 500 sample(s).\n",
      "Evaluating...\n",
      "unsupported operand type(s) for -: 'int' and 'NoneType'\n",
      "Processed samples: 501\n",
      "Mean performance:\n",
      "M0 - Accuracy     : 1.0000\n"
     ]
    },
    {
     "ename": "TypeError",
     "evalue": "'NoneType' object is not subscriptable",
     "output_type": "error",
     "traceback": [
      "\u001b[1;31m---------------------------------------------------------------------------\u001b[0m",
      "\u001b[1;31mTypeError\u001b[0m                                 Traceback (most recent call last)",
      "\u001b[1;32m<ipython-input-19-f9d2e3ac7147>\u001b[0m in \u001b[0;36m<module>\u001b[1;34m\u001b[0m\n\u001b[0;32m      4\u001b[0m                                 max_samples=10000)\n\u001b[0;32m      5\u001b[0m \u001b[1;31m# 4. Run evaluation\u001b[0m\u001b[1;33m\u001b[0m\u001b[1;33m\u001b[0m\u001b[1;33m\u001b[0m\u001b[0m\n\u001b[1;32m----> 6\u001b[1;33m \u001b[0mevaluator\u001b[0m\u001b[1;33m.\u001b[0m\u001b[0mevaluate\u001b[0m\u001b[1;33m(\u001b[0m\u001b[0mstream\u001b[0m\u001b[1;33m=\u001b[0m\u001b[0mstream_1\u001b[0m\u001b[1;33m,\u001b[0m \u001b[0mmodel\u001b[0m\u001b[1;33m=\u001b[0m\u001b[0mclf2\u001b[0m\u001b[1;33m)\u001b[0m\u001b[1;33m\u001b[0m\u001b[1;33m\u001b[0m\u001b[0m\n\u001b[0m",
      "\u001b[1;32m~\\Anaconda3\\lib\\site-packages\\skmultiflow\\evaluation\\evaluate_prequential.py\u001b[0m in \u001b[0;36mevaluate\u001b[1;34m(self, stream, model, model_names)\u001b[0m\n\u001b[0;32m    248\u001b[0m             \u001b[0mself\u001b[0m\u001b[1;33m.\u001b[0m\u001b[0m_init_file\u001b[0m\u001b[1;33m(\u001b[0m\u001b[1;33m)\u001b[0m\u001b[1;33m\u001b[0m\u001b[1;33m\u001b[0m\u001b[0m\n\u001b[0;32m    249\u001b[0m \u001b[1;33m\u001b[0m\u001b[0m\n\u001b[1;32m--> 250\u001b[1;33m             \u001b[0mself\u001b[0m\u001b[1;33m.\u001b[0m\u001b[0mmodel\u001b[0m \u001b[1;33m=\u001b[0m \u001b[0mself\u001b[0m\u001b[1;33m.\u001b[0m\u001b[0m_train_and_test\u001b[0m\u001b[1;33m(\u001b[0m\u001b[1;33m)\u001b[0m\u001b[1;33m\u001b[0m\u001b[1;33m\u001b[0m\u001b[0m\n\u001b[0m\u001b[0;32m    251\u001b[0m \u001b[1;33m\u001b[0m\u001b[0m\n\u001b[0;32m    252\u001b[0m             \u001b[1;32mif\u001b[0m \u001b[0mself\u001b[0m\u001b[1;33m.\u001b[0m\u001b[0mshow_plot\u001b[0m\u001b[1;33m:\u001b[0m\u001b[1;33m\u001b[0m\u001b[1;33m\u001b[0m\u001b[0m\n",
      "\u001b[1;32m~\\Anaconda3\\lib\\site-packages\\skmultiflow\\evaluation\\evaluate_prequential.py\u001b[0m in \u001b[0;36m_train_and_test\u001b[1;34m(self)\u001b[0m\n\u001b[0;32m    373\u001b[0m \u001b[1;33m\u001b[0m\u001b[0m\n\u001b[0;32m    374\u001b[0m         \u001b[1;32mif\u001b[0m \u001b[0mlen\u001b[0m\u001b[1;33m(\u001b[0m\u001b[0mset\u001b[0m\u001b[1;33m(\u001b[0m\u001b[0mself\u001b[0m\u001b[1;33m.\u001b[0m\u001b[0mmetrics\u001b[0m\u001b[1;33m)\u001b[0m\u001b[1;33m.\u001b[0m\u001b[0mdifference\u001b[0m\u001b[1;33m(\u001b[0m\u001b[1;33m{\u001b[0m\u001b[0mconstants\u001b[0m\u001b[1;33m.\u001b[0m\u001b[0mDATA_POINTS\u001b[0m\u001b[1;33m}\u001b[0m\u001b[1;33m)\u001b[0m\u001b[1;33m)\u001b[0m \u001b[1;33m>\u001b[0m \u001b[1;36m0\u001b[0m\u001b[1;33m:\u001b[0m\u001b[1;33m\u001b[0m\u001b[1;33m\u001b[0m\u001b[0m\n\u001b[1;32m--> 375\u001b[1;33m             \u001b[0mself\u001b[0m\u001b[1;33m.\u001b[0m\u001b[0mevaluation_summary\u001b[0m\u001b[1;33m(\u001b[0m\u001b[1;33m)\u001b[0m\u001b[1;33m\u001b[0m\u001b[1;33m\u001b[0m\u001b[0m\n\u001b[0m\u001b[0;32m    376\u001b[0m         \u001b[1;32melse\u001b[0m\u001b[1;33m:\u001b[0m\u001b[1;33m\u001b[0m\u001b[1;33m\u001b[0m\u001b[0m\n\u001b[0;32m    377\u001b[0m             \u001b[0mprint\u001b[0m\u001b[1;33m(\u001b[0m\u001b[1;34m'Done'\u001b[0m\u001b[1;33m)\u001b[0m\u001b[1;33m\u001b[0m\u001b[1;33m\u001b[0m\u001b[0m\n",
      "\u001b[1;32m~\\Anaconda3\\lib\\site-packages\\skmultiflow\\evaluation\\base_evaluator.py\u001b[0m in \u001b[0;36mevaluation_summary\u001b[1;34m(self)\u001b[0m\n\u001b[0;32m    619\u001b[0m                 print('{} - Recall: {:.4f}'.format(\n\u001b[0;32m    620\u001b[0m                     \u001b[0mself\u001b[0m\u001b[1;33m.\u001b[0m\u001b[0mmodel_names\u001b[0m\u001b[1;33m[\u001b[0m\u001b[0mi\u001b[0m\u001b[1;33m]\u001b[0m\u001b[1;33m,\u001b[0m\u001b[1;33m\u001b[0m\u001b[1;33m\u001b[0m\u001b[0m\n\u001b[1;32m--> 621\u001b[1;33m                     self._data_buffer.get_data(metric_id=constants.RECALL, data_id=constants.MEAN)[i]))\n\u001b[0m\u001b[0;32m    622\u001b[0m             \u001b[1;32mif\u001b[0m \u001b[0mconstants\u001b[0m\u001b[1;33m.\u001b[0m\u001b[0mF1_SCORE\u001b[0m \u001b[1;32min\u001b[0m \u001b[0mself\u001b[0m\u001b[1;33m.\u001b[0m\u001b[0mmetrics\u001b[0m\u001b[1;33m:\u001b[0m\u001b[1;33m\u001b[0m\u001b[1;33m\u001b[0m\u001b[0m\n\u001b[0;32m    623\u001b[0m                 print('{} - F1 score: {:.4f}'.format(\n",
      "\u001b[1;31mTypeError\u001b[0m: 'NoneType' object is not subscriptable"
     ]
    }
   ],
   "source": [
    "\n",
    "# 3. Configurar el evaluador\n",
    "evaluator = EvaluatePrequential(show_plot=False,metrics=['accuracy','recall'],n_wait = 100,\n",
    "                                pretrain_size=500,\n",
    "                                max_samples=10000)\n",
    "# 4. Run evaluation\n",
    "evaluator.evaluate(stream=stream_1, model=clf2)"
   ]
  },
  {
   "cell_type": "code",
   "execution_count": null,
   "metadata": {},
   "outputs": [],
   "source": []
  }
 ],
 "metadata": {
  "kernelspec": {
   "display_name": "Python 3",
   "language": "python",
   "name": "python3"
  },
  "language_info": {
   "codemirror_mode": {
    "name": "ipython",
    "version": 3
   },
   "file_extension": ".py",
   "mimetype": "text/x-python",
   "name": "python",
   "nbconvert_exporter": "python",
   "pygments_lexer": "ipython3",
   "version": "3.7.6"
  }
 },
 "nbformat": 4,
 "nbformat_minor": 2
}
